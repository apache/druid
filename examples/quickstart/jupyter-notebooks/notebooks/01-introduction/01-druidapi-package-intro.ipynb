{
 "cells": [
  {
   "attachments": {},
   "cell_type": "markdown",
   "id": "ce2efaaa",
   "metadata": {},
   "source": [
    "# Learn the Druid Python API\n",
    "\n",
    "<!--\n",
    "  ~ Licensed to the Apache Software Foundation (ASF) under one\n",
    "  ~ or more contributor license agreements.  See the NOTICE file\n",
    "  ~ distributed with this work for additional information\n",
    "  ~ regarding copyright ownership.  The ASF licenses this file\n",
    "  ~ to you under the Apache License, Version 2.0 (the\n",
    "  ~ \"License\"); you may not use this file except in compliance\n",
    "  ~ with the License.  You may obtain a copy of the License at\n",
    "  ~\n",
    "  ~   http://www.apache.org/licenses/LICENSE-2.0\n",
    "  ~\n",
    "  ~ Unless required by applicable law or agreed to in writing,\n",
    "  ~ software distributed under the License is distributed on an\n",
    "  ~ \"AS IS\" BASIS, WITHOUT WARRANTIES OR CONDITIONS OF ANY\n",
    "  ~ KIND, either express or implied.  See the License for the\n",
    "  ~ specific language governing permissions and limitations\n",
    "  ~ under the License.\n",
    "  -->\n",
    "\n",
    "This notebook provides a quick introduction to the Python wrapper around the [Druid REST API](api-tutorial.ipynb). This notebook assumes you are familiar with the basics of the REST API, and the [set of operations which Druid provides](https://druid.apache.org/docs/latest/api-reference/api-reference.html). This tutorial focuses on using Python to access those APIs rather than explaining the APIs themselves. The APIs themselves are covered in other notebooks that use the Python API.\n",
    "\n",
    "This tutorial works with Druid 25.0.0 or later.\n",
    "\n",
    "The Druid Python API is primarily intended to help with these notebook tutorials. It can also be used in your own ad-hoc notebooks, or in a regular Python program.\n",
    "\n",
    "The Druid Python API is a work in progress. The Druid team adds API wrappers as needed for the notebook tutorials. If you find you need additional wrappers, please feel free to add them, and post a PR to Apache Druid with your additions.\n",
    "\n",
    "The API provides two levels of functions. Most are simple wrappers around Druid's REST APIs. Others add additional code to make the API easier to use. The SQL query interface is a prime example: extra code translates a simple SQL query into Druid's `SQLQuery` object and interprets the results into a form that can be displayed in a notebook.\n",
    "\n",
    "This notebook contains sample output to allow it to function as a reference. To run it yourself, start by using the `Kernel` &rarr; `Restart & Clear Output` menu command to clear the sample output.\n",
    "\n",
    "Start by importing the `druidapi` package from the same folder as this notebook."
   ]
  },
  {
   "cell_type": "code",
   "execution_count": 1,
   "id": "6d90ca5d",
   "metadata": {},
   "outputs": [],
   "source": [
    "import druidapi\n",
    "import os"
   ]
  },
  {
   "attachments": {},
   "cell_type": "markdown",
   "id": "fb68a838",
   "metadata": {},
   "source": [
    "Next, connect to your cluster by providing the router endpoint. The code assumes select the Druid instance using the environment variable DRUID_HOST to select the Druid instance to connect to. By default it uses `router` which is the name of the docker container running locally. If you need to connect to annother Druid instance you cat set DRUID_HOST to that hostname. \n",
    "For example, if using a local quickstart of Druid running outsite of docker compose, you can use:\n",
    "\n",
    "DRUID_HOST=host.docker.internal DRUID_VERSION=26.0.0\n",
    "\n",
    "The API uses the router to forward messages to each of Druid's services so that you don't have to keep track of the host and port for each service.\n",
    "\n",
    "\n",
    "The `jupyter_client()` method waits for the cluster to be ready and sets up the client to display tables and messages as HTML. To use this code without waiting and without HTML formatting, use the `client()` method instead."
   ]
  },
  {
   "cell_type": "code",
   "execution_count": 2,
   "id": "ae601081",
   "metadata": {},
   "outputs": [
    {
     "data": {
      "text/html": [
       "\n",
       "<style>\n",
       "  .druid table {\n",
       "    border: 1px solid black;\n",
       "    border-collapse: collapse;\n",
       "  }\n",
       "\n",
       "  .druid th, .druid td {\n",
       "    padding: 4px 1em ;\n",
       "    text-align: left;\n",
       "  }\n",
       "\n",
       "  td.druid-right, th.druid-right {\n",
       "    text-align: right;\n",
       "  }\n",
       "\n",
       "  td.druid-center, th.druid-center {\n",
       "    text-align: center;\n",
       "  }\n",
       "\n",
       "  .druid .druid-left {\n",
       "    text-align: left;\n",
       "  }\n",
       "\n",
       "  .druid-alert {\n",
       "    font-weight: bold;\n",
       "  }\n",
       "\n",
       "  .druid-error {\n",
       "    color: red;\n",
       "  }\n",
       "</style>\n"
      ],
      "text/plain": [
       "<IPython.core.display.HTML object>"
      ]
     },
     "metadata": {},
     "output_type": "display_data"
    }
   ],
   "source": [
    "druid_host = f\"http://{os.environ['DRUID_HOST']}:8888\"\n",
    "druid = druidapi.jupyter_client(druid_host)"
   ]
  },
  {
   "attachments": {},
   "cell_type": "markdown",
   "id": "8b4e774b",
   "metadata": {},
   "source": [
    "## Status Client\n",
    "\n",
    "The SDK groups Druid REST API calls into categories, with a client for each. Start with the status client."
   ]
  },
  {
   "cell_type": "code",
   "execution_count": 3,
   "id": "ff16fc3b",
   "metadata": {},
   "outputs": [],
   "source": [
    "status_client = druid.status"
   ]
  },
  {
   "attachments": {},
   "cell_type": "markdown",
   "id": "be992774",
   "metadata": {},
   "source": [
    "Use the Python `help()` function to learn what methods are avaialble."
   ]
  },
  {
   "cell_type": "code",
   "execution_count": 4,
   "id": "03f26417",
   "metadata": {},
   "outputs": [
    {
     "name": "stdout",
     "output_type": "stream",
     "text": [
      "Help on StatusClient in module druidapi.status object:\n",
      "\n",
      "class StatusClient(builtins.object)\n",
      " |  StatusClient(rest_client, owns_client=False)\n",
      " |  \n",
      " |  Client for status APIs. These APIs are available on all nodes.\n",
      " |  If used with the Router, they report the status of just the Router.\n",
      " |  To check the status of other nodes, first create a REST endpoint for that\n",
      " |  node:\n",
      " |  \n",
      " |    status_client = StatusClient(DruidRestClient(\"<service endpoint>\"))\n",
      " |  \n",
      " |  You can find the service endpoints by querying the sys.servers table using SQL.\n",
      " |  \n",
      " |  See https://druid.apache.org/docs/latest/api-reference/api-reference.html#process-information\n",
      " |  \n",
      " |  Methods defined here:\n",
      " |  \n",
      " |  __init__(self, rest_client, owns_client=False)\n",
      " |      Initialize self.  See help(type(self)) for accurate signature.\n",
      " |  \n",
      " |  close(self)\n",
      " |  \n",
      " |  wait_until_ready(self)\n",
      " |      Sleeps until the node reports itself as healthy. Will run forever if the node\n",
      " |      is down or never becomes healthy.\n",
      " |  \n",
      " |  ----------------------------------------------------------------------\n",
      " |  Readonly properties defined here:\n",
      " |  \n",
      " |  brokers\n",
      " |      Returns the list of broker nodes known to this node. Must be called on the Router.\n",
      " |  \n",
      " |  in_cluster\n",
      " |      Returns `True` if the node is visible within the cluster, `False` if not.\n",
      " |      That is, returns the value of the `{\"selfDiscovered\": true/false}`\n",
      " |      field in the response.\n",
      " |      \n",
      " |      GET `/status/selfDiscovered/status`\n",
      " |  \n",
      " |  is_healthy\n",
      " |      Returns `True` if the node is healthy, `False` otherwise. Check service health\n",
      " |      before using other Druid API methods to ensure the server is ready.\n",
      " |      \n",
      " |      See also `wait_until_ready()`.\n",
      " |      \n",
      " |      GET `/status/health`\n",
      " |  \n",
      " |  properties\n",
      " |      Returns the effective set of Java properties used by the service, including\n",
      " |      system properties and properties from the `common_runtime.propeties` and\n",
      " |      `runtime.properties` files.\n",
      " |      \n",
      " |      GET `/status/properties`\n",
      " |  \n",
      " |  status\n",
      " |      Returns the Druid version, loaded extensions, memory used, total memory \n",
      " |      and other useful information about the Druid service.\n",
      " |      \n",
      " |      GET `/status`\n",
      " |  \n",
      " |  version\n",
      " |      Returns the version of the Druid server. If the server is running in an IDE, the\n",
      " |      version will be empty.\n",
      " |  \n",
      " |  ----------------------------------------------------------------------\n",
      " |  Data descriptors defined here:\n",
      " |  \n",
      " |  __dict__\n",
      " |      dictionary for instance variables (if defined)\n",
      " |  \n",
      " |  __weakref__\n",
      " |      list of weak references to the object (if defined)\n",
      "\n"
     ]
    }
   ],
   "source": [
    "help(status_client)"
   ]
  },
  {
   "attachments": {},
   "cell_type": "markdown",
   "id": "e803c9fe",
   "metadata": {},
   "source": [
    "Check the version of your cluster. Some of these notebooks illustrate newer features available only on specific versions of Druid."
   ]
  },
  {
   "cell_type": "code",
   "execution_count": 5,
   "id": "2faa0d81",
   "metadata": {},
   "outputs": [
    {
     "data": {
      "text/plain": [
       "'26.0.0'"
      ]
     },
     "execution_count": 5,
     "metadata": {},
     "output_type": "execute_result"
    }
   ],
   "source": [
    "status_client.version"
   ]
  },
  {
   "attachments": {},
   "cell_type": "markdown",
   "id": "d78a6c35",
   "metadata": {},
   "source": [
    "You can also check which extensions are loaded in your cluster. Some notebooks require specific extensions to be available."
   ]
  },
  {
   "cell_type": "code",
   "execution_count": 6,
   "id": "1001f412",
   "metadata": {},
   "outputs": [
    {
     "data": {
      "text/plain": [
       "'[\"druid-histogram\", \"druid-datasketches\", \"druid-lookups-cached-global\", \"postgresql-metadata-storage\", \"druid-multi-stage-query\", \"druid-kafka-indexing-service\"]'"
      ]
     },
     "execution_count": 6,
     "metadata": {},
     "output_type": "execute_result"
    }
   ],
   "source": [
    "status_client.properties['druid.extensions.loadList']"
   ]
  },
  {
   "attachments": {},
   "cell_type": "markdown",
   "id": "012b2e61",
   "metadata": {},
   "source": [
    "## Display Client\n",
    "\n",
    "The display client performs Druid operations, then formats the results for display in a notebook. Running SQL queries in a notebook is easy with the display client.\n",
    "\n",
    "When run outside a notebook, the display client formats results as text. The display client is the most convenient way to work with Druid in a notebook. Most operations also have a form that returns results as Python objects rather than displaying them. Use these methods if you write code to work with the results. Here the goal is just to interact with Druid."
   ]
  },
  {
   "cell_type": "code",
   "execution_count": 7,
   "id": "f867f1f0",
   "metadata": {},
   "outputs": [],
   "source": [
    "display = druid.display"
   ]
  },
  {
   "attachments": {},
   "cell_type": "markdown",
   "id": "d051bc5e",
   "metadata": {},
   "source": [
    "Start by getting a list of schemas."
   ]
  },
  {
   "cell_type": "code",
   "execution_count": 8,
   "id": "dd8387e0",
   "metadata": {},
   "outputs": [
    {
     "data": {
      "text/html": [
       "<div class=\"druid\"><table>\n",
       "<tr><th>SchemaName</th></tr>\n",
       "<tr><td>INFORMATION_SCHEMA</td></tr>\n",
       "<tr><td>druid</td></tr>\n",
       "<tr><td>lookup</td></tr>\n",
       "<tr><td>sys</td></tr>\n",
       "<tr><td>view</td></tr>\n",
       "</table></div>"
      ],
      "text/plain": [
       "<IPython.core.display.HTML object>"
      ]
     },
     "metadata": {},
     "output_type": "display_data"
    }
   ],
   "source": [
    "display.schemas()"
   ]
  },
  {
   "attachments": {},
   "cell_type": "markdown",
   "id": "b8261ab0",
   "metadata": {},
   "source": [
    "Then, retreive the tables (or datasources) within any schema."
   ]
  },
  {
   "cell_type": "code",
   "execution_count": 9,
   "id": "64dcb46a",
   "metadata": {},
   "outputs": [
    {
     "data": {
      "text/html": [
       "<div class=\"druid\"><table>\n",
       "<tr><th>TableName</th></tr>\n",
       "<tr><td>COLUMNS</td></tr>\n",
       "<tr><td>SCHEMATA</td></tr>\n",
       "<tr><td>TABLES</td></tr>\n",
       "</table></div>"
      ],
      "text/plain": [
       "<IPython.core.display.HTML object>"
      ]
     },
     "metadata": {},
     "output_type": "display_data"
    }
   ],
   "source": [
    "display.tables('INFORMATION_SCHEMA')"
   ]
  },
  {
   "attachments": {},
   "cell_type": "markdown",
   "id": "ff311595",
   "metadata": {},
   "source": [
    "The above shows the list of datasources by default. You'll get an empty result if you have no datasources yet."
   ]
  },
  {
   "cell_type": "code",
   "execution_count": null,
   "id": "616770ce",
   "metadata": {},
   "outputs": [],
   "source": [
    "display.tables()"
   ]
  },
  {
   "attachments": {},
   "cell_type": "markdown",
   "id": "7392e484",
   "metadata": {},
   "source": [
    "You can easily run a query and show the results:"
   ]
  },
  {
   "cell_type": "code",
   "execution_count": 10,
   "id": "2c649eef",
   "metadata": {},
   "outputs": [
    {
     "data": {
      "text/html": [
       "<div class=\"druid\"><table>\n",
       "<tr><th>TABLE_NAME</th></tr>\n",
       "<tr><td>COLUMNS</td></tr>\n",
       "<tr><td>SCHEMATA</td></tr>\n",
       "<tr><td>TABLES</td></tr>\n",
       "</table></div>"
      ],
      "text/plain": [
       "<IPython.core.display.HTML object>"
      ]
     },
     "metadata": {},
     "output_type": "display_data"
    }
   ],
   "source": [
    "sql = '''\n",
    "SELECT TABLE_NAME\n",
    "FROM INFORMATION_SCHEMA.TABLES\n",
    "WHERE TABLE_SCHEMA = 'INFORMATION_SCHEMA'\n",
    "'''\n",
    "display.sql(sql)"
   ]
  },
  {
   "attachments": {},
   "cell_type": "markdown",
   "id": "c6c4e1d4",
   "metadata": {},
   "source": [
    "The query above showed the same results as `tables()`. That is not surprising: `tables()` just runs this query for you."
   ]
  },
  {
   "attachments": {},
   "cell_type": "markdown",
   "id": "f414d145",
   "metadata": {},
   "source": [
    "## SQL Client\n",
    "\n",
    "While the display client is handy for simple queries, sometimes you need more control, or want to work with the data returned from a query. For this you use the SQL client."
   ]
  },
  {
   "cell_type": "code",
   "execution_count": 11,
   "id": "9951e976",
   "metadata": {},
   "outputs": [],
   "source": [
    "sql_client = druid.sql"
   ]
  },
  {
   "attachments": {},
   "cell_type": "markdown",
   "id": "7b944084",
   "metadata": {},
   "source": [
    "The SQL client allows you create a SQL request object that enables passing context parameters and query parameters. Druid will work out the query parameter type based on the Python type. Use the display client to show the query results."
   ]
  },
  {
   "cell_type": "code",
   "execution_count": 12,
   "id": "dd559827",
   "metadata": {},
   "outputs": [
    {
     "data": {
      "text/html": [
       "<div class=\"druid\"><table>\n",
       "<tr><th>TABLE_NAME</th></tr>\n",
       "<tr><td>COLUMNS</td></tr>\n",
       "<tr><td>SCHEMATA</td></tr>\n",
       "<tr><td>TABLES</td></tr>\n",
       "</table></div>"
      ],
      "text/plain": [
       "<IPython.core.display.HTML object>"
      ]
     },
     "metadata": {},
     "output_type": "display_data"
    }
   ],
   "source": [
    "sql = '''\n",
    "SELECT TABLE_NAME\n",
    "FROM INFORMATION_SCHEMA.TABLES\n",
    "WHERE TABLE_SCHEMA = ?\n",
    "'''\n",
    "req = sql_client.sql_request(sql)\n",
    "req.add_parameter('INFORMATION_SCHEMA')\n",
    "req.add_context(\"someParameter\", \"someValue\")\n",
    "display.sql(req)"
   ]
  },
  {
   "attachments": {},
   "cell_type": "markdown",
   "id": "937dc6b1",
   "metadata": {},
   "source": [
    "The request has other features for advanced use cases: see the code for details. The query API actually returns a sql response object. Use this if you want to get the values directly, work with the schema, etc."
   ]
  },
  {
   "cell_type": "code",
   "execution_count": 13,
   "id": "fd7a1827",
   "metadata": {},
   "outputs": [],
   "source": [
    "sql = '''\n",
    "SELECT TABLE_NAME\n",
    "FROM INFORMATION_SCHEMA.TABLES\n",
    "WHERE TABLE_SCHEMA = 'INFORMATION_SCHEMA'\n",
    "'''\n",
    "resp = sql_client.sql_query(sql)"
   ]
  },
  {
   "cell_type": "code",
   "execution_count": 14,
   "id": "2fe6a749",
   "metadata": {},
   "outputs": [
    {
     "name": "stdout",
     "output_type": "stream",
     "text": [
      "TABLE_NAME VARCHAR string\n"
     ]
    }
   ],
   "source": [
    "col1 = resp.schema[0]\n",
    "print(col1.name, col1.sql_type, col1.druid_type)"
   ]
  },
  {
   "cell_type": "code",
   "execution_count": 15,
   "id": "41d27bb1",
   "metadata": {},
   "outputs": [
    {
     "data": {
      "text/plain": [
       "[{'TABLE_NAME': 'COLUMNS'},\n",
       " {'TABLE_NAME': 'SCHEMATA'},\n",
       " {'TABLE_NAME': 'TABLES'}]"
      ]
     },
     "execution_count": 15,
     "metadata": {},
     "output_type": "execute_result"
    }
   ],
   "source": [
    "resp.rows"
   ]
  },
  {
   "attachments": {},
   "cell_type": "markdown",
   "id": "481af1f2",
   "metadata": {},
   "source": [
    "The `show()` method uses this information for format an HTML table to present the results."
   ]
  },
  {
   "cell_type": "code",
   "execution_count": 16,
   "id": "8dba807b",
   "metadata": {},
   "outputs": [
    {
     "data": {
      "text/html": [
       "<div class=\"druid\"><table>\n",
       "<tr><th>TABLE_NAME</th></tr>\n",
       "<tr><td>COLUMNS</td></tr>\n",
       "<tr><td>SCHEMATA</td></tr>\n",
       "<tr><td>TABLES</td></tr>\n",
       "</table></div>"
      ],
      "text/plain": [
       "<IPython.core.display.HTML object>"
      ]
     },
     "metadata": {},
     "output_type": "display_data"
    }
   ],
   "source": [
    "resp.show()"
   ]
  },
  {
   "attachments": {},
   "cell_type": "markdown",
   "id": "99f8db7b",
   "metadata": {},
   "source": [
    "The display and SQL clients are intened for exploratory queries. The [pydruid](https://pythonhosted.org/pydruid/) library provides a robust way to run native queries, to run SQL queries, and to convert the results to various formats."
   ]
  },
  {
   "attachments": {},
   "cell_type": "markdown",
   "id": "9e3be017",
   "metadata": {},
   "source": [
    "## MSQ Ingestion\n",
    "\n",
    "The SQL client also performs MSQ-based ingestion using `INSERT` or `REPLACE` statements. Use the extension check above to ensure that `druid-multi-stage-query` is loaded in Druid 26. (Later versions may have MSQ built in.)\n",
    "\n",
    "An MSQ query is run using a different API: `task()`. This API returns a response object that describes the Overlord task which runs the MSQ query. For tutorials, data is usually small enough you can wait for the ingestion to complete. Do that with the `run_task()` call which handles the waiting. To illustrate, here is a query that ingests a subset of columns, and includes a few data clean-up steps:"
   ]
  },
  {
   "cell_type": "code",
   "execution_count": 17,
   "id": "10f1e451",
   "metadata": {},
   "outputs": [],
   "source": [
    "sql = '''\n",
    "REPLACE INTO \"myWiki1\" OVERWRITE ALL\n",
    "SELECT\n",
    "  TIME_PARSE(\"timestamp\") AS \"__time\",\n",
    "  namespace,\n",
    "  page,\n",
    "  channel,\n",
    "  \"user\",\n",
    "  countryName,\n",
    "  CASE WHEN isRobot = 'true' THEN 1 ELSE 0 END AS isRobot,\n",
    "  \"added\",\n",
    "  \"delta\",\n",
    "  CASE WHEN isNew = 'true' THEN 1 ELSE 0 END AS isNew,\n",
    "  CAST(\"deltaBucket\" AS DOUBLE) AS deltaBucket,\n",
    "  \"deleted\"\n",
    "FROM TABLE(\n",
    "  EXTERN(\n",
    "    '{\"type\":\"http\",\"uris\":[\"https://druid.apache.org/data/wikipedia.json.gz\"]}',\n",
    "    '{\"type\":\"json\"}',\n",
    "    '[{\"name\":\"isRobot\",\"type\":\"string\"},{\"name\":\"channel\",\"type\":\"string\"},{\"name\":\"timestamp\",\"type\":\"string\"},{\"name\":\"flags\",\"type\":\"string\"},{\"name\":\"isUnpatrolled\",\"type\":\"string\"},{\"name\":\"page\",\"type\":\"string\"},{\"name\":\"diffUrl\",\"type\":\"string\"},{\"name\":\"added\",\"type\":\"long\"},{\"name\":\"comment\",\"type\":\"string\"},{\"name\":\"commentLength\",\"type\":\"long\"},{\"name\":\"isNew\",\"type\":\"string\"},{\"name\":\"isMinor\",\"type\":\"string\"},{\"name\":\"delta\",\"type\":\"long\"},{\"name\":\"isAnonymous\",\"type\":\"string\"},{\"name\":\"user\",\"type\":\"string\"},{\"name\":\"deltaBucket\",\"type\":\"long\"},{\"name\":\"deleted\",\"type\":\"long\"},{\"name\":\"namespace\",\"type\":\"string\"},{\"name\":\"cityName\",\"type\":\"string\"},{\"name\":\"countryName\",\"type\":\"string\"},{\"name\":\"regionIsoCode\",\"type\":\"string\"},{\"name\":\"metroCode\",\"type\":\"long\"},{\"name\":\"countryIsoCode\",\"type\":\"string\"},{\"name\":\"regionName\",\"type\":\"string\"}]'\n",
    "  )\n",
    ")\n",
    "PARTITIONED BY DAY\n",
    "CLUSTERED BY namespace, page\n",
    "'''"
   ]
  },
  {
   "cell_type": "code",
   "execution_count": 18,
   "id": "d752b1d4",
   "metadata": {},
   "outputs": [],
   "source": [
    "sql_client.run_task(sql)"
   ]
  },
  {
   "attachments": {},
   "cell_type": "markdown",
   "id": "ef4512f8",
   "metadata": {},
   "source": [
    "MSQ reports task completion as soon as ingestion is done. However, it takes a while for Druid to load the resulting segments. Wait for the table to become ready."
   ]
  },
  {
   "cell_type": "code",
   "execution_count": 19,
   "id": "37fcedf2",
   "metadata": {},
   "outputs": [],
   "source": [
    "sql_client.wait_until_ready('myWiki1')"
   ]
  },
  {
   "attachments": {},
   "cell_type": "markdown",
   "id": "11d9c95a",
   "metadata": {},
   "source": [
    "`describe_table()` lists the columns in a table."
   ]
  },
  {
   "cell_type": "code",
   "execution_count": 20,
   "id": "b662697b",
   "metadata": {},
   "outputs": [
    {
     "data": {
      "text/html": [
       "<div class=\"druid\"><table>\n",
       "<tr><th>Position</th><th>Name</th><th>Type</th></tr>\n",
       "<tr><td>1</td><td>__time</td><td>TIMESTAMP</td></tr>\n",
       "<tr><td>2</td><td>namespace</td><td>VARCHAR</td></tr>\n",
       "<tr><td>3</td><td>page</td><td>VARCHAR</td></tr>\n",
       "<tr><td>4</td><td>channel</td><td>VARCHAR</td></tr>\n",
       "<tr><td>5</td><td>user</td><td>VARCHAR</td></tr>\n",
       "<tr><td>6</td><td>countryName</td><td>VARCHAR</td></tr>\n",
       "<tr><td>7</td><td>isRobot</td><td>BIGINT</td></tr>\n",
       "<tr><td>8</td><td>added</td><td>BIGINT</td></tr>\n",
       "<tr><td>9</td><td>delta</td><td>BIGINT</td></tr>\n",
       "<tr><td>10</td><td>isNew</td><td>BIGINT</td></tr>\n",
       "<tr><td>11</td><td>deltaBucket</td><td>DOUBLE</td></tr>\n",
       "<tr><td>12</td><td>deleted</td><td>BIGINT</td></tr>\n",
       "</table></div>"
      ],
      "text/plain": [
       "<IPython.core.display.HTML object>"
      ]
     },
     "metadata": {},
     "output_type": "display_data"
    }
   ],
   "source": [
    "display.table('myWiki1')"
   ]
  },
  {
   "attachments": {},
   "cell_type": "markdown",
   "id": "936f57fb",
   "metadata": {},
   "source": [
    "You can sample a few rows of data."
   ]
  },
  {
   "cell_type": "code",
   "execution_count": 21,
   "id": "c4cfa5dc",
   "metadata": {},
   "outputs": [
    {
     "data": {
      "text/html": [
       "<div class=\"druid\"><table>\n",
       "<tr><th>__time</th><th>namespace</th><th>page</th><th>channel</th><th>user</th><th>countryName</th><th>isRobot</th><th>added</th><th>delta</th><th>isNew</th><th>deltaBucket</th><th>deleted</th></tr>\n",
       "<tr><td>2016-06-27T00:00:11.080Z</td><td>Main</td><td>Salo Toraut</td><td>#sv.wikipedia</td><td>Lsjbot</td><td></td><td>1</td><td>31</td><td>31</td><td>1</td><td>0.0</td><td>0</td></tr>\n",
       "<tr><td>2016-06-27T00:00:17.457Z</td><td>利用者</td><td>利用者:ワーナー成増/放送ウーマン賞</td><td>#ja.wikipedia</td><td>ワーナー成増</td><td></td><td>0</td><td>125</td><td>125</td><td>0</td><td>100.0</td><td>0</td></tr>\n",
       "<tr><td>2016-06-27T00:00:34.959Z</td><td>Main</td><td>Bailando 2015</td><td>#en.wikipedia</td><td>181.230.118.178</td><td>Argentina</td><td>0</td><td>2</td><td>2</td><td>0</td><td>0.0</td><td>0</td></tr>\n",
       "<tr><td>2016-06-27T00:00:36.027Z</td><td>Main</td><td>Richie Rich&#x27;s Christmas Wish</td><td>#en.wikipedia</td><td>JasonAQuest</td><td></td><td>0</td><td>0</td><td>-2</td><td>0</td><td>-100.0</td><td>2</td></tr>\n",
       "<tr><td>2016-06-27T00:00:46.874Z</td><td>Main</td><td>El Olivo, Ascensión</td><td>#sh.wikipedia</td><td>Kolega2357</td><td></td><td>1</td><td>0</td><td>-1</td><td>0</td><td>-100.0</td><td>1</td></tr>\n",
       "<tr><td>2016-06-27T00:00:56.913Z</td><td>Main</td><td>Blowback (intelligence)</td><td>#en.wikipedia</td><td>Brokenshardz</td><td></td><td>0</td><td>76</td><td>76</td><td>0</td><td>0.0</td><td>0</td></tr>\n",
       "<tr><td>2016-06-27T00:00:58.599Z</td><td>Kategoria</td><td>Kategoria:Dyskusje nad usunięciem artykułu zakończone bez konsensusu − lipiec 2016</td><td>#pl.wikipedia</td><td>Beau.bot</td><td></td><td>1</td><td>270</td><td>270</td><td>1</td><td>200.0</td><td>0</td></tr>\n",
       "<tr><td>2016-06-27T00:01:01.364Z</td><td>Main</td><td>El Paraíso, Bachíniva</td><td>#sh.wikipedia</td><td>Kolega2357</td><td></td><td>1</td><td>0</td><td>-1</td><td>0</td><td>-100.0</td><td>1</td></tr>\n",
       "<tr><td>2016-06-27T00:01:03.685Z</td><td>Main</td><td>El Terco, Bachíniva</td><td>#sh.wikipedia</td><td>Kolega2357</td><td></td><td>1</td><td>0</td><td>-1</td><td>0</td><td>-100.0</td><td>1</td></tr>\n",
       "<tr><td>2016-06-27T00:01:07.347Z</td><td>Main</td><td>Neqerssuaq</td><td>#ceb.wikipedia</td><td>Lsjbot</td><td></td><td>1</td><td>4150</td><td>4150</td><td>1</td><td>4100.0</td><td>0</td></tr>\n",
       "</table></div>"
      ],
      "text/plain": [
       "<IPython.core.display.HTML object>"
      ]
     },
     "metadata": {},
     "output_type": "display_data"
    }
   ],
   "source": [
    "display.sql('SELECT * FROM myWiki1 LIMIT 10')"
   ]
  },
  {
   "attachments": {},
   "cell_type": "markdown",
   "id": "c1152f41",
   "metadata": {},
   "source": [
    "## Datasource Client\n",
    "\n",
    "The Datasource client lets you perform operations on datasource objects. The SQL layer allows you to get metadata and do queries. The datasource client works with the underlying segments. Explaining the full functionality is the topic of another notebook. For now, you can use the datasource client to clean up the datasource created above. The `True` argument asks for \"if exists\" semantics so you don't get an error if the datasource was already deleted."
   ]
  },
  {
   "cell_type": "code",
   "execution_count": 17,
   "id": "fba659ce",
   "metadata": {},
   "outputs": [],
   "source": [
    "ds_client = druid.datasources\n",
    "ds_client.drop('myWiki', True)"
   ]
  },
  {
   "attachments": {},
   "cell_type": "markdown",
   "id": "c96fdcc6",
   "metadata": {},
   "source": [
    "## Tasks Client\n",
    "\n",
    "Use the tasks client to work with Overlord tasks. The `run_task()` call above actually uses the task client internally to poll Overlord."
   ]
  },
  {
   "cell_type": "code",
   "execution_count": 18,
   "id": "b4f5ea17",
   "metadata": {},
   "outputs": [
    {
     "data": {
      "text/plain": [
       "[{'id': 'query-e1ab8584-386c-4c51-8139-8653a6fb857f-worker0_0',\n",
       "  'groupId': 'query-e1ab8584-386c-4c51-8139-8653a6fb857f',\n",
       "  'type': 'query_worker',\n",
       "  'createdTime': '2023-07-18T22:13:57.362Z',\n",
       "  'queueInsertionTime': '1970-01-01T00:00:00.000Z',\n",
       "  'statusCode': 'FAILED',\n",
       "  'status': 'FAILED',\n",
       "  'runnerStatusCode': 'NONE',\n",
       "  'duration': 35841,\n",
       "  'location': {'host': '172.20.0.10', 'port': 8101, 'tlsPort': -1},\n",
       "  'dataSource': 'kttm_transformation',\n",
       "  'errorMsg': 'Task execution process exited unsuccessfully with code[137]. See middleManager logs for more details...'},\n",
       " {'id': 'query-e1ab8584-386c-4c51-8139-8653a6fb857f',\n",
       "  'groupId': 'query-e1ab8584-386c-4c51-8139-8653a6fb857f',\n",
       "  'type': 'query_controller',\n",
       "  'createdTime': '2023-07-18T22:13:48.391Z',\n",
       "  'queueInsertionTime': '1970-01-01T00:00:00.000Z',\n",
       "  'statusCode': 'FAILED',\n",
       "  'status': 'FAILED',\n",
       "  'runnerStatusCode': 'NONE',\n",
       "  'duration': 96842,\n",
       "  'location': {'host': '172.20.0.10', 'port': 8100, 'tlsPort': -1},\n",
       "  'dataSource': 'kttm_transformation',\n",
       "  'errorMsg': 'WorkerRpcFailed: RPC call to task failed unrecoverably: [query-e1ab8584-386c-4c51-8139-8653a6fb857f-...'},\n",
       " {'id': 'query-801a4be8-bea9-4a6f-a7fc-94016a702378-worker0_0',\n",
       "  'groupId': 'query-801a4be8-bea9-4a6f-a7fc-94016a702378',\n",
       "  'type': 'query_worker',\n",
       "  'createdTime': '2023-07-18T22:10:12.246Z',\n",
       "  'queueInsertionTime': '1970-01-01T00:00:00.000Z',\n",
       "  'statusCode': 'FAILED',\n",
       "  'status': 'FAILED',\n",
       "  'runnerStatusCode': 'NONE',\n",
       "  'duration': 43457,\n",
       "  'location': {'host': '172.20.0.10', 'port': 8101, 'tlsPort': -1},\n",
       "  'dataSource': 'kttm_transformation',\n",
       "  'errorMsg': 'Task execution process exited unsuccessfully with code[137]. See middleManager logs for more details...'},\n",
       " {'id': 'query-801a4be8-bea9-4a6f-a7fc-94016a702378',\n",
       "  'groupId': 'query-801a4be8-bea9-4a6f-a7fc-94016a702378',\n",
       "  'type': 'query_controller',\n",
       "  'createdTime': '2023-07-18T22:10:04.209Z',\n",
       "  'queueInsertionTime': '1970-01-01T00:00:00.000Z',\n",
       "  'statusCode': 'FAILED',\n",
       "  'status': 'FAILED',\n",
       "  'runnerStatusCode': 'NONE',\n",
       "  'duration': 103733,\n",
       "  'location': {'host': '172.20.0.10', 'port': 8100, 'tlsPort': -1},\n",
       "  'dataSource': 'kttm_transformation',\n",
       "  'errorMsg': 'WorkerRpcFailed: RPC call to task failed unrecoverably: [query-801a4be8-bea9-4a6f-a7fc-94016a702378-...'},\n",
       " {'id': 'query-a018f861-559d-4616-8b37-22aad2910675-worker0_0',\n",
       "  'groupId': 'query-a018f861-559d-4616-8b37-22aad2910675',\n",
       "  'type': 'query_worker',\n",
       "  'createdTime': '2023-07-18T20:59:51.650Z',\n",
       "  'queueInsertionTime': '1970-01-01T00:00:00.000Z',\n",
       "  'statusCode': 'SUCCESS',\n",
       "  'status': 'SUCCESS',\n",
       "  'runnerStatusCode': 'NONE',\n",
       "  'duration': 16632,\n",
       "  'location': {'host': '172.20.0.10', 'port': 8101, 'tlsPort': -1},\n",
       "  'dataSource': '__query_select',\n",
       "  'errorMsg': None},\n",
       " {'id': 'query-a018f861-559d-4616-8b37-22aad2910675',\n",
       "  'groupId': 'query-a018f861-559d-4616-8b37-22aad2910675',\n",
       "  'type': 'query_controller',\n",
       "  'createdTime': '2023-07-18T20:59:44.483Z',\n",
       "  'queueInsertionTime': '1970-01-01T00:00:00.000Z',\n",
       "  'statusCode': 'SUCCESS',\n",
       "  'status': 'SUCCESS',\n",
       "  'runnerStatusCode': 'NONE',\n",
       "  'duration': 27860,\n",
       "  'location': {'host': '172.20.0.10', 'port': 8100, 'tlsPort': -1},\n",
       "  'dataSource': '__query_select',\n",
       "  'errorMsg': None},\n",
       " {'id': 'query-8cfcd6d8-9f83-4b34-b93c-05c6641d4e68-worker0_0',\n",
       "  'groupId': 'query-8cfcd6d8-9f83-4b34-b93c-05c6641d4e68',\n",
       "  'type': 'query_worker',\n",
       "  'createdTime': '2023-07-18T20:55:02.696Z',\n",
       "  'queueInsertionTime': '1970-01-01T00:00:00.000Z',\n",
       "  'statusCode': 'SUCCESS',\n",
       "  'status': 'SUCCESS',\n",
       "  'runnerStatusCode': 'NONE',\n",
       "  'duration': 16728,\n",
       "  'location': {'host': '172.20.0.10', 'port': 8101, 'tlsPort': -1},\n",
       "  'dataSource': '__query_select',\n",
       "  'errorMsg': None},\n",
       " {'id': 'query-8cfcd6d8-9f83-4b34-b93c-05c6641d4e68',\n",
       "  'groupId': 'query-8cfcd6d8-9f83-4b34-b93c-05c6641d4e68',\n",
       "  'type': 'query_controller',\n",
       "  'createdTime': '2023-07-18T20:54:54.627Z',\n",
       "  'queueInsertionTime': '1970-01-01T00:00:00.000Z',\n",
       "  'statusCode': 'SUCCESS',\n",
       "  'status': 'SUCCESS',\n",
       "  'runnerStatusCode': 'NONE',\n",
       "  'duration': 28867,\n",
       "  'location': {'host': '172.20.0.10', 'port': 8100, 'tlsPort': -1},\n",
       "  'dataSource': '__query_select',\n",
       "  'errorMsg': None},\n",
       " {'id': 'query-ae580dc6-98b3-4b9b-94c5-e70c2790734c-worker0_0',\n",
       "  'groupId': 'query-ae580dc6-98b3-4b9b-94c5-e70c2790734c',\n",
       "  'type': 'query_worker',\n",
       "  'createdTime': '2023-07-18T20:53:45.300Z',\n",
       "  'queueInsertionTime': '1970-01-01T00:00:00.000Z',\n",
       "  'statusCode': 'SUCCESS',\n",
       "  'status': 'SUCCESS',\n",
       "  'runnerStatusCode': 'NONE',\n",
       "  'duration': 17302,\n",
       "  'location': {'host': '172.20.0.10', 'port': 8101, 'tlsPort': -1},\n",
       "  'dataSource': '__query_select',\n",
       "  'errorMsg': None},\n",
       " {'id': 'query-ae580dc6-98b3-4b9b-94c5-e70c2790734c',\n",
       "  'groupId': 'query-ae580dc6-98b3-4b9b-94c5-e70c2790734c',\n",
       "  'type': 'query_controller',\n",
       "  'createdTime': '2023-07-18T20:53:37.199Z',\n",
       "  'queueInsertionTime': '1970-01-01T00:00:00.000Z',\n",
       "  'statusCode': 'SUCCESS',\n",
       "  'status': 'SUCCESS',\n",
       "  'runnerStatusCode': 'NONE',\n",
       "  'duration': 29370,\n",
       "  'location': {'host': '172.20.0.10', 'port': 8100, 'tlsPort': -1},\n",
       "  'dataSource': '__query_select',\n",
       "  'errorMsg': None},\n",
       " {'id': 'query-4a50726f-f791-455e-9e36-61314d80e9fa-worker0_0',\n",
       "  'groupId': 'query-4a50726f-f791-455e-9e36-61314d80e9fa',\n",
       "  'type': 'query_worker',\n",
       "  'createdTime': '2023-07-18T20:52:50.942Z',\n",
       "  'queueInsertionTime': '1970-01-01T00:00:00.000Z',\n",
       "  'statusCode': 'SUCCESS',\n",
       "  'status': 'SUCCESS',\n",
       "  'runnerStatusCode': 'NONE',\n",
       "  'duration': 16358,\n",
       "  'location': {'host': '172.20.0.10', 'port': 8101, 'tlsPort': -1},\n",
       "  'dataSource': '__query_select',\n",
       "  'errorMsg': None},\n",
       " {'id': 'query-4a50726f-f791-455e-9e36-61314d80e9fa',\n",
       "  'groupId': 'query-4a50726f-f791-455e-9e36-61314d80e9fa',\n",
       "  'type': 'query_controller',\n",
       "  'createdTime': '2023-07-18T20:52:43.904Z',\n",
       "  'queueInsertionTime': '1970-01-01T00:00:00.000Z',\n",
       "  'statusCode': 'SUCCESS',\n",
       "  'status': 'SUCCESS',\n",
       "  'runnerStatusCode': 'NONE',\n",
       "  'duration': 27450,\n",
       "  'location': {'host': '172.20.0.10', 'port': 8100, 'tlsPort': -1},\n",
       "  'dataSource': '__query_select',\n",
       "  'errorMsg': None},\n",
       " {'id': 'query-67c8e4ed-1ec5-488e-89eb-c5d974ed2a69-worker0_0',\n",
       "  'groupId': 'query-67c8e4ed-1ec5-488e-89eb-c5d974ed2a69',\n",
       "  'type': 'query_worker',\n",
       "  'createdTime': '2023-07-18T20:51:41.464Z',\n",
       "  'queueInsertionTime': '1970-01-01T00:00:00.000Z',\n",
       "  'statusCode': 'SUCCESS',\n",
       "  'status': 'SUCCESS',\n",
       "  'runnerStatusCode': 'NONE',\n",
       "  'duration': 16829,\n",
       "  'location': {'host': '172.20.0.10', 'port': 8101, 'tlsPort': -1},\n",
       "  'dataSource': '__query_select',\n",
       "  'errorMsg': None},\n",
       " {'id': 'query-67c8e4ed-1ec5-488e-89eb-c5d974ed2a69',\n",
       "  'groupId': 'query-67c8e4ed-1ec5-488e-89eb-c5d974ed2a69',\n",
       "  'type': 'query_controller',\n",
       "  'createdTime': '2023-07-18T20:51:34.300Z',\n",
       "  'queueInsertionTime': '1970-01-01T00:00:00.000Z',\n",
       "  'statusCode': 'SUCCESS',\n",
       "  'status': 'SUCCESS',\n",
       "  'runnerStatusCode': 'NONE',\n",
       "  'duration': 27929,\n",
       "  'location': {'host': '172.20.0.10', 'port': 8100, 'tlsPort': -1},\n",
       "  'dataSource': '__query_select',\n",
       "  'errorMsg': None},\n",
       " {'id': 'query-a251adb5-d800-4b1f-a224-02cdb6d172a2-worker0_0',\n",
       "  'groupId': 'query-a251adb5-d800-4b1f-a224-02cdb6d172a2',\n",
       "  'type': 'query_worker',\n",
       "  'createdTime': '2023-07-18T20:50:03.630Z',\n",
       "  'queueInsertionTime': '1970-01-01T00:00:00.000Z',\n",
       "  'statusCode': 'SUCCESS',\n",
       "  'status': 'SUCCESS',\n",
       "  'runnerStatusCode': 'NONE',\n",
       "  'duration': 16945,\n",
       "  'location': {'host': '172.20.0.10', 'port': 8101, 'tlsPort': -1},\n",
       "  'dataSource': '__query_select',\n",
       "  'errorMsg': None},\n",
       " {'id': 'query-a251adb5-d800-4b1f-a224-02cdb6d172a2',\n",
       "  'groupId': 'query-a251adb5-d800-4b1f-a224-02cdb6d172a2',\n",
       "  'type': 'query_controller',\n",
       "  'createdTime': '2023-07-18T20:49:56.001Z',\n",
       "  'queueInsertionTime': '1970-01-01T00:00:00.000Z',\n",
       "  'statusCode': 'SUCCESS',\n",
       "  'status': 'SUCCESS',\n",
       "  'runnerStatusCode': 'NONE',\n",
       "  'duration': 28467,\n",
       "  'location': {'host': '172.20.0.10', 'port': 8100, 'tlsPort': -1},\n",
       "  'dataSource': '__query_select',\n",
       "  'errorMsg': None},\n",
       " {'id': 'query-81f8e77c-70c4-4bf9-a4cd-df2a11f313f4-worker0_0',\n",
       "  'groupId': 'query-81f8e77c-70c4-4bf9-a4cd-df2a11f313f4',\n",
       "  'type': 'query_worker',\n",
       "  'createdTime': '2023-07-18T20:46:40.913Z',\n",
       "  'queueInsertionTime': '1970-01-01T00:00:00.000Z',\n",
       "  'statusCode': 'SUCCESS',\n",
       "  'status': 'SUCCESS',\n",
       "  'runnerStatusCode': 'NONE',\n",
       "  'duration': 17094,\n",
       "  'location': {'host': '172.20.0.10', 'port': 8101, 'tlsPort': -1},\n",
       "  'dataSource': '__query_select',\n",
       "  'errorMsg': None},\n",
       " {'id': 'query-81f8e77c-70c4-4bf9-a4cd-df2a11f313f4',\n",
       "  'groupId': 'query-81f8e77c-70c4-4bf9-a4cd-df2a11f313f4',\n",
       "  'type': 'query_controller',\n",
       "  'createdTime': '2023-07-18T20:46:33.739Z',\n",
       "  'queueInsertionTime': '1970-01-01T00:00:00.000Z',\n",
       "  'statusCode': 'SUCCESS',\n",
       "  'status': 'SUCCESS',\n",
       "  'runnerStatusCode': 'NONE',\n",
       "  'duration': 28242,\n",
       "  'location': {'host': '172.20.0.10', 'port': 8100, 'tlsPort': -1},\n",
       "  'dataSource': '__query_select',\n",
       "  'errorMsg': None},\n",
       " {'id': 'query-acfb45dc-7ecb-41ea-94f6-ee3ba2f78b0e-worker0_0',\n",
       "  'groupId': 'query-acfb45dc-7ecb-41ea-94f6-ee3ba2f78b0e',\n",
       "  'type': 'query_worker',\n",
       "  'createdTime': '2023-07-18T20:41:41.033Z',\n",
       "  'queueInsertionTime': '1970-01-01T00:00:00.000Z',\n",
       "  'statusCode': 'SUCCESS',\n",
       "  'status': 'SUCCESS',\n",
       "  'runnerStatusCode': 'NONE',\n",
       "  'duration': 16887,\n",
       "  'location': {'host': '172.20.0.10', 'port': 8101, 'tlsPort': -1},\n",
       "  'dataSource': '__query_select',\n",
       "  'errorMsg': None},\n",
       " {'id': 'query-acfb45dc-7ecb-41ea-94f6-ee3ba2f78b0e',\n",
       "  'groupId': 'query-acfb45dc-7ecb-41ea-94f6-ee3ba2f78b0e',\n",
       "  'type': 'query_controller',\n",
       "  'createdTime': '2023-07-18T20:41:33.197Z',\n",
       "  'queueInsertionTime': '1970-01-01T00:00:00.000Z',\n",
       "  'statusCode': 'SUCCESS',\n",
       "  'status': 'SUCCESS',\n",
       "  'runnerStatusCode': 'NONE',\n",
       "  'duration': 28640,\n",
       "  'location': {'host': '172.20.0.10', 'port': 8100, 'tlsPort': -1},\n",
       "  'dataSource': '__query_select',\n",
       "  'errorMsg': None},\n",
       " {'id': 'query-4c10518f-47de-4e92-92fb-657307d7f219-worker0_0',\n",
       "  'groupId': 'query-4c10518f-47de-4e92-92fb-657307d7f219',\n",
       "  'type': 'query_worker',\n",
       "  'createdTime': '2023-07-18T20:40:10.524Z',\n",
       "  'queueInsertionTime': '1970-01-01T00:00:00.000Z',\n",
       "  'statusCode': 'SUCCESS',\n",
       "  'status': 'SUCCESS',\n",
       "  'runnerStatusCode': 'NONE',\n",
       "  'duration': 16986,\n",
       "  'location': {'host': '172.20.0.10', 'port': 8101, 'tlsPort': -1},\n",
       "  'dataSource': '__query_select',\n",
       "  'errorMsg': None},\n",
       " {'id': 'query-4c10518f-47de-4e92-92fb-657307d7f219',\n",
       "  'groupId': 'query-4c10518f-47de-4e92-92fb-657307d7f219',\n",
       "  'type': 'query_controller',\n",
       "  'createdTime': '2023-07-18T20:40:03.086Z',\n",
       "  'queueInsertionTime': '1970-01-01T00:00:00.000Z',\n",
       "  'statusCode': 'SUCCESS',\n",
       "  'status': 'SUCCESS',\n",
       "  'runnerStatusCode': 'NONE',\n",
       "  'duration': 28253,\n",
       "  'location': {'host': '172.20.0.10', 'port': 8100, 'tlsPort': -1},\n",
       "  'dataSource': '__query_select',\n",
       "  'errorMsg': None},\n",
       " {'id': 'query-fca999b0-43b3-4b56-9ace-699b8fe8ceb7-worker0_0',\n",
       "  'groupId': 'query-fca999b0-43b3-4b56-9ace-699b8fe8ceb7',\n",
       "  'type': 'query_worker',\n",
       "  'createdTime': '2023-07-18T20:34:14.431Z',\n",
       "  'queueInsertionTime': '1970-01-01T00:00:00.000Z',\n",
       "  'statusCode': 'SUCCESS',\n",
       "  'status': 'SUCCESS',\n",
       "  'runnerStatusCode': 'NONE',\n",
       "  'duration': 16726,\n",
       "  'location': {'host': '172.20.0.10', 'port': 8101, 'tlsPort': -1},\n",
       "  'dataSource': '__query_select',\n",
       "  'errorMsg': None},\n",
       " {'id': 'query-fca999b0-43b3-4b56-9ace-699b8fe8ceb7',\n",
       "  'groupId': 'query-fca999b0-43b3-4b56-9ace-699b8fe8ceb7',\n",
       "  'type': 'query_controller',\n",
       "  'createdTime': '2023-07-18T20:34:07.429Z',\n",
       "  'queueInsertionTime': '1970-01-01T00:00:00.000Z',\n",
       "  'statusCode': 'SUCCESS',\n",
       "  'status': 'SUCCESS',\n",
       "  'runnerStatusCode': 'NONE',\n",
       "  'duration': 27570,\n",
       "  'location': {'host': '172.20.0.10', 'port': 8100, 'tlsPort': -1},\n",
       "  'dataSource': '__query_select',\n",
       "  'errorMsg': None},\n",
       " {'id': 'query-4e589acf-b072-4686-a28a-ab929bd139bb-worker0_0',\n",
       "  'groupId': 'query-4e589acf-b072-4686-a28a-ab929bd139bb',\n",
       "  'type': 'query_worker',\n",
       "  'createdTime': '2023-07-18T20:33:03.529Z',\n",
       "  'queueInsertionTime': '1970-01-01T00:00:00.000Z',\n",
       "  'statusCode': 'SUCCESS',\n",
       "  'status': 'SUCCESS',\n",
       "  'runnerStatusCode': 'NONE',\n",
       "  'duration': 16782,\n",
       "  'location': {'host': '172.20.0.10', 'port': 8101, 'tlsPort': -1},\n",
       "  'dataSource': '__query_select',\n",
       "  'errorMsg': None},\n",
       " {'id': 'query-4e589acf-b072-4686-a28a-ab929bd139bb',\n",
       "  'groupId': 'query-4e589acf-b072-4686-a28a-ab929bd139bb',\n",
       "  'type': 'query_controller',\n",
       "  'createdTime': '2023-07-18T20:32:56.125Z',\n",
       "  'queueInsertionTime': '1970-01-01T00:00:00.000Z',\n",
       "  'statusCode': 'SUCCESS',\n",
       "  'status': 'SUCCESS',\n",
       "  'runnerStatusCode': 'NONE',\n",
       "  'duration': 28125,\n",
       "  'location': {'host': '172.20.0.10', 'port': 8100, 'tlsPort': -1},\n",
       "  'dataSource': '__query_select',\n",
       "  'errorMsg': None},\n",
       " {'id': 'query-34b4cf25-dd7c-497c-8553-bab9a2e79df0-worker0_0',\n",
       "  'groupId': 'query-34b4cf25-dd7c-497c-8553-bab9a2e79df0',\n",
       "  'type': 'query_worker',\n",
       "  'createdTime': '2023-07-18T20:31:49.914Z',\n",
       "  'queueInsertionTime': '1970-01-01T00:00:00.000Z',\n",
       "  'statusCode': 'SUCCESS',\n",
       "  'status': 'SUCCESS',\n",
       "  'runnerStatusCode': 'NONE',\n",
       "  'duration': 16881,\n",
       "  'location': {'host': '172.20.0.10', 'port': 8101, 'tlsPort': -1},\n",
       "  'dataSource': '__query_select',\n",
       "  'errorMsg': None},\n",
       " {'id': 'query-34b4cf25-dd7c-497c-8553-bab9a2e79df0',\n",
       "  'groupId': 'query-34b4cf25-dd7c-497c-8553-bab9a2e79df0',\n",
       "  'type': 'query_controller',\n",
       "  'createdTime': '2023-07-18T20:31:42.314Z',\n",
       "  'queueInsertionTime': '1970-01-01T00:00:00.000Z',\n",
       "  'statusCode': 'SUCCESS',\n",
       "  'status': 'SUCCESS',\n",
       "  'runnerStatusCode': 'NONE',\n",
       "  'duration': 28048,\n",
       "  'location': {'host': '172.20.0.10', 'port': 8100, 'tlsPort': -1},\n",
       "  'dataSource': '__query_select',\n",
       "  'errorMsg': None},\n",
       " {'id': 'query-457f51e5-ff17-40f9-bf25-1cd7676a5469-worker0_0',\n",
       "  'groupId': 'query-457f51e5-ff17-40f9-bf25-1cd7676a5469',\n",
       "  'type': 'query_worker',\n",
       "  'createdTime': '2023-07-18T20:30:23.559Z',\n",
       "  'queueInsertionTime': '1970-01-01T00:00:00.000Z',\n",
       "  'statusCode': 'SUCCESS',\n",
       "  'status': 'SUCCESS',\n",
       "  'runnerStatusCode': 'NONE',\n",
       "  'duration': 16929,\n",
       "  'location': {'host': '172.20.0.10', 'port': 8101, 'tlsPort': -1},\n",
       "  'dataSource': '__query_select',\n",
       "  'errorMsg': None},\n",
       " {'id': 'query-457f51e5-ff17-40f9-bf25-1cd7676a5469',\n",
       "  'groupId': 'query-457f51e5-ff17-40f9-bf25-1cd7676a5469',\n",
       "  'type': 'query_controller',\n",
       "  'createdTime': '2023-07-18T20:30:13.953Z',\n",
       "  'queueInsertionTime': '1970-01-01T00:00:00.000Z',\n",
       "  'statusCode': 'SUCCESS',\n",
       "  'status': 'SUCCESS',\n",
       "  'runnerStatusCode': 'NONE',\n",
       "  'duration': 30271,\n",
       "  'location': {'host': '172.20.0.10', 'port': 8100, 'tlsPort': -1},\n",
       "  'dataSource': '__query_select',\n",
       "  'errorMsg': None},\n",
       " {'id': 'query-78f37626-14ac-424b-8686-1f02798418eb-worker0_0',\n",
       "  'groupId': 'query-78f37626-14ac-424b-8686-1f02798418eb',\n",
       "  'type': 'query_worker',\n",
       "  'createdTime': '2023-07-18T19:29:59.578Z',\n",
       "  'queueInsertionTime': '1970-01-01T00:00:00.000Z',\n",
       "  'statusCode': 'SUCCESS',\n",
       "  'status': 'SUCCESS',\n",
       "  'runnerStatusCode': 'NONE',\n",
       "  'duration': 18139,\n",
       "  'location': {'host': '172.20.0.10', 'port': 8101, 'tlsPort': -1},\n",
       "  'dataSource': '__query_select',\n",
       "  'errorMsg': None},\n",
       " {'id': 'query-78f37626-14ac-424b-8686-1f02798418eb',\n",
       "  'groupId': 'query-78f37626-14ac-424b-8686-1f02798418eb',\n",
       "  'type': 'query_controller',\n",
       "  'createdTime': '2023-07-18T19:29:49.185Z',\n",
       "  'queueInsertionTime': '1970-01-01T00:00:00.000Z',\n",
       "  'statusCode': 'SUCCESS',\n",
       "  'status': 'SUCCESS',\n",
       "  'runnerStatusCode': 'NONE',\n",
       "  'duration': 31827,\n",
       "  'location': {'host': '172.20.0.10', 'port': 8100, 'tlsPort': -1},\n",
       "  'dataSource': '__query_select',\n",
       "  'errorMsg': None},\n",
       " {'id': 'query-1464bab5-5c4a-46b3-bf8a-23a9cec47fae-worker0_0',\n",
       "  'groupId': 'query-1464bab5-5c4a-46b3-bf8a-23a9cec47fae',\n",
       "  'type': 'query_worker',\n",
       "  'createdTime': '2023-07-18T16:03:43.895Z',\n",
       "  'queueInsertionTime': '1970-01-01T00:00:00.000Z',\n",
       "  'statusCode': 'SUCCESS',\n",
       "  'status': 'SUCCESS',\n",
       "  'runnerStatusCode': 'NONE',\n",
       "  'duration': 16770,\n",
       "  'location': {'host': '172.20.0.10', 'port': 8101, 'tlsPort': -1},\n",
       "  'dataSource': 'inline_data',\n",
       "  'errorMsg': None},\n",
       " {'id': 'query-1464bab5-5c4a-46b3-bf8a-23a9cec47fae',\n",
       "  'groupId': 'query-1464bab5-5c4a-46b3-bf8a-23a9cec47fae',\n",
       "  'type': 'query_controller',\n",
       "  'createdTime': '2023-07-18T16:03:35.732Z',\n",
       "  'queueInsertionTime': '1970-01-01T00:00:00.000Z',\n",
       "  'statusCode': 'SUCCESS',\n",
       "  'status': 'SUCCESS',\n",
       "  'runnerStatusCode': 'NONE',\n",
       "  'duration': 28862,\n",
       "  'location': {'host': '172.20.0.10', 'port': 8100, 'tlsPort': -1},\n",
       "  'dataSource': 'inline_data',\n",
       "  'errorMsg': None},\n",
       " {'id': 'query-763dfb90-2faa-4458-b6df-048159d5e47a-worker0_0',\n",
       "  'groupId': 'query-763dfb90-2faa-4458-b6df-048159d5e47a',\n",
       "  'type': 'query_worker',\n",
       "  'createdTime': '2023-07-18T16:01:24.416Z',\n",
       "  'queueInsertionTime': '1970-01-01T00:00:00.000Z',\n",
       "  'statusCode': 'SUCCESS',\n",
       "  'status': 'SUCCESS',\n",
       "  'runnerStatusCode': 'NONE',\n",
       "  'duration': 18965,\n",
       "  'location': {'host': '172.20.0.10', 'port': 8101, 'tlsPort': -1},\n",
       "  'dataSource': 'inline_data',\n",
       "  'errorMsg': None},\n",
       " {'id': 'query-763dfb90-2faa-4458-b6df-048159d5e47a',\n",
       "  'groupId': 'query-763dfb90-2faa-4458-b6df-048159d5e47a',\n",
       "  'type': 'query_controller',\n",
       "  'createdTime': '2023-07-18T16:01:16.346Z',\n",
       "  'queueInsertionTime': '1970-01-01T00:00:00.000Z',\n",
       "  'statusCode': 'SUCCESS',\n",
       "  'status': 'SUCCESS',\n",
       "  'runnerStatusCode': 'NONE',\n",
       "  'duration': 31188,\n",
       "  'location': {'host': '172.20.0.10', 'port': 8100, 'tlsPort': -1},\n",
       "  'dataSource': 'inline_data',\n",
       "  'errorMsg': None},\n",
       " {'id': 'query-cc2aae67-a830-485d-a551-a6096a791175-worker0_0',\n",
       "  'groupId': 'query-cc2aae67-a830-485d-a551-a6096a791175',\n",
       "  'type': 'query_worker',\n",
       "  'createdTime': '2023-07-18T16:00:15.668Z',\n",
       "  'queueInsertionTime': '1970-01-01T00:00:00.000Z',\n",
       "  'statusCode': 'FAILED',\n",
       "  'status': 'FAILED',\n",
       "  'runnerStatusCode': 'NONE',\n",
       "  'duration': 15161,\n",
       "  'location': {'host': '172.20.0.10', 'port': 8101, 'tlsPort': -1},\n",
       "  'dataSource': 'inline_data',\n",
       "  'errorMsg': 'QueryRuntimeError: Column [array_col] is a multi-value string. Please wrap the column using MV_TO_AR...'},\n",
       " {'id': 'query-cc2aae67-a830-485d-a551-a6096a791175',\n",
       "  'groupId': 'query-cc2aae67-a830-485d-a551-a6096a791175',\n",
       "  'type': 'query_controller',\n",
       "  'createdTime': '2023-07-18T16:00:02.123Z',\n",
       "  'queueInsertionTime': '1970-01-01T00:00:00.000Z',\n",
       "  'statusCode': 'FAILED',\n",
       "  'status': 'FAILED',\n",
       "  'runnerStatusCode': 'NONE',\n",
       "  'duration': 29745,\n",
       "  'location': {'host': '172.20.0.10', 'port': 8100, 'tlsPort': -1},\n",
       "  'dataSource': 'inline_data',\n",
       "  'errorMsg': 'QueryRuntimeError: Column [array_col] is a multi-value string. Please wrap the column using MV_TO_AR...'},\n",
       " {'id': 'query-d2a3fb6c-305b-4b3f-b24a-1edae42e85c8-worker0_0',\n",
       "  'groupId': 'query-d2a3fb6c-305b-4b3f-b24a-1edae42e85c8',\n",
       "  'type': 'query_worker',\n",
       "  'createdTime': '2023-07-17T23:02:46.790Z',\n",
       "  'queueInsertionTime': '1970-01-01T00:00:00.000Z',\n",
       "  'statusCode': 'SUCCESS',\n",
       "  'status': 'SUCCESS',\n",
       "  'runnerStatusCode': 'NONE',\n",
       "  'duration': 20355,\n",
       "  'location': {'host': '172.20.0.10', 'port': 8101, 'tlsPort': -1},\n",
       "  'dataSource': 'wikipedia_events_only_human',\n",
       "  'errorMsg': None},\n",
       " {'id': 'query-d2a3fb6c-305b-4b3f-b24a-1edae42e85c8',\n",
       "  'groupId': 'query-d2a3fb6c-305b-4b3f-b24a-1edae42e85c8',\n",
       "  'type': 'query_controller',\n",
       "  'createdTime': '2023-07-17T23:02:38.992Z',\n",
       "  'queueInsertionTime': '1970-01-01T00:00:00.000Z',\n",
       "  'statusCode': 'SUCCESS',\n",
       "  'status': 'SUCCESS',\n",
       "  'runnerStatusCode': 'NONE',\n",
       "  'duration': 31685,\n",
       "  'location': {'host': '172.20.0.10', 'port': 8100, 'tlsPort': -1},\n",
       "  'dataSource': 'wikipedia_events_only_human',\n",
       "  'errorMsg': None},\n",
       " {'id': 'query-da8c5b19-78dc-4adf-b82a-e6bb685fb442-worker0_0',\n",
       "  'groupId': 'query-da8c5b19-78dc-4adf-b82a-e6bb685fb442',\n",
       "  'type': 'query_worker',\n",
       "  'createdTime': '2023-07-17T22:58:43.801Z',\n",
       "  'queueInsertionTime': '1970-01-01T00:00:00.000Z',\n",
       "  'statusCode': 'SUCCESS',\n",
       "  'status': 'SUCCESS',\n",
       "  'runnerStatusCode': 'NONE',\n",
       "  'duration': 29426,\n",
       "  'location': {'host': '172.20.0.10', 'port': 8101, 'tlsPort': -1},\n",
       "  'dataSource': 'wikipedia_events_3',\n",
       "  'errorMsg': None},\n",
       " {'id': 'query-da8c5b19-78dc-4adf-b82a-e6bb685fb442',\n",
       "  'groupId': 'query-da8c5b19-78dc-4adf-b82a-e6bb685fb442',\n",
       "  'type': 'query_controller',\n",
       "  'createdTime': '2023-07-17T22:58:36.798Z',\n",
       "  'queueInsertionTime': '1970-01-01T00:00:00.000Z',\n",
       "  'statusCode': 'SUCCESS',\n",
       "  'status': 'SUCCESS',\n",
       "  'runnerStatusCode': 'NONE',\n",
       "  'duration': 40131,\n",
       "  'location': {'host': '172.20.0.10', 'port': 8100, 'tlsPort': -1},\n",
       "  'dataSource': 'wikipedia_events_3',\n",
       "  'errorMsg': None},\n",
       " {'id': 'api-issued_kill_wikipedia_events_blcblnfi_1000-01-01T00:00:00.000Z_2023-07-16T00:00:00.000Z_2023-07-17T22:45:16.432Z',\n",
       "  'groupId': 'api-issued_kill_wikipedia_events_blcblnfi_1000-01-01T00:00:00.000Z_2023-07-16T00:00:00.000Z_2023-07-17T22:45:16.432Z',\n",
       "  'type': 'kill',\n",
       "  'createdTime': '2023-07-17T22:45:16.547Z',\n",
       "  'queueInsertionTime': '1970-01-01T00:00:00.000Z',\n",
       "  'statusCode': 'SUCCESS',\n",
       "  'status': 'SUCCESS',\n",
       "  'runnerStatusCode': 'NONE',\n",
       "  'duration': 9623,\n",
       "  'location': {'host': '172.20.0.10', 'port': 8100, 'tlsPort': -1},\n",
       "  'dataSource': 'wikipedia_events',\n",
       "  'errorMsg': None}]"
      ]
     },
     "execution_count": 18,
     "metadata": {},
     "output_type": "execute_result"
    }
   ],
   "source": [
    "task_client = druid.tasks\n",
    "task_client.tasks()"
   ]
  },
  {
   "attachments": {},
   "cell_type": "markdown",
   "id": "1deaf95f",
   "metadata": {},
   "source": [
    "## REST Client\n",
    "\n",
    "The Druid Python API starts with a REST client that itself is built on the `requests` package. The REST client implements the common patterns seen in the Druid REST API. You can create a client directly:"
   ]
  },
  {
   "cell_type": "code",
   "execution_count": 19,
   "id": "b1e55635",
   "metadata": {},
   "outputs": [],
   "source": [
    "from druidapi.rest import DruidRestClient\n",
    "rest_client = DruidRestClient(druid_host)"
   ]
  },
  {
   "attachments": {},
   "cell_type": "markdown",
   "id": "dcb8055f",
   "metadata": {},
   "source": [
    "Or, if you have already created the Druid client, you can reuse the existing REST client. This is how the various other clients work internally."
   ]
  },
  {
   "cell_type": "code",
   "execution_count": 20,
   "id": "370ba76a",
   "metadata": {},
   "outputs": [],
   "source": [
    "rest_client = druid.rest"
   ]
  },
  {
   "attachments": {},
   "cell_type": "markdown",
   "id": "2654e72c",
   "metadata": {},
   "source": [
    "Use the REST client if you need to make calls that are not yet wrapped by the Python API, or if you want to do something special. To illustrate the client, you can make some of the same calls as in the [Druid REST API notebook](api-tutorial.ipynb).\n",
    "\n",
    "The REST API maintains the Druid host: you just provide the specifc URL tail. There are methods to get or post JSON results. For example, to get status information:"
   ]
  },
  {
   "cell_type": "code",
   "execution_count": 29,
   "id": "9e42dfbc",
   "metadata": {},
   "outputs": [
    {
     "data": {
      "text/plain": [
       "{'version': '26.0.0',\n",
       " 'modules': [{'name': 'org.apache.druid.common.aws.AWSModule',\n",
       "   'artifact': 'druid-aws-common',\n",
       "   'version': '26.0.0'},\n",
       "  {'name': 'org.apache.druid.common.gcp.GcpModule',\n",
       "   'artifact': 'druid-gcp-common',\n",
       "   'version': '26.0.0'},\n",
       "  {'name': 'org.apache.druid.storage.hdfs.HdfsStorageDruidModule',\n",
       "   'artifact': 'druid-hdfs-storage',\n",
       "   'version': '26.0.0'},\n",
       "  {'name': 'org.apache.druid.indexing.kafka.KafkaIndexTaskModule',\n",
       "   'artifact': 'druid-kafka-indexing-service',\n",
       "   'version': '26.0.0'},\n",
       "  {'name': 'org.apache.druid.query.aggregation.datasketches.theta.SketchModule',\n",
       "   'artifact': 'druid-datasketches',\n",
       "   'version': '26.0.0'},\n",
       "  {'name': 'org.apache.druid.query.aggregation.datasketches.theta.oldapi.OldApiSketchModule',\n",
       "   'artifact': 'druid-datasketches',\n",
       "   'version': '26.0.0'},\n",
       "  {'name': 'org.apache.druid.query.aggregation.datasketches.quantiles.DoublesSketchModule',\n",
       "   'artifact': 'druid-datasketches',\n",
       "   'version': '26.0.0'},\n",
       "  {'name': 'org.apache.druid.query.aggregation.datasketches.tuple.ArrayOfDoublesSketchModule',\n",
       "   'artifact': 'druid-datasketches',\n",
       "   'version': '26.0.0'},\n",
       "  {'name': 'org.apache.druid.query.aggregation.datasketches.hll.HllSketchModule',\n",
       "   'artifact': 'druid-datasketches',\n",
       "   'version': '26.0.0'},\n",
       "  {'name': 'org.apache.druid.query.aggregation.datasketches.kll.KllSketchModule',\n",
       "   'artifact': 'druid-datasketches',\n",
       "   'version': '26.0.0'},\n",
       "  {'name': 'org.apache.druid.msq.guice.MSQExternalDataSourceModule',\n",
       "   'artifact': 'druid-multi-stage-query',\n",
       "   'version': '26.0.0'},\n",
       "  {'name': 'org.apache.druid.msq.guice.MSQIndexingModule',\n",
       "   'artifact': 'druid-multi-stage-query',\n",
       "   'version': '26.0.0'},\n",
       "  {'name': 'org.apache.druid.msq.guice.MSQDurableStorageModule',\n",
       "   'artifact': 'druid-multi-stage-query',\n",
       "   'version': '26.0.0'},\n",
       "  {'name': 'org.apache.druid.msq.guice.MSQServiceClientModule',\n",
       "   'artifact': 'druid-multi-stage-query',\n",
       "   'version': '26.0.0'},\n",
       "  {'name': 'org.apache.druid.msq.guice.MSQSqlModule',\n",
       "   'artifact': 'druid-multi-stage-query',\n",
       "   'version': '26.0.0'},\n",
       "  {'name': 'org.apache.druid.msq.guice.SqlTaskModule',\n",
       "   'artifact': 'druid-multi-stage-query',\n",
       "   'version': '26.0.0'}],\n",
       " 'memory': {'maxMemory': 268435456,\n",
       "  'totalMemory': 268435456,\n",
       "  'freeMemory': 221568864,\n",
       "  'usedMemory': 46866592,\n",
       "  'directMemory': 134217728}}"
      ]
     },
     "execution_count": 29,
     "metadata": {},
     "output_type": "execute_result"
    }
   ],
   "source": [
    "rest_client.get_json('/status')"
   ]
  },
  {
   "attachments": {},
   "cell_type": "markdown",
   "id": "837e08b0",
   "metadata": {},
   "source": [
    "A quick comparison of the three approaches (Requests, REST client, Python client):\n",
    "\n",
    "Status:\n",
    "\n",
    "* Requests: `session.get(druid_host + '/status').json()`\n",
    "* REST client: `rest_client.get_json('/status')`\n",
    "* Status client: `status_client.status()`\n",
    "\n",
    "Health:\n",
    "\n",
    "* Requests: `session.get(druid_host + '/status/health').json()`\n",
    "* REST client: `rest_client.get_json('/status/health')`\n",
    "* Status client: `status_client.is_healthy()`\n",
    "\n",
    "Ingest data:\n",
    "\n",
    "* Requests: See the [REST tutorial](api_tutorial.ipynb)\n",
    "* REST client: as the REST tutorial, but use `rest_client.post_json('/druid/v2/sql/task', sql_request)` and\n",
    "  `rest_client.get_json(f\"/druid/indexer/v1/task/{ingestion_taskId}/status\")`\n",
    "* SQL client: `sql_client.run_task(sql)`, also a form for a full SQL request.\n",
    "\n",
    "List datasources:\n",
    "\n",
    "* Requests: `session.get(druid_host + '/druid/coordinator/v1/datasources').json()`\n",
    "* REST client: `rest_client.get_json('/druid/coordinator/v1/datasources')`\n",
    "* Datasources client: `ds_client.names()`\n",
    "\n",
    "Query data, where `sql_request` is a properly formatted `SqlRequest` dictionary:\n",
    "\n",
    "* Requests: `session.post(druid_host + '/druid/v2/sql', json=sql_request).json()`\n",
    "* REST client: `rest_client.post_json('/druid/v2/sql', sql_request)`\n",
    "* SQL Client: `sql_client.show(sql)`, where `sql` is the query text\n",
    "\n",
    "In general, you have to provide the all the details for the Requests library. The REST client handles the low-level repetitious bits. The Python clients provide methods that encapsulate the specifics of the URLs and return formats."
   ]
  },
  {
   "attachments": {},
   "cell_type": "markdown",
   "id": "edc4ee39",
   "metadata": {},
   "source": [
    "## Constants\n",
    "\n",
    "Druid has a large number of special constants: type names, options, etc. The `consts` module provides definitions for many of these:"
   ]
  },
  {
   "cell_type": "code",
   "execution_count": 21,
   "id": "a90187c6",
   "metadata": {},
   "outputs": [],
   "source": [
    "from druidapi import consts"
   ]
  },
  {
   "cell_type": "code",
   "execution_count": 22,
   "id": "fc535898",
   "metadata": {},
   "outputs": [
    {
     "name": "stdout",
     "output_type": "stream",
     "text": [
      "Help on module druidapi.consts in druidapi:\n",
      "\n",
      "NAME\n",
      "    druidapi.consts\n",
      "\n",
      "DESCRIPTION\n",
      "    # Licensed to the Apache Software Foundation (ASF) under one or more\n",
      "    # contributor license agreements.  See the NOTICE file distributed with\n",
      "    # this work for additional information regarding copyright ownership.\n",
      "    # The ASF licenses this file to You under the Apache License, Version 2.0\n",
      "    # (the \"License\"); you may not use this file except in compliance with\n",
      "    # the License.  You may obtain a copy of the License at\n",
      "    #\n",
      "    #     http://www.apache.org/licenses/LICENSE-2.0\n",
      "    #\n",
      "    # Unless required by applicable law or agreed to in writing, software\n",
      "    # distributed under the License is distributed on an \"AS IS\" BASIS,\n",
      "    # WITHOUT WARRANTIES OR CONDITIONS OF ANY KIND, either express or implied.\n",
      "    # See the License for the specific language governing permissions and\n",
      "    # limitations under the License.\n",
      "\n",
      "DATA\n",
      "    COLUMNS_TABLE = 'INFORMATION_SCHEMA.COLUMNS'\n",
      "    CONFIG_RESOURCE = 'CONFIG'\n",
      "    COORD_BASE = '/druid/coordinator/v1'\n",
      "    DATASOURCE_RESOURCE = 'DATASOURCE'\n",
      "    DRUID_DOUBLE_TYPE = 'double'\n",
      "    DRUID_FLOAT_TYPE = 'float'\n",
      "    DRUID_LONG_TYPE = 'long'\n",
      "    DRUID_SCHEMA = 'druid'\n",
      "    DRUID_STRING_TYPE = 'string'\n",
      "    DRUID_TIMESTAMP_TYPE = 'timestamp'\n",
      "    EXTERNAL_RESOURCE = 'EXTERNAL'\n",
      "    EXT_SCHEMA = 'ext'\n",
      "    FAILED_STATE = 'FAILED'\n",
      "    INFORMATION_SCHEMA = 'INFORMATION_SCHEMA'\n",
      "    OVERLORD_BASE = '/druid/indexer/v1'\n",
      "    READ_ACTION = 'READ'\n",
      "    ROUTER_BASE = '/druid/v2'\n",
      "    RUNNING_STATE = 'RUNNING'\n",
      "    SCHEMA_TABLE = 'INFORMATION_SCHEMA.SCHEMATA'\n",
      "    SQL_ARRAY = 'array'\n",
      "    SQL_ARRAY_TYPE = 'ARRAY'\n",
      "    SQL_ARRAY_WITH_TRAILER = 'arrayWithTrailer'\n",
      "    SQL_BIGINT_TYPE = 'BIGINT'\n",
      "    SQL_CSV = 'csv'\n",
      "    SQL_DOUBLE_TYPE = 'DOUBLE'\n",
      "    SQL_FLOAT_TYPE = 'FLOAT'\n",
      "    SQL_OBJECT = 'object'\n",
      "    SQL_TIMESTAMP_TYPE = 'TIMESTAMP'\n",
      "    SQL_VARCHAR_TYPE = 'VARCHAR'\n",
      "    STATE_RESOURCE = 'STATE'\n",
      "    SUCCESS_STATE = 'SUCCESS'\n",
      "    SYS_SCHEMA = 'sys'\n",
      "    TABLES_TABLE = 'INFORMATION_SCHEMA.TABLES'\n",
      "    WRITE_ACTION = 'WRITE'\n",
      "\n",
      "FILE\n",
      "    /opt/conda/lib/python3.11/site-packages/druidapi/consts.py\n",
      "\n",
      "\n"
     ]
    }
   ],
   "source": [
    "help(consts)"
   ]
  },
  {
   "attachments": {},
   "cell_type": "markdown",
   "id": "b661b29f",
   "metadata": {},
   "source": [
    "Using the constants avoids typos:"
   ]
  },
  {
   "cell_type": "code",
   "execution_count": 23,
   "id": "3393af62",
   "metadata": {},
   "outputs": [
    {
     "data": {
      "text/plain": [
       "[{'TableName': 'segments'},\n",
       " {'TableName': 'server_segments'},\n",
       " {'TableName': 'servers'},\n",
       " {'TableName': 'supervisors'},\n",
       " {'TableName': 'tasks'}]"
      ]
     },
     "execution_count": 23,
     "metadata": {},
     "output_type": "execute_result"
    }
   ],
   "source": [
    "sql_client.tables(consts.SYS_SCHEMA)"
   ]
  },
  {
   "attachments": {},
   "cell_type": "markdown",
   "id": "5e789ca7",
   "metadata": {},
   "source": [
    "## Tracing\n",
    "\n",
    "It is often handy to see what the Druid API is doing: what messages it sends to Druid. You may need to debug some function that isn't working as expected. Or, perhaps you want to see what is sent to Druid so you can replicate it in your own code. Either way, just turn on tracing:"
   ]
  },
  {
   "cell_type": "code",
   "execution_count": 24,
   "id": "ac68b60e",
   "metadata": {},
   "outputs": [],
   "source": [
    "druid.trace(True)"
   ]
  },
  {
   "attachments": {},
   "cell_type": "markdown",
   "id": "7b9dc7e3",
   "metadata": {},
   "source": [
    "Then, each call to Druid prints what it sends:"
   ]
  },
  {
   "cell_type": "code",
   "execution_count": 25,
   "id": "72c955c0",
   "metadata": {},
   "outputs": [
    {
     "name": "stdout",
     "output_type": "stream",
     "text": [
      "\n",
      "            SELECT TABLE_NAME AS TableName\n",
      "            FROM INFORMATION_SCHEMA.TABLES\n",
      "            WHERE TABLE_SCHEMA = 'druid'\n",
      "            ORDER BY TABLE_NAME\n",
      "            \n",
      "POST: http://router:8888/druid/v2/sql\n",
      "body: {'query': \"\\n            SELECT TABLE_NAME AS TableName\\n            FROM INFORMATION_SCHEMA.TABLES\\n            WHERE TABLE_SCHEMA = 'druid'\\n            ORDER BY TABLE_NAME\\n            \", 'resultFormat': 'object'}\n"
     ]
    },
    {
     "data": {
      "text/plain": [
       "[{'TableName': 'inline_data'},\n",
       " {'TableName': 'myWiki1'},\n",
       " {'TableName': 'wikipedia'},\n",
       " {'TableName': 'wikipedia_events_3'},\n",
       " {'TableName': 'wikipedia_events_only_human'},\n",
       " {'TableName': 'wikipedia_sketch'}]"
      ]
     },
     "execution_count": 25,
     "metadata": {},
     "output_type": "execute_result"
    }
   ],
   "source": [
    "sql_client.tables()"
   ]
  },
  {
   "attachments": {},
   "cell_type": "markdown",
   "id": "ddaf0dc2",
   "metadata": {},
   "source": [
    "## Conclusion\n",
    "\n",
    "This notebook gave you a whirlwind tour of the Python Druid API: just enough to check your cluster, ingest some data with MSQ and query that data. Druid has many more APIs. As noted earlier, the Python API is a work in progress: the team adds new wrappers as needed for tutorials. Your [contributions](https://github.com/apache/druid/pulls) and [feedback](https://github.com/apache/druid/issues) are welcome."
   ]
  },
  {
   "cell_type": "code",
   "execution_count": null,
   "id": "a393ca79-c96e-4948-9cbb-b5f4b7e326c1",
   "metadata": {},
   "outputs": [],
   "source": []
  }
 ],
 "metadata": {
  "kernelspec": {
   "display_name": "Python 3 (ipykernel)",
   "language": "python",
   "name": "python3"
  },
  "language_info": {
   "codemirror_mode": {
    "name": "ipython",
    "version": 3
   },
   "file_extension": ".py",
   "mimetype": "text/x-python",
   "name": "python",
   "nbconvert_exporter": "python",
   "pygments_lexer": "ipython3",
   "version": "3.11.4"
  }
 },
 "nbformat": 4,
 "nbformat_minor": 5
}
