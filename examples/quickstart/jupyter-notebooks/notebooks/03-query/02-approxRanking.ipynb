{
 "cells": [
  {
   "cell_type": "markdown",
   "id": "557e06e8-9b35-4b34-8322-8a8ede6de709",
   "metadata": {},
   "source": [
    "# Ranking results with ORDERed GROUP BYs on a single dimension\n",
    "\n",
    "__Imagine you’re building a dynamic filter in your app: you want to populate it with, say, the\n",
    "top most popular (COUNT) dimension values in descending order (ORDER BY). Druid speeds up this\n",
    "type of query using approximation by default. In this tutorial, work through some examples and\n",
    "see the effect of turning it off.__\n",
    "\n",
    "## Prerequisites\n",
    "\n",
    "* Import the \"FlightCarrierOnTime (1 month)\" sample date into the default table called `On_Time_Reporting_Carrier_On_Time_Performance_(1987_present)_2005_11`\n"
   ]
  },
  {
   "cell_type": "code",
   "execution_count": null,
   "id": "f2a19226-6abc-436d-ac3c-9c04d6026707",
   "metadata": {},
   "outputs": [],
   "source": [
    "import druidapi\n",
    "import json\n",
    "import matplotlib\n",
    "import matplotlib.pyplot as plt\n",
    "import pandas as pd\n",
    "\n",
    "# druid_host is the hostname and port for your Druid deployment. \n",
    "# In the Docker Compose tutorial environment, this is the Router\n",
    "# service running at \"http://router:8888\".\n",
    "# If you are not using the Docker Compose environment, edit the `druid_host`.\n",
    "\n",
    "druid_host = \"http://router:8888\"\n",
    "druid_host\n",
    "\n",
    "druid = druidapi.jupyter_client(druid_host)\n",
    "display = druid.display\n",
    "sql_client = druid.sql"
   ]
  },
  {
   "cell_type": "markdown",
   "id": "f388633f-195b-4381-98cc-7a2f80f48690",
   "metadata": {},
   "source": [
    "## Example top-n style queries\n",
    "\n",
    "Druid looks out for patterns in incoming SQL SELECT statements to work out if it would benefit from\n",
    "being executed using approximation. A ranking query, like the one below, matches the rules for topn\n",
    "approximation and in Druid it is enabled by default.\n",
    "\n",
    "To see this happen, we need an SQL statement that has:\n",
    "* A GROUP BY on one dimension, and has\n",
    "* an ORDER BY on one aggregate.\n",
    "\n",
    "Run this query to see what the results are like:"
   ]
  },
  {
   "cell_type": "code",
   "execution_count": null,
   "id": "b76e5184-9fe4-4f21-a471-4e15d16515c8",
   "metadata": {},
   "outputs": [],
   "source": [
    "sql = '''\n",
    "SELECT \"Reporting_Airline\", COUNT(*), SUM(\"Distance\")\n",
    "FROM \"On_Time_Reporting_Carrier_On_Time_Performance_(1987_present)_2005_11\"\n",
    "GROUP BY 1\n",
    "ORDER BY 2 DESC\n",
    "LIMIT 10\n",
    "'''\n",
    "display.sql(sql)"
   ]
  },
  {
   "cell_type": "markdown",
   "id": "5600fc48-c999-406f-800b-3f0f6a973aa0",
   "metadata": {},
   "source": [
    "Using the `explain_sql` method (you could also use EXPLAIN PLAN FOR in native SQL APIs) you can see whether approximation was used:"
   ]
  },
  {
   "cell_type": "code",
   "execution_count": null,
   "id": "7595eec0-a709-4cd6-985e-eec8a6e37b61",
   "metadata": {},
   "outputs": [],
   "source": [
    "sql = '''\n",
    "SELECT \"Reporting_Airline\", COUNT(*), SUM(\"Distance\")\n",
    "FROM \"On_Time_Reporting_Carrier_On_Time_Performance_(1987_present)_2005_11\"\n",
    "GROUP BY 1\n",
    "ORDER BY 2 DESC\n",
    "LIMIT 10\n",
    "'''\n",
    "\n",
    "sql_client.explain_sql(sql)"
   ]
  },
  {
   "cell_type": "markdown",
   "id": "8658b26e-2f09-4a97-96e8-589168130559",
   "metadata": {},
   "source": [
    "You know approximation is used when the `queryType` is `topN`.\n",
    "\n",
    "Druid automatically applies a `LIMIT` operation, not just on the final result set, but\n",
    "on the results calculated by each server that’s been called upon to answer the query. This results in\n",
    "less data bubbling up from each process to be merged overall, and therefore the promise of better\n",
    "efficiency in how this type of query executes.\n",
    "\n",
    "Notice the `threshold` value? The parallelised `LIMIT` was the `max` of both the `threshold` shown here – which came from the\n",
    "`LIMIT` in the SQL - and a configuration setting in your cluster – the default for which is 1,000.\n",
    "\n",
    "You can find out how to read and set this default `LIMIT` in the [documentation](https://druid.apache.org/docs/latest/querying/topnquery.html#aliasing).\n",
    "\n",
    "As a first step in understanding the implications, we need to find data in our sample set where the\n",
    "cardinality of the dimension that we will `GROUP BY` exceeds that number. By default, that is 1000.\n",
    "\n",
    "What's the cardinality of our dimension?"
   ]
  },
  {
   "cell_type": "code",
   "execution_count": null,
   "id": "65a968e5-d51e-47e9-af04-88181f3b865b",
   "metadata": {},
   "outputs": [],
   "source": [
    "sql = '''\n",
    "SELECT COUNT (DISTINCT \"Reporting_Airline\")\n",
    "FROM \"On_Time_Reporting_Carrier_On_Time_Performance_(1987_present)_2005_11\"\n",
    "'''\n",
    "display.sql(sql)"
   ]
  },
  {
   "cell_type": "markdown",
   "id": "13c8a101-dcba-49be-8d05-0a5dbd9731ca",
   "metadata": {},
   "source": [
    "This is too low – the initial `LIMIT` has no effect! This means there is no trimming happening anywhere in the database. As a result, as the documentation explains, our results are going to be without error. All the data servers will return all their results, without trimming, to be merged and passed back to us.\n",
    "\n",
    "Let's find another dimension."
   ]
  },
  {
   "cell_type": "code",
   "execution_count": null,
   "id": "71c1816b-f090-4a3d-b476-8d40eb9c2dec",
   "metadata": {},
   "outputs": [],
   "source": [
    "sql = '''\n",
    "SELECT COUNT (DISTINCT \"Tail_Number\")\n",
    "FROM \"On_Time_Reporting_Carrier_On_Time_Performance_(1987_present)_2005_11\"\n",
    "WHERE \"Tail_Number\" <> ''\n",
    "'''\n",
    "display.sql(sql)"
   ]
  },
  {
   "cell_type": "markdown",
   "id": "72a1a858-bda8-464e-988b-c4ed80b63f43",
   "metadata": {},
   "source": [
    "With this many distinct values to `GROUP BY`, we know that data servers will trim their results when the\n",
    "`topN` engine is engaged.\n",
    "\n",
    "There is another factor to consider – distribution."
   ]
  },
  {
   "cell_type": "code",
   "execution_count": null,
   "id": "208f1463-34dd-4b0e-aa78-e582e2133a8f",
   "metadata": {},
   "outputs": [],
   "source": [
    "sql = '''\n",
    "SELECT \"Tail_Number\", COUNT(*)\n",
    "FROM \"On_Time_Reporting_Carrier_On_Time_Performance_(1987_present)_2005_11\"\n",
    "WHERE \"Tail_Number\" <> ''\n",
    "GROUP BY 1\n",
    "ORDER BY 2 DESC\n",
    "LIMIT 500\n",
    "'''\n",
    "\n",
    "df4 = pd.DataFrame(sql_client.sql(sql))\n",
    "\n",
    "df4.plot(x='Tail_Number', y='EXPR$1', marker='o')\n",
    "plt.xticks(rotation=45, ha='right')\n",
    "plt.gca().get_legend().remove()\n",
    "plt.show()"
   ]
  },
  {
   "cell_type": "markdown",
   "id": "b16d9a4d-c9e7-447b-8cdb-7ad1c0f88d73",
   "metadata": {},
   "source": [
    "Imagine that the cut-off point is in the first 10% of results - in this sample data\n",
    "that's about the first 400.\n",
    "\n",
    "The distribution above shows that there is a _very_ high chance that the top result\n",
    "is going to be top result across all our data, and the second, and the third, and so on.\n",
    "The same ranking will, very likely, come back from all of the servers.\n",
    "\n",
    "But as we approach 1000, 25% of the way along, we have a flatter distribution. It is\n",
    "not as predictable any more where results will rank. Consider, too, that this is a very\n",
    "simple distribution plot: what will happen when we have `WHERE` on `__time` or other dimensions?\n",
    "\n",
    "Let's find out what the impact of the initial `LIMIT` is on our results by comparing two result sets:\n",
    "one with topn enabled, and one with topn disabled. And let's focus on around 10% of the data.\n",
    "\n",
    "We will run two queries, `sql1` and `sql2`. The only difference will be that we apply the `useApproximateTopN`\n",
    "query context parameter to turn off approximation for `sql2`.\n",
    "\n",
    "Then we will use the `compare` method to see whether the results differ."
   ]
  },
  {
   "cell_type": "code",
   "execution_count": null,
   "id": "71db4746-4e8a-447e-aa58-f4c4ce3d7ffc",
   "metadata": {},
   "outputs": [],
   "source": [
    "sql = '''\n",
    "SELECT \"Tail_Number\", COUNT(*) AS \"count\", SUM(Distance) AS \"distance\"\n",
    "    FROM \"On_Time_Reporting_Carrier_On_Time_Performance_(1987_present)_2005_11\"\n",
    "    WHERE \"Tail_Number\" IS NOT NULL\n",
    "    GROUP BY 1\n",
    "    ORDER BY 3 DESC\n",
    "    LIMIT 500\n",
    "'''\n",
    "\n",
    "req = sql_client.sql_request(sql)\n",
    "req.add_context(\"useApproximateTopN\", \"false\")\n",
    "resp = sql_client.sql_query(req)\n",
    "\n",
    "df1 = pd.DataFrame(sql_client.sql(sql))\n",
    "df2 = pd.DataFrame(sql_client.sql_query(req).rows)\n",
    "\n",
    "df3 = df1.compare(df2)\n",
    "df3"
   ]
  },
  {
   "cell_type": "markdown",
   "id": "78836242-acc8-4403-9e96-2177b96110ed",
   "metadata": {},
   "source": [
    "There are two things to notice:\n",
    "\n",
    "1. Some rows are in different places, and\n",
    "2. Some values are different\n",
    "\n",
    "This is because certain data servers returned different sets of results, depending entirely on the local distribution.\n",
    "\n",
    "* `N829MH` has a different value and position - 43 versus 42.\n",
    "* `N566JB` has a different rank position because of that – 42 versus 43.\n",
    "\n",
    "Let's try this with a different dimension that has a different distribution pattern. Let's find another candidate dimension."
   ]
  },
  {
   "cell_type": "code",
   "execution_count": null,
   "id": "a06f3eae-4711-4f60-9379-1dd00a0c4568",
   "metadata": {},
   "outputs": [],
   "source": [
    "sql = '''\n",
    "SELECT COUNT(DISTINCT \"Flight_Number_Reporting_Airline\")\n",
    "FROM \"On_Time_Reporting_Carrier_On_Time_Performance_(1987_present)_2005_11\"\n",
    "WHERE \"Flight_Number_Reporting_Airline\" <> ''\n",
    "'''\n",
    "\n",
    "display.sql(sql)"
   ]
  },
  {
   "cell_type": "markdown",
   "id": "5746b2f4-9002-4bee-a762-8ffb3c70e550",
   "metadata": {},
   "source": [
    "This is within the default `LIMIT` boundary.\n",
    "\n",
    "Importantly, it's also greater than the cardinality of the other dimension. It promises to\n",
    "introduce much greater efficiency in the query execution, and promises better performance!\n",
    "\n",
    "But before we get too excited, let's check the distribution."
   ]
  },
  {
   "cell_type": "code",
   "execution_count": null,
   "id": "a96f924c-9fc1-4000-9a54-7a951db5d2bb",
   "metadata": {},
   "outputs": [],
   "source": [
    "sql = '''\n",
    "SELECT \"Flight_Number_Reporting_Airline\", COUNT(*)\n",
    "FROM \"On_Time_Reporting_Carrier_On_Time_Performance_(1987_present)_2005_11\"\n",
    "WHERE \"Flight_Number_Reporting_Airline\" <> ''\n",
    "GROUP BY 1\n",
    "ORDER BY 2 DESC\n",
    "LIMIT 500\n",
    "'''\n",
    "\n",
    "df5 = pd.DataFrame(sql_client.sql(sql))\n",
    "\n",
    "df5.plot(x='Flight_Number_Reporting_Airline', y='EXPR$1', kind=\"bar\", xticks=[])\n",
    "plt.gca().get_legend().remove()\n",
    "plt.show()"
   ]
  },
  {
   "cell_type": "markdown",
   "id": "4866091d-e689-4209-8f6e-4edd526646e9",
   "metadata": {},
   "source": [
    "This is a much flatter distribution.\n",
    "\n",
    "We're much less likely to have the same ranking across the board.\n",
    "\n",
    "Let's see how this pushed-down, parallelised `LIMIT` operation affects results.\n",
    "\n",
    "For brevity's sake, let's just look at only the top 10 results. Remember, with `topN`, our own\n",
    "`LIMIT` is applied on the final result set – but there's still the parallelised `LIMIT`\n",
    "on each data server."
   ]
  },
  {
   "cell_type": "code",
   "execution_count": null,
   "id": "405f7a9b-ac13-4c13-8e30-42058df4cbce",
   "metadata": {},
   "outputs": [],
   "source": [
    "sql = '''\n",
    "SELECT \"Flight_Number_Reporting_Airline\", AVG(\"Distance\")\n",
    "FROM \"On_Time_Reporting_Carrier_On_Time_Performance_(1987_present)_2005_11\"\n",
    "WHERE \"Flight_Number_Reporting_Airline\" IS NOT NULL\n",
    "GROUP BY 1\n",
    "ORDER BY 2 DESC\n",
    "LIMIT 10\n",
    "'''\n",
    "\n",
    "req = sql_client.sql_request(sql)\n",
    "req.add_context(\"useApproximateTopN\", \"false\")\n",
    "resp = sql_client.sql_query(req)\n",
    "\n",
    "df1 = pd.DataFrame(sql_client.sql(sql))\n",
    "df2 = pd.DataFrame(sql_client.sql_query(req).rows)\n",
    "\n",
    "df3 = df1.compare(df2)\n",
    "df3"
   ]
  },
  {
   "cell_type": "markdown",
   "id": "989a3e1c-cc8a-47c9-ad15-0b95fa00c7a6",
   "metadata": {},
   "source": [
    "Here the impact of a flatter distribution over a greater cardinality is clear,\n",
    "not just in ranking order, but also in the values that have been calculated\n",
    "to give us that ranking.\n",
    "\n",
    "Reporting airline `17` is in a lower position with `topN` than without it. And\n",
    "the calculation itself, because it non-additive, gives a higher error.\n",
    "\n",
    "topN is useful for interactive elements, then, like filters or initial lists of results to\n",
    "deep dive into. That's because of the speed boost we receive at the expense of accuracy –\n",
    "the mantra for all approximation.\n",
    "\n",
    "We've seen that the accuracy of the ranking depends greatly on data distribution, and\n",
    "thereby on what each of the data servers \"vote\" for in terms of position.\n",
    "\n",
    "In one final example, let's be more realistic in use. An dynamically-populated list\n",
    "of filter options is likely to span just a particular period, say two weeks.\n",
    "\n",
    "Let's set a time period in our query, noting that this will impact (a) the cardinality\n",
    "of the dimension we `GROUP BY`, and (b) the number of data servers that participate in the query\n",
    "and \"vote\" on the rankings.\n",
    "\n",
    "First, let's look at the cardinality:"
   ]
  },
  {
   "cell_type": "code",
   "execution_count": null,
   "id": "8b4c0479-7523-4249-9162-7674931a4a2b",
   "metadata": {},
   "outputs": [],
   "source": [
    "sql = '''\n",
    "SELECT COUNT (DISTINCT \"Tail_Number\")\n",
    "FROM \"On_Time_Reporting_Carrier_On_Time_Performance_(1987_present)_2005_11\"\n",
    "WHERE \"Tail_Number\" <> ''\n",
    "AND (TIMESTAMP '2005-11-01' <= \"__time\" AND \"__time\" <= TIMESTAMP '2005-11-14')\n",
    "'''\n",
    "display.sql(sql)"
   ]
  },
  {
   "cell_type": "markdown",
   "id": "e2b30496-e973-4464-b559-9e42f384a40c",
   "metadata": {},
   "source": [
    "Now we understand that `topN` will affect on the results in this period,\n",
    "let's plot the distribution."
   ]
  },
  {
   "cell_type": "code",
   "execution_count": null,
   "id": "d039c393-96f4-4847-ac60-4414477ebc3b",
   "metadata": {},
   "outputs": [],
   "source": [
    "sql = '''\n",
    "SELECT \"Tail_Number\", COUNT(*)\n",
    "FROM \"On_Time_Reporting_Carrier_On_Time_Performance_(1987_present)_2005_11\"\n",
    "WHERE \"Tail_Number\" <> ''\n",
    "AND (TIMESTAMP '2005-11-01' <= \"__time\" AND \"__time\" <= TIMESTAMP '2005-11-14')\n",
    "GROUP BY 1\n",
    "ORDER BY 2 DESC\n",
    "LIMIT 500\n",
    "'''\n",
    "\n",
    "df4 = pd.DataFrame(sql_client.sql(sql))\n",
    "\n",
    "df4.plot(x='Tail_Number', y='EXPR$1', marker='o')\n",
    "plt.xticks(rotation=45, ha='right')\n",
    "plt.gca().get_legend().remove()\n",
    "plt.show()"
   ]
  },
  {
   "cell_type": "markdown",
   "id": "eeed8fa8-d1ce-41b2-955b-88fb0834ab36",
   "metadata": {},
   "source": [
    "This looks like a fairly good distribution pattern for us to use for our purpose of\n",
    "an interactive filter.\n",
    "\n",
    "Let's see how it plays out, accurate versus inaccurate:"
   ]
  },
  {
   "cell_type": "code",
   "execution_count": null,
   "id": "d47d2017-1d89-4622-a42c-d86f29a774e1",
   "metadata": {},
   "outputs": [],
   "source": [
    "sql = '''\n",
    "SELECT \"Tail_Number\", COUNT(*) AS \"count\", SUM(Distance) AS \"distance\"\n",
    "    FROM \"On_Time_Reporting_Carrier_On_Time_Performance_(1987_present)_2005_11\"\n",
    "    WHERE \"Tail_Number\" IS NOT NULL\n",
    "    AND (TIMESTAMP '2005-11-01' <= \"__time\" AND \"__time\" <= TIMESTAMP '2005-11-14')\n",
    "    GROUP BY 1\n",
    "    ORDER BY 3 DESC\n",
    "    LIMIT 500\n",
    "'''\n",
    "\n",
    "req = sql_client.sql_request(sql)\n",
    "req.add_context(\"useApproximateTopN\", \"false\")\n",
    "resp = sql_client.sql_query(req)\n",
    "\n",
    "df1 = pd.DataFrame(sql_client.sql(sql))\n",
    "df2 = pd.DataFrame(sql_client.sql_query(req).rows)\n",
    "\n",
    "df3 = df1.compare(df2)\n",
    "df3"
   ]
  },
  {
   "cell_type": "markdown",
   "id": "f58a1846-5072-4495-b840-a620de3c0442",
   "metadata": {},
   "source": [
    "The distribution, together with our filters, means that our results are very close to accurate.\n",
    "\n",
    "In conclusion:\n",
    "\n",
    "* TopN is the default execution model for `GROUP BY` queries with one dimension, an `ORDER BY` and a `LIMIT` clause\n",
    "* You can turn it off with a query context parameter\n",
    "* Accuracy is highly dependent on distribution of the data, after filters etc., across the database"
   ]
  }
 ],
 "metadata": {
  "kernelspec": {
   "display_name": "Python 3 (ipykernel)",
   "language": "python",
   "name": "python3"
  },
  "language_info": {
   "codemirror_mode": {
    "name": "ipython",
    "version": 3
   },
   "file_extension": ".py",
   "mimetype": "text/x-python",
   "name": "python",
   "nbconvert_exporter": "python",
   "pygments_lexer": "ipython3",
   "version": "3.11.4"
  }
 },
 "nbformat": 4,
 "nbformat_minor": 5
}
