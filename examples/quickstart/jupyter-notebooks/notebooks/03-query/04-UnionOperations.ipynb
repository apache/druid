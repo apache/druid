{
 "cells": [
  {
   "cell_type": "markdown",
   "id": "557e06e8-9b35-4b34-8322-8a8ede6de709",
   "metadata": {},
   "source": [
    "# Using `UNION ALL` to address multiple `TABLE`s in the same query\n",
    "\n",
    "While working with Druid, you may need to bring together two different tables of results together into a single result list, or to treat multiple tables as a single input to a query. This notebook introduces the `UNION ALL` operator, walking through two ways in which this operator can be used to achieve this result: top-level and table-level `UNION ALL`."
   ]
  },
  {
   "cell_type": "markdown",
   "id": "cf4554ae-6516-4e76-b202-d6e2fdf31603",
   "metadata": {},
   "source": [
    "## Prerequisites\n",
    "\n",
    "This tutorial works with Druid 26.0.0 or later.\n",
    "\n",
    "#### Run using Docker\n",
    "\n",
    "Launch this tutorial and all prerequisites using the `druid-jupyter` profile of the Docker Compose file for Jupyter-based Druid tutorials. For more information, see [Docker for Jupyter Notebook tutorials](https://druid.apache.org/docs/latest/tutorials/tutorial-jupyter-docker.html).\n",
    "   \n",
    "#### Run Druid without Docker\n",
    "\n",
    "If you do not use the Docker Compose environment, you need the following:\n",
    "\n",
    "* A running Druid instance, with a `DRUID_HOST` local environment variable containing the servername of your Druid router\n",
    "* [druidapi](https://github.com/apache/druid/blob/master/examples/quickstart/jupyter-notebooks/druidapi/README.md), a Python client for Apache Druid. Follow the instructions in the Install section of the README file."
   ]
  },
  {
   "cell_type": "markdown",
   "id": "ee0c3171-def8-4ad9-9c56-d3a67f309631",
   "metadata": {},
   "source": [
    "### Initialization\n",
    "\n",
    "Run the next cell to attempt a connection to Druid services. If successful, the Druid version number will be shown in the output."
   ]
  },
  {
   "cell_type": "code",
   "execution_count": 2,
   "id": "9fa4abfe-f878-4031-88f2-94c13e922279",
   "metadata": {},
   "outputs": [
    {
     "name": "stdout",
     "output_type": "stream",
     "text": [
      "Opening a connection to http://druid-master-0.lan:8888.\n"
     ]
    },
    {
     "data": {
      "text/plain": [
       "'26.0.0'"
      ]
     },
     "execution_count": 2,
     "metadata": {},
     "output_type": "execute_result"
    }
   ],
   "source": [
    "import druidapi\n",
    "import os\n",
    "\n",
    "if 'DRUID_HOST' not in os.environ.keys():\n",
    "    druid_host=f\"http://localhost:8888\"\n",
    "else:\n",
    "    druid_host=f\"http://{os.environ['DRUID_HOST']}:8888\"\n",
    "    \n",
    "print(f\"Opening a connection to {druid_host}.\")\n",
    "druid = druidapi.jupyter_client(druid_host)\n",
    "\n",
    "display = druid.display\n",
    "sql_client = druid.sql\n",
    "status_client = druid.status\n",
    "\n",
    "status_client.version"
   ]
  },
  {
   "cell_type": "markdown",
   "id": "f388633f-195b-4381-98cc-7a2f80f48690",
   "metadata": {},
   "source": [
    "## Using Top-level `UNION ALL` to concatenate result sets\n",
    "\n",
    "Run the following cell to ingest the wikipedia data example. Once completed, you will see a description of the new table.\n",
    "\n",
    "Monitor the ingestion in the Druid console while it runs."
   ]
  },
  {
   "cell_type": "code",
   "execution_count": 3,
   "id": "a399196b-12db-42ff-ae24-c7232f150aba",
   "metadata": {},
   "outputs": [
    {
     "data": {
      "text/html": [
       "<div class=\"druid\"><table>\n",
       "<tr><th>Position</th><th>Name</th><th>Type</th></tr>\n",
       "<tr><td>1</td><td>__time</td><td>TIMESTAMP</td></tr>\n",
       "<tr><td>2</td><td>isRobot</td><td>VARCHAR</td></tr>\n",
       "<tr><td>3</td><td>channel</td><td>VARCHAR</td></tr>\n",
       "<tr><td>4</td><td>flags</td><td>VARCHAR</td></tr>\n",
       "<tr><td>5</td><td>isUnpatrolled</td><td>VARCHAR</td></tr>\n",
       "<tr><td>6</td><td>page</td><td>VARCHAR</td></tr>\n",
       "<tr><td>7</td><td>diffUrl</td><td>VARCHAR</td></tr>\n",
       "<tr><td>8</td><td>added</td><td>BIGINT</td></tr>\n",
       "<tr><td>9</td><td>comment</td><td>VARCHAR</td></tr>\n",
       "<tr><td>10</td><td>commentLength</td><td>BIGINT</td></tr>\n",
       "<tr><td>11</td><td>isNew</td><td>VARCHAR</td></tr>\n",
       "<tr><td>12</td><td>isMinor</td><td>VARCHAR</td></tr>\n",
       "<tr><td>13</td><td>delta</td><td>BIGINT</td></tr>\n",
       "<tr><td>14</td><td>isAnonymous</td><td>VARCHAR</td></tr>\n",
       "<tr><td>15</td><td>user</td><td>VARCHAR</td></tr>\n",
       "<tr><td>16</td><td>deltaBucket</td><td>BIGINT</td></tr>\n",
       "<tr><td>17</td><td>deleted</td><td>BIGINT</td></tr>\n",
       "<tr><td>18</td><td>namespace</td><td>VARCHAR</td></tr>\n",
       "<tr><td>19</td><td>cityName</td><td>VARCHAR</td></tr>\n",
       "<tr><td>20</td><td>countryName</td><td>VARCHAR</td></tr>\n",
       "<tr><td>21</td><td>regionIsoCode</td><td>VARCHAR</td></tr>\n",
       "<tr><td>22</td><td>metroCode</td><td>BIGINT</td></tr>\n",
       "<tr><td>23</td><td>countryIsoCode</td><td>VARCHAR</td></tr>\n",
       "<tr><td>24</td><td>regionName</td><td>VARCHAR</td></tr>\n",
       "</table></div>"
      ],
      "text/plain": [
       "<IPython.core.display.HTML object>"
      ]
     },
     "metadata": {},
     "output_type": "display_data"
    }
   ],
   "source": [
    "sql='''\n",
    "REPLACE INTO \"example-wikipedia-unionall\" OVERWRITE ALL\n",
    "WITH \"ext\" AS (SELECT *\n",
    "FROM TABLE(\n",
    "  EXTERN(\n",
    "    '{\"type\":\"http\",\"uris\":[\"https://druid.apache.org/data/wikipedia.json.gz\"]}',\n",
    "    '{\"type\":\"json\"}'\n",
    "  )\n",
    ") EXTEND (\"isRobot\" VARCHAR, \"channel\" VARCHAR, \"timestamp\" VARCHAR, \"flags\" VARCHAR, \"isUnpatrolled\" VARCHAR, \"page\" VARCHAR, \"diffUrl\" VARCHAR, \"added\" BIGINT, \"comment\" VARCHAR, \"commentLength\" BIGINT, \"isNew\" VARCHAR, \"isMinor\" VARCHAR, \"delta\" BIGINT, \"isAnonymous\" VARCHAR, \"user\" VARCHAR, \"deltaBucket\" BIGINT, \"deleted\" BIGINT, \"namespace\" VARCHAR, \"cityName\" VARCHAR, \"countryName\" VARCHAR, \"regionIsoCode\" VARCHAR, \"metroCode\" BIGINT, \"countryIsoCode\" VARCHAR, \"regionName\" VARCHAR))\n",
    "SELECT\n",
    "  TIME_PARSE(\"timestamp\") AS \"__time\",\n",
    "  \"isRobot\",\n",
    "  \"channel\",\n",
    "  \"flags\",\n",
    "  \"isUnpatrolled\",\n",
    "  \"page\",\n",
    "  \"diffUrl\",\n",
    "  \"added\",\n",
    "  \"comment\",\n",
    "  \"commentLength\",\n",
    "  \"isNew\",\n",
    "  \"isMinor\",\n",
    "  \"delta\",\n",
    "  \"isAnonymous\",\n",
    "  \"user\",\n",
    "  \"deltaBucket\",\n",
    "  \"deleted\",\n",
    "  \"namespace\",\n",
    "  \"cityName\",\n",
    "  \"countryName\",\n",
    "  \"regionIsoCode\",\n",
    "  \"metroCode\",\n",
    "  \"countryIsoCode\",\n",
    "  \"regionName\"\n",
    "FROM \"ext\"\n",
    "PARTITIONED BY DAY\n",
    "'''\n",
    "\n",
    "sql_client.run_task(sql)\n",
    "sql_client.wait_until_ready('example-wikipedia-unionall')\n",
    "display.table('example-wikipedia-unionall')"
   ]
  },
  {
   "cell_type": "markdown",
   "id": "24b47cc3-68f5-4a73-b374-94bbfa32d91d",
   "metadata": {},
   "source": [
    "With `UNION ALL`, we can append the results of one query with another.\n",
    "\n",
    "The first query in the cell below, `set1`, returns the ten first edits to any \"fr\"-like `channel` between midday and 1pm on the 27th June 2016. The second query repeats this but for any \"en\"-like `channel`."
   ]
  },
  {
   "cell_type": "code",
   "execution_count": 5,
   "id": "b76e5184-9fe4-4f21-a471-4e15d16515c8",
   "metadata": {},
   "outputs": [
    {
     "data": {
      "text/html": [
       "<div class=\"druid\"><table>\n",
       "<tr><th>__time</th><th>channel</th><th>page</th><th>isRobot</th></tr>\n",
       "<tr><td>2016-06-27T12:00:49.515Z</td><td>#fr.wikipedia</td><td>MHD (rappeur)</td><td>false</td></tr>\n",
       "<tr><td>2016-06-27T12:01:38.670Z</td><td>#fr.wikipedia</td><td>Utilisateur:Barada-nikto/Exercice de style</td><td>false</td></tr>\n",
       "<tr><td>2016-06-27T12:03:25.126Z</td><td>#fr.wikipedia</td><td>Bataille de Noyon</td><td>false</td></tr>\n",
       "<tr><td>2016-06-27T12:03:32.290Z</td><td>#fr.wikipedia</td><td>Niveau de base</td><td>false</td></tr>\n",
       "<tr><td>2016-06-27T12:03:37.170Z</td><td>#fr.wikipedia</td><td>Utilisateur:Barada-nikto/Brouillon/bacasable</td><td>false</td></tr>\n",
       "<tr><td>2016-06-27T12:04:37.709Z</td><td>#fr.wikipedia</td><td>Liste des personnages des Experts</td><td>false</td></tr>\n",
       "<tr><td>2016-06-27T12:05:01.862Z</td><td>#fr.wikipedia</td><td>24 Heures du Mans 2016</td><td>false</td></tr>\n",
       "<tr><td>2016-06-27T12:05:25.435Z</td><td>#fr.wikipedia</td><td>La Seyne-sur-Mer</td><td>false</td></tr>\n",
       "<tr><td>2016-06-27T12:06:07.231Z</td><td>#fr.wikipedia</td><td>Parc naturel régional des volcans d&#x27;Auvergne</td><td>false</td></tr>\n",
       "<tr><td>2016-06-27T12:06:38.941Z</td><td>#fr.wikipedia</td><td>Adam Baldwin</td><td>false</td></tr>\n",
       "<tr><td>2016-06-27T12:00:13.281Z</td><td>#en.wikipedia</td><td>Preston North End F.C.</td><td>false</td></tr>\n",
       "<tr><td>2016-06-27T12:00:32.448Z</td><td>#en.wikipedia</td><td>Left Camp of Israel</td><td>false</td></tr>\n",
       "<tr><td>2016-06-27T12:01:10.407Z</td><td>#en.wikipedia</td><td>South Morang railway station</td><td>false</td></tr>\n",
       "<tr><td>2016-06-27T12:01:13.065Z</td><td>#en.wikipedia</td><td>User talk:Cyphoidbomb</td><td>false</td></tr>\n",
       "<tr><td>2016-06-27T12:01:17.027Z</td><td>#en.wikipedia</td><td>Wikipedia talk:Criteria for speedy deletion</td><td>false</td></tr>\n",
       "<tr><td>2016-06-27T12:01:33.439Z</td><td>#en.wikipedia</td><td>User talk:Cernega</td><td>false</td></tr>\n",
       "<tr><td>2016-06-27T12:01:36.315Z</td><td>#en.wikipedia</td><td>Wikipedia:Administrators&#x27; noticeboard</td><td>true</td></tr>\n",
       "<tr><td>2016-06-27T12:01:38.219Z</td><td>#en.wikipedia</td><td>Bruce Westerman</td><td>false</td></tr>\n",
       "<tr><td>2016-06-27T12:02:12.705Z</td><td>#en.wikipedia</td><td>List of Chinese football transfers summer 2016</td><td>false</td></tr>\n",
       "<tr><td>2016-06-27T12:02:29.441Z</td><td>#en.wikipedia</td><td>Victoria Duval</td><td>false</td></tr>\n",
       "</table></div>"
      ],
      "text/plain": [
       "<IPython.core.display.HTML object>"
      ]
     },
     "metadata": {},
     "output_type": "display_data"
    }
   ],
   "source": [
    "sql = '''\n",
    "WITH\n",
    "set1 AS (\n",
    "  SELECT\n",
    "    __time,\n",
    "    \"channel\",\n",
    "    \"page\",\n",
    "    \"isRobot\"\n",
    "  FROM \"example-wikipedia-unionall\"\n",
    "  WHERE DATE_TRUNC('HOUR', __time) = TIMESTAMP '2016-06-27 12:00:00'\n",
    "    AND channel LIKE '#fr%'\n",
    "  ORDER BY __time\n",
    "  LIMIT 10\n",
    "  ),\n",
    "set2 AS (\n",
    "  SELECT\n",
    "    __time,\n",
    "    \"channel\",\n",
    "    \"page\",\n",
    "    \"isRobot\"\n",
    "  FROM \"example-wikipedia-unionall\"\n",
    "  WHERE DATE_TRUNC('HOUR', __time) = TIMESTAMP '2016-06-27 12:00:00'\n",
    "    AND channel LIKE '#en%'\n",
    "  ORDER BY __time\n",
    "  LIMIT 10\n",
    "  )\n",
    "  \n",
    "SELECT * from set1\n",
    "UNION ALL\n",
    "SELECT * from set2\n",
    "'''\n",
    "\n",
    "display.sql(sql)"
   ]
  },
  {
   "cell_type": "markdown",
   "id": "f5e77fa9-a60c-4955-b763-58d970d7326d",
   "metadata": {},
   "source": [
    "This is what's known as a [top-level](https://druid.apache.org/docs/latest/querying/sql.html#top-level) `UNION` operation. First, `set1` was calculated, and the results of subsequent sets were then appended.\n",
    "\n",
    "Notice that these results are not in order by time – even though the individual sets did `ORDER BY` time. Druid simply concatenated the two result sets together.\n",
    "\n",
    "Optionally, run the next cell – it shows the precise `EXPLAIN PLAN` for the query. You can see there are two `query` execution plans, one for each query, and that Druid's planning process has taken time to optimize how the query above will actually execute."
   ]
  },
  {
   "cell_type": "code",
   "execution_count": 6,
   "id": "97934da2-17d1-4c91-8ae3-926cc89185c1",
   "metadata": {},
   "outputs": [
    {
     "ename": "NameError",
     "evalue": "name 'json' is not defined",
     "output_type": "error",
     "traceback": [
      "\u001b[0;31m---------------------------------------------------------------------------\u001b[0m",
      "\u001b[0;31mNameError\u001b[0m                                 Traceback (most recent call last)",
      "Cell \u001b[0;32mIn[6], line 1\u001b[0m\n\u001b[0;32m----> 1\u001b[0m \u001b[38;5;28mprint\u001b[39m(\u001b[43mjson\u001b[49m\u001b[38;5;241m.\u001b[39mdumps(json\u001b[38;5;241m.\u001b[39mloads(sql_client\u001b[38;5;241m.\u001b[39mexplain_sql(sql)[\u001b[38;5;124m'\u001b[39m\u001b[38;5;124mPLAN\u001b[39m\u001b[38;5;124m'\u001b[39m]), indent\u001b[38;5;241m=\u001b[39m\u001b[38;5;241m2\u001b[39m))\n",
      "\u001b[0;31mNameError\u001b[0m: name 'json' is not defined"
     ]
    }
   ],
   "source": [
    "print(json.dumps(json.loads(sql_client.explain_sql(sql)['PLAN']), indent=2))"
   ]
  },
  {
   "cell_type": "markdown",
   "id": "1100fe19-457d-4bf7-99d0-d2f778017897",
   "metadata": {},
   "source": [
    "The following cell contains another example of `UNION ALL`, where some filtering and `GROUP BY` operations have been added. These operations are included in the individual component queries as well as part of the top level `UNION`."
   ]
  },
  {
   "cell_type": "code",
   "execution_count": null,
   "id": "3514ad80-cbe6-4563-8b7b-9d48f8b9a508",
   "metadata": {},
   "outputs": [],
   "source": [
    "sql='''\n",
    "WITH\n",
    "set1 AS (\n",
    "    SELECT \"Reporting_Airline\", \"Distance\"\n",
    "    FROM \"example-flights-unionall\"\n",
    "    WHERE DATE_TRUNC('HOUR', __time) = TIMESTAMP '2005-11-01 11:00:00'\n",
    "  ),\n",
    "set2 AS (\n",
    "    SELECT\n",
    "        \"Reporting_Airline\",\n",
    "        COUNT(*) AS \"Frights\",\n",
    "        MAX(Distance) AS \"Lengthiest\",\n",
    "        MIN(Distance) AS \"Shortest\"\n",
    "    FROM \"example-flights-unionall\"\n",
    "    WHERE DATE_TRUNC('HOUR', __time) = TIMESTAMP '2005-11-02 11:00:00'\n",
    "    AND \"Reporting_Airline\" LIKE 'A%'\n",
    "    GROUP BY 1\n",
    "  )\n",
    "\n",
    "SELECT \"Reporting_Airline\",\n",
    "        COUNT(*) AS \"Frights\",\n",
    "        MAX(Distance) AS \"Lengthiest\",\n",
    "        MIN(Distance) AS \"Shortest\" from set1\n",
    "  WHERE \"Reporting_Airline\" LIKE 'AA'\n",
    "  GROUP BY 1\n",
    "UNION ALL\n",
    "SELECT * from set2\n",
    "'''\n",
    "\n",
    "display.sql(sql)"
   ]
  },
  {
   "cell_type": "markdown",
   "id": "800add1a-d459-4796-b974-b2f094db417f",
   "metadata": {},
   "source": [
    "The next cell contains two result sets: `set1` provides some statistics for the 1st November, `set2` for the 2nd November.\n",
    "\n",
    "The `UNION ALL` operation simply concatenates the two sets of results."
   ]
  },
  {
   "cell_type": "code",
   "execution_count": null,
   "id": "8e687466-74bb-4cc0-ba17-913d1807fc60",
   "metadata": {},
   "outputs": [],
   "source": [
    "sql='''\n",
    "WITH\n",
    "set1 AS (\n",
    "    SELECT\n",
    "        \"Reporting_Airline\",\n",
    "        COUNT(*) AS \"Flights\",\n",
    "        MIN(Distance) AS \"Shortest\",\n",
    "        MAX(Distance) AS \"Longest\"\n",
    "    FROM \"example-flights-unionall\"\n",
    "    WHERE DATE_TRUNC('HOUR', __time) = TIMESTAMP '2005-11-01 11:00:00'\n",
    "    AND \"Reporting_Airline\" LIKE 'A%'\n",
    "    GROUP BY 1\n",
    "  ),\n",
    "set2 AS (\n",
    "    SELECT\n",
    "        \"Reporting_Airline\",\n",
    "        COUNT(*) AS \"Frights\",\n",
    "        MAX(Distance) AS \"Lengthiest\",\n",
    "        MIN(Distance) AS \"Shortest\"\n",
    "    FROM \"example-flights-unionall\"\n",
    "    WHERE DATE_TRUNC('HOUR', __time) = TIMESTAMP '2005-11-02 11:00:00'\n",
    "    AND \"Reporting_Airline\" LIKE 'A%'\n",
    "    GROUP BY 1\n",
    "  )\n",
    "\n",
    "SELECT * from set1\n",
    "UNION ALL\n",
    "SELECT * from set2\n",
    "'''\n",
    "\n",
    "display.sql(sql)"
   ]
  },
  {
   "cell_type": "markdown",
   "id": "f2c95ffc-b260-4671-bacc-c8cc3137e9c2",
   "metadata": {},
   "source": [
    "The `UNION ALL` operation concatenated the sets, appending the results for Atlanta to the end of the results for San Francisco.\n",
    "\n",
    "Notice that the values for longest and shortest are in the incorrect columns for Atlanta. Notice, too, that even though _set2_ has \"Frights\" rather than \"Flights\" (!), there is only a Flights column - we do not get both San Franscsco Flights and Atlanta Frights!\n",
    "\n",
    "The following query correct this by being explicit about the field names selected from both sets, ensuring that when the results are appended for Atlanta, the correct results are returned.\n",
    "\n",
    "```sql\n",
    "SELECT \"Flights\", \"Shortest\", \"Longest\" from set1\n",
    "UNION ALL\n",
    "SELECT \"Frights\", \"Shortest\", \"Lengthiest\" from set2\n",
    "```\n",
    "\n",
    "Run the cell below to see what difference this makes:"
   ]
  },
  {
   "cell_type": "code",
   "execution_count": null,
   "id": "39f9be92-7b2e-417c-b16a-5060b8cd2c30",
   "metadata": {},
   "outputs": [],
   "source": [
    "sql='''\n",
    "WITH\n",
    "set1 AS (\n",
    "    SELECT\n",
    "        \"Reporting_Airline\",\n",
    "        COUNT(*) AS \"Flights\",\n",
    "        MIN(Distance) AS \"Shortest\",\n",
    "        MAX(Distance) AS \"Longest\"\n",
    "    FROM \"example-flights-unionall\"\n",
    "    WHERE DATE_TRUNC('HOUR', __time) = TIMESTAMP '2005-11-01 11:00:00'\n",
    "    AND \"Reporting_Airline\" LIKE 'A%'\n",
    "    GROUP BY 1\n",
    "  ),\n",
    "set2 AS (\n",
    "    SELECT\n",
    "        \"Reporting_Airline\",\n",
    "        COUNT(*) AS \"Frights\",\n",
    "        MAX(Distance) AS \"Lengthiest\",\n",
    "        MIN(Distance) AS \"Shortest\"\n",
    "    FROM \"example-flights-unionall\"\n",
    "    WHERE DATE_TRUNC('HOUR', __time) = TIMESTAMP '2005-11-02 11:00:00'\n",
    "    AND \"Reporting_Airline\" LIKE 'A%'\n",
    "    GROUP BY 1\n",
    "  )\n",
    "\n",
    "SELECT \"Flights\", \"Shortest\", \"Longest\" from set1\n",
    "UNION ALL\n",
    "SELECT \"Frights\", \"Shortest\", \"Lengthiest\" from set2\n",
    "'''\n",
    "\n",
    "display.sql(sql)"
   ]
  },
  {
   "cell_type": "markdown",
   "id": "25001794-e1a7-4325-adb3-2b8f26036261",
   "metadata": {},
   "source": [
    "## Using Table-level `UNION ALL` to work with multiple tables\n",
    "\n",
    "From one source of data, data engineers may create multiple `TABLE` datasources in order to:\n",
    "\n",
    "* Separate data with different levels of `__time` granularity (ie. the level of summarisation),\n",
    "* Apply different security to different parts, for example, per tenant,\n",
    "* Break up the data using filtering at ingestion time, for example, different tables for different HTTP error codes,\n",
    "* Separate upstream data by the source device or system, for example, different types of IOT device,\n",
    "* Isolate different periods of time, perhaps with different retention periods.\n",
    "\n",
    "You can use `UNION ALL` to access _all_ the source data, referencing all the `TABLE` datasources through a sub-query or a `FROM` clause.\n",
    "\n",
    "Druid executes these \"[top level](https://druid.apache.org/docs/26.0.0/querying/sql.html#top-level)\" `UNION ALL` queries differently to \"[table level](https://druid.apache.org/docs/26.0.0/querying/sql.html#table-level)\" queries you have used so far. Table level `UNION ALL` makes use of `union` datasources, and it's important that you read the [documentation](https://druid.apache.org/docs/26.0.0/querying/datasource.html#union) to understand the functionality available to you.\n",
    "\n",
    "The next two cells create two new tables, `example-wikipedia-unionall-en` and `example-wikipedia-unionall-fr`. One table contains only English language channels, while the second contains only French language channels. Imagine that this is a design decision taken by a data engineer so that they can be governed separately. But now we want to have a single view of both that people can query.\n",
    "\n",
    "Run these ingestion jobs, and monitor them as they run in the Druid Console."
   ]
  },
  {
   "cell_type": "code",
   "execution_count": null,
   "id": "269c6aef-c3a5-46ad-8332-30b7bf30ddfb",
   "metadata": {},
   "outputs": [],
   "source": [
    "sql='''\n",
    "REPLACE INTO \"example-wikipedia-unionall-en\" OVERWRITE ALL\n",
    "WITH \"ext\" AS (SELECT *\n",
    "FROM TABLE(\n",
    "  EXTERN(\n",
    "    '{\"type\":\"http\",\"uris\":[\"https://druid.apache.org/data/wikipedia.json.gz\"]}',\n",
    "    '{\"type\":\"json\"}'\n",
    "  )\n",
    ") EXTEND (\"isRobot\" VARCHAR, \"channel\" VARCHAR, \"timestamp\" VARCHAR, \"flags\" VARCHAR, \"isUnpatrolled\" VARCHAR, \"page\" VARCHAR, \"diffUrl\" VARCHAR, \"added\" BIGINT, \"comment\" VARCHAR, \"commentLength\" BIGINT, \"isNew\" VARCHAR, \"isMinor\" VARCHAR, \"delta\" BIGINT, \"isAnonymous\" VARCHAR, \"user\" VARCHAR, \"deltaBucket\" BIGINT, \"deleted\" BIGINT, \"namespace\" VARCHAR, \"cityName\" VARCHAR, \"countryName\" VARCHAR, \"regionIsoCode\" VARCHAR, \"metroCode\" BIGINT, \"countryIsoCode\" VARCHAR, \"regionName\" VARCHAR))\n",
    "SELECT\n",
    "  TIME_PARSE(\"timestamp\") AS \"__time\",\n",
    "  \"isRobot\",\n",
    "  \"channel\",\n",
    "  \"flags\",\n",
    "  \"isUnpatrolled\",\n",
    "  \"page\",\n",
    "  \"diffUrl\",\n",
    "  \"added\",\n",
    "  \"comment\",\n",
    "  \"commentLength\",\n",
    "  \"isNew\",\n",
    "  \"isMinor\",\n",
    "  \"delta\",\n",
    "  \"isAnonymous\",\n",
    "  \"user\",\n",
    "  \"deltaBucket\",\n",
    "  \"deleted\",\n",
    "  \"namespace\",\n",
    "  \"cityName\",\n",
    "  \"countryName\",\n",
    "  \"regionIsoCode\",\n",
    "  \"metroCode\",\n",
    "  \"countryIsoCode\",\n",
    "  \"regionName\"\n",
    "FROM \"ext\"\n",
    "WHERE \"channel\" LIKE '#en%'\n",
    "PARTITIONED BY DAY\n",
    "'''\n",
    "\n",
    "sql_client.run_task(sql)\n",
    "sql_client.wait_until_ready('example-wikipedia-unionall-en')\n",
    "display.table('example-wikipedia-unionall-en')"
   ]
  },
  {
   "cell_type": "code",
   "execution_count": null,
   "id": "61740d61-28fc-48e9-b026-d472bd04f390",
   "metadata": {},
   "outputs": [],
   "source": [
    "sql='''\n",
    "REPLACE INTO \"example-wikipedia-unionall-fr\" OVERWRITE ALL\n",
    "WITH \"ext\" AS (SELECT *\n",
    "FROM TABLE(\n",
    "  EXTERN(\n",
    "    '{\"type\":\"http\",\"uris\":[\"https://druid.apache.org/data/wikipedia.json.gz\"]}',\n",
    "    '{\"type\":\"json\"}'\n",
    "  )\n",
    ") EXTEND (\"isRobot\" VARCHAR, \"channel\" VARCHAR, \"timestamp\" VARCHAR, \"flags\" VARCHAR, \"isUnpatrolled\" VARCHAR, \"page\" VARCHAR, \"diffUrl\" VARCHAR, \"added\" BIGINT, \"comment\" VARCHAR, \"commentLength\" BIGINT, \"isNew\" VARCHAR, \"isMinor\" VARCHAR, \"delta\" BIGINT, \"isAnonymous\" VARCHAR, \"user\" VARCHAR, \"deltaBucket\" BIGINT, \"deleted\" BIGINT, \"namespace\" VARCHAR, \"cityName\" VARCHAR, \"countryName\" VARCHAR, \"regionIsoCode\" VARCHAR, \"metroCode\" BIGINT, \"countryIsoCode\" VARCHAR, \"regionName\" VARCHAR))\n",
    "SELECT\n",
    "  TIME_PARSE(\"timestamp\") AS \"__time\",\n",
    "  \"isRobot\",\n",
    "  \"channel\",\n",
    "  \"flags\",\n",
    "  \"isUnpatrolled\",\n",
    "  \"page\",\n",
    "  \"diffUrl\",\n",
    "  \"added\",\n",
    "  \"comment\",\n",
    "  \"commentLength\",\n",
    "  \"isNew\",\n",
    "  \"isMinor\",\n",
    "  \"delta\",\n",
    "  \"isAnonymous\",\n",
    "  \"user\",\n",
    "  \"deltaBucket\",\n",
    "  \"deleted\",\n",
    "  \"namespace\",\n",
    "  \"cityName\",\n",
    "  \"countryName\",\n",
    "  \"regionIsoCode\",\n",
    "  \"metroCode\",\n",
    "  \"countryIsoCode\",\n",
    "  \"regionName\"\n",
    "FROM \"ext\"\n",
    "WHERE \"channel\" LIKE '#fr%'\n",
    "PARTITIONED BY DAY\n",
    "'''\n",
    "\n",
    "sql_client.run_task(sql)\n",
    "sql_client.wait_until_ready('example-wikipedia-unionall-fr')\n",
    "display.table('example-wikipedia-unionall-fr')"
   ]
  },
  {
   "cell_type": "markdown",
   "id": "f8bbf2c6-681a-46f5-82f2-201cbbe8058d",
   "metadata": {},
   "source": [
    "The next cell creates `unifiedSource` using `UNION ALL`. This datasource is the single, unified view of all the data. You then use the unified datasource in a `SELECT` query to count the number of robot and non-robot edits by channel.\n",
    "\n",
    "Remember, the `SELECT` in the `unifiedSource` must be simple in order to meet the constraints set by a table level `UNION ALL`, so any operations such as filtering can only be done in the outer `SELECT` statement."
   ]
  },
  {
   "cell_type": "code",
   "execution_count": null,
   "id": "783fe77d-2e7b-476a-9748-67ea90c8bb91",
   "metadata": {},
   "outputs": [],
   "source": [
    "sql = '''\n",
    "WITH unifiedSource AS (\n",
    "    SELECT\n",
    "        \"__time\",\n",
    "        \"isRobot\",\n",
    "        \"channel\",\n",
    "        \"user\",\n",
    "        \"countryName\"\n",
    "    FROM \"example-wikipedia-unionall-en\"\n",
    "    UNION ALL\n",
    "    SELECT\n",
    "        \"__time\",\n",
    "        \"isRobot\",\n",
    "        \"channel\",\n",
    "        \"user\",\n",
    "        \"countryName\"\n",
    "    FROM \"example-wikipedia-unionall-fr\"\n",
    "    )\n",
    "\n",
    "SELECT\n",
    "    \"channel\",\n",
    "    COUNT(*) FILTER (WHERE isRobot=true) AS \"Robot Edits\",\n",
    "    COUNT (DISTINCT user) FILTER (WHERE isRobot=true) AS \"Robot Editors\",\n",
    "    COUNT(*) FILTER (WHERE isRobot=false) AS \"Human Edits\",\n",
    "    COUNT (DISTINCT user) FILTER (WHERE isRobot=false) AS \"Human Editors\"\n",
    "FROM unifiedSource\n",
    "GROUP BY 1\n",
    "'''\n",
    "\n",
    "display.sql(sql)"
   ]
  },
  {
   "cell_type": "markdown",
   "id": "f58a1846-5072-4495-b840-a620de3c0442",
   "metadata": {},
   "source": [
    "## Conclusion\n",
    "\n",
    "* There are two modes for `UNION ALL` in Druid - top level and table level\n",
    "* Top level is a simple concatenation, and operations must be done on the source `TABLE`s\n",
    "* Table level uses a `union` data source, and operations must be done on the outer `SELECT`\n",
    "\n",
    "## Learn more\n",
    "\n",
    "* Watch [Plan your Druid table datasources](https://youtu.be/OpYDX4RYLV0?list=PLDZysOZKycN7MZvNxQk_6RbwSJqjSrsNR) by Peter Marshall\n",
    "* Read about [union](https://druid.apache.org/docs/26.0.0/querying/datasource.html#union) datasources in the documentation\n",
    "* Read the latest [documentation](https://druid.apache.org/docs/26.0.0/querying/sql.html#union-all) on the `UNION ALL` operator"
   ]
  }
 ],
 "metadata": {
  "kernelspec": {
   "display_name": "Python 3 (ipykernel)",
   "language": "python",
   "name": "python3"
  },
  "language_info": {
   "codemirror_mode": {
    "name": "ipython",
    "version": 3
   },
   "file_extension": ".py",
   "mimetype": "text/x-python",
   "name": "python",
   "nbconvert_exporter": "python",
   "pygments_lexer": "ipython3",
   "version": "3.11.4"
  }
 },
 "nbformat": 4,
 "nbformat_minor": 5
}
