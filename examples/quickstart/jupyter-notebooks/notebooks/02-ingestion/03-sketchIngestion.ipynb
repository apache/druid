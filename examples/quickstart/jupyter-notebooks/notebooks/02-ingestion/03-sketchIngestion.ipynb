{
 "cells": [
  {
   "cell_type": "markdown",
   "id": "4188e2c5-4ab0-45e3-9371-52d510a97413",
   "metadata": {},
   "source": [
    "# Generating and ingesting Apache Datasketches\n",
    "\n",
    "It's extremely common for analysts to want to count unique occurences of some dimension value in data. With the Druid database's history of large volumes of data comes an advanced computer science technique to speed up this calculation through approximation. In this tutorial, work through some examples and see the effect of turning it on and off, and of making it even faster by pre-generating the objects that Druid uses to execute the query."
   ]
  },
  {
   "cell_type": "markdown",
   "id": "557e06e8-9b35-4b34-8322-8a8ede6de709",
   "metadata": {},
   "source": [
    "## Prerequisites\n",
    "\n",
    "This tutorial works with Druid 26.0.0 or later.\n",
    "\n",
    "#### Run using Docker\n",
    "\n",
    "Launch this tutorial and all prerequisites using the `druid-jupyter` profile of the Docker Compose file for Jupyter-based Druid tutorials. For more information, see [Docker for Jupyter Notebook tutorials](https://druid.apache.org/docs/latest/tutorials/tutorial-jupyter-docker.html).\n",
    "   \n",
    "#### Run without using Docker\n",
    "\n",
    "If you do not use the Docker Compose environment, you need the following:\n",
    "\n",
    "* A running Apache Druid instance, with a `DRUID_HOST` local environment variable containing the servername of your Druid router\n",
    "* [druidapi](https://github.com/apache/druid/blob/master/examples/quickstart/jupyter-notebooks/druidapi/README.md), a Python client for Apache Druid. Follow the instructions in the Install section of the README file.\n",
    "* [matplotlib](https://matplotlib.org/), a library for creating visualizations in Python,\n",
    "* [pandas](https://pandas.pydata.org/), a data analysis and manipulation tool."
   ]
  },
  {
   "cell_type": "markdown",
   "id": "d3317c51-627c-4a44-ad73-0860a5f4c937",
   "metadata": {},
   "source": [
    "### Initialize Python\n",
    "\n",
    "Run the next cell to set up the Druid Python client's connection to Apache Druid.\n",
    "\n",
    "If successful, the Druid version number will be shown in the output."
   ]
  },
  {
   "cell_type": "code",
   "execution_count": 1,
   "id": "f2a19226-6abc-436d-ac3c-9c04d6026707",
   "metadata": {},
   "outputs": [
    {
     "name": "stdout",
     "output_type": "stream",
     "text": [
      "Opening a connection to http://druid-master-0.lan:8888.\n"
     ]
    },
    {
     "data": {
      "text/html": [
       "\n",
       "<style>\n",
       "  .druid table {\n",
       "    border: 1px solid black;\n",
       "    border-collapse: collapse;\n",
       "  }\n",
       "\n",
       "  .druid th, .druid td {\n",
       "    padding: 4px 1em ;\n",
       "    text-align: left;\n",
       "  }\n",
       "\n",
       "  td.druid-right, th.druid-right {\n",
       "    text-align: right;\n",
       "  }\n",
       "\n",
       "  td.druid-center, th.druid-center {\n",
       "    text-align: center;\n",
       "  }\n",
       "\n",
       "  .druid .druid-left {\n",
       "    text-align: left;\n",
       "  }\n",
       "\n",
       "  .druid-alert {\n",
       "    font-weight: bold;\n",
       "  }\n",
       "\n",
       "  .druid-error {\n",
       "    color: red;\n",
       "  }\n",
       "</style>\n"
      ],
      "text/plain": [
       "<IPython.core.display.HTML object>"
      ]
     },
     "metadata": {},
     "output_type": "display_data"
    },
    {
     "data": {
      "text/plain": [
       "'26.0.0'"
      ]
     },
     "execution_count": 1,
     "metadata": {},
     "output_type": "execute_result"
    }
   ],
   "source": [
    "import druidapi\n",
    "import os\n",
    "\n",
    "if 'DRUID_HOST' not in os.environ.keys():\n",
    "    druid_host=f\"http://localhost:8888\"\n",
    "else:\n",
    "    druid_host=f\"http://{os.environ['DRUID_HOST']}:8888\"\n",
    "    \n",
    "print(f\"Opening a connection to {druid_host}.\")\n",
    "druid = druidapi.jupyter_client(druid_host)\n",
    "\n",
    "display = druid.display\n",
    "sql_client = druid.sql\n",
    "status_client = druid.status\n",
    "\n",
    "status_client.version"
   ]
  },
  {
   "cell_type": "markdown",
   "id": "b6f0d1f7-2f34-44fe-9912-4017ed10893c",
   "metadata": {},
   "source": [
    "Finally, run the following cell to import additional Python modules that you will use."
   ]
  },
  {
   "cell_type": "code",
   "execution_count": 3,
   "id": "e4cfd50d-5ef9-4fd1-8077-bf03758c35df",
   "metadata": {},
   "outputs": [],
   "source": [
    "import json\n",
    "import matplotlib\n",
    "import matplotlib.pyplot as plt\n",
    "import pandas as pd"
   ]
  },
  {
   "cell_type": "markdown",
   "id": "31ff80c4-8ca6-4563-b67e-70b09a611877",
   "metadata": {},
   "source": [
    "## Generating sketch objects with SQL\n",
    "\n",
    "For improved performance when doing `COUNT(DISTINCT)` using approximation technique, you can reference `TABLE` dimensions that already contain sketches.\n",
    "\n",
    "Run the next cell to get an indication of what a HyperLogLog sketch looks like. It applies a `GROUP BY` to `Reporting_Airline` and uses the [`DS_HLL`](https://druid.apache.org/docs/26.0.0/querying/sql-functions.html#ds_hll) function to create sets of `Tail_Number`s inside a \"HyperLogLog\" sketch object."
   ]
  },
  {
   "cell_type": "code",
   "execution_count": 8,
   "id": "7595eec0-a709-4cd6-985e-eec8a6e37b61",
   "metadata": {},
   "outputs": [
    {
     "data": {
      "text/html": [
       "<div class=\"druid\"><table>\n",
       "<tr><th>Reporting_Airline</th><th>Sketch</th></tr>\n",
       "<tr><td>AA</td><td>&quot;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&quot;</td></tr>\n",
       "<tr><td>AS</td><td>&quot;AwEHDAgIAAFsAAAAA/xeBARtOA4FXeUJCdpABDXVywgP+j8GEs4iBhQnmQcWHLgH6iypBhiHNAgbGbwKHMFzBB2/zAwjpBMNJe2GESi+/QcpCNAE50XMBS6aoAkwjHAUMaCdBDQAPQQ1d6kHNgbnBTiCKwZi2JgEPIKOCD3kvgQ+9ksHQBiJEkNBAglEeq0FRx7VBx0qDAlKfJUMS59ICE3vfBZOdYILT+ScBFD+TgVTP/kGVpv6EldMegZY+9EJVgNzBlzYlwpgeT0PYS3eBmJ8hA6B4/AHZoo8CmsgGwZsDC4I+7nrCG95pgtwU/IFc6aJBHY7mgd8vK0XfRAJC38lIgaBmQ0ShAwjIoXvPQaKeVoOjFncBY2ucQuRm98Fk4ghCZsVYA+gPNkFUFIuEVNQdAarjxQOrYFqBa55SQaxZpgFs95lEbQkKAS13uMLuYm6CLwDZhK0CLMGvoyRE7+y3QzCWT0PxKZjDsXrKgzf5moLycs8BsyGdQXQdmgTNpzwB0uJlgXeZ7QG6qa1CSjdpg3msP0F5xu9C+regRHuFXAN9X0mBOcRfhX5H4gO+zQ9C+cVGg99gWQI&quot;</td></tr>\n",
       "<tr><td>B6</td><td>&quot;AwEHDAcIAAFYAAAAeOKnBxed4A3BodkGhqhZFAfC7QgInDEKiUK9FgskOgkMe94IjV6qHw72eAtVXakGEkMfB6d2agiXgCUEn664BX+Q+wWiNYUTpOS7BozMgA2nU9APqer3DKofBBGsswgJbfW0BjD38gTrkdwPMliaBLVp9gjVMMgHVzCtDjlc9Qs6RjsHu71xBMa9BQc9O/EKvmYVC79G4wpB72gG4T10C+dPTwRGYuoGSDDKCknPAgTLDmAFDu88Bs2tqBJOPxoKT8E2BG2x3wlSWF8GU4bOBdRTwAgOI5QI1ADiBr5MOQ7Y3qsE2TnVBel4FwZcZJQHXcBwBMyEXQdf7x8F4FQiBuHowwdintMHZFiwCyzcSgnmJ3IF537RCWhGhgSkyxYGMJ0rCIljKgZttTkHcO82CXg+1hHVR1YKSNboCOQErg8pU5kE+OMoCnmY/gjTU70EDHc2CLApCwZ+eLsWYYeGBg==&quot;</td></tr>\n",
       "<tr><td>CO</td><td>&quot;AwEHDAkIAAFGAQAAAGrVByHBpQsE5hIIB15rEQiIVRcK4p4EDFBPBg+2sQQTUGoHFLbXBhVutgsW+FsEGDRlB5AFFwoamIIVGwxlDhzKRwQfiG4ET6BDEyHAkwgiHuoGIxSpECQ2qxYoWMcNKXBnDixMawgtwucHJkGOBvY7/AWSPeUHMl6/BDAF4gc1hPkENpYrBTdwbAU46PkGOYAaB+uf4AQ8lM4JQAIlBkMiFApGdIAFR9itBs/wngdJftEHSl7QDkswIwRNBlQGTpqlC08yOATNBA8HURBAC1M6UQlU9lUFtEabDaF5GAc1SZ4EWwgvCFzQRwc4S8YH0xSzEWAKyg9ICxYJYjwVB2OYjgZnoFYH/9LaBGo0ihKtv7wJbeTZBG4eaw1v9GQEfeW1B3PcdwR0uNsEdtSTBnlikgmmqFMGQH4ACYDw7A+CXKYKg6CDEoTWCwuF2lgThqYSBOo6cxGIDEoVN1CUBox6GgmNHlAIjhxbB48cfAaTivgElawDBZb2LwSXICwHmxTfBc6bPQ2h/ukH9VpfD61SkQjYmscKhCDoCU2TAwaswKYGQJzpB64OoxOvrBoJsEqDBrLqGQa0WE0EtiT/Cbdcuwm4xgkJuuCzBMTsqxC9krcNviSYC8BWAxIWW4sMxNp4ClHpegfH6BAEy6IQDMyYSQvNQGENzkj+BM/eMwfQApkPDI4FEtaYPQfX8GQN2IxAB//akQTaCmsE25zwBnnHsgsKp3ME35CmB+DKEQTiICEE93XrDYIy3ArnWPkO6chOBAPNewnrwnoJ9D34BO5s0QcE1gkK8RhRCvQooQ8f17cP9mbkB/fYAwb47KIE+WzDBhrAUQaDeLgFx244B/9GvwUAr3UHATVdCAJDxgQDXYoIB5+jEgi9AwYJxS8HCnFgBQv7lxYJBawIDd+5BJvkAAcPTf8KEJOpByHj2wwTgX8GFl2OCheDogg1yBEJHKMIBh25Tw8fAxsEFRYOCyHxFQ3TnnAKI2uiEfoPSwWGP3sTJnF2BG8leQsp4TYJIw9cB6YKuQos4SgILdeBBzBvcwfjwF0LMnHqBDTz2gz7OmoSNpeDDjcB0AfP0FQKOrFCBDw9FQU9FREHPvdqCHnEDghApzwKQa37BULFHwZEvywF8KtCCUYZmg2yKE0NSIeiBEqF0wdLEzcJTC8GD009XA5PHWAFUNu0BNjwxAVSRx0GYuKtBZd7YxJWKR0HV99kFBeDbAVbFw4ZShJdDl5P4wVfS6UEvqJUD2HZ/Qq/bwYGZ5smD9ciRQlqfbkIa/X1F2xfZwVtVe4Jb+X7BnB5JA43QIULLE7pCX3hyxhQuRgEf2P9BoGrogSW7HAJhScNC4ZVTgbvMgkGLF+uCItRAwiNdcoGjp3sCZATjhGRUb8SAJHWBpTJEwmVBTIblkPmDZdn2RWadzQGm0dSDH8d8gb3U7MRodlVBaK/9Aula3MEqLf3BmdBtAeqMb0ErSsqCq7fjQayS58KUMTmFviwwgbq0n4LvoVZCr/nHwQc0j4Imk+8CuzV7QjDsRcIxMWVDsh34AvJlwQHUHqdBs3zyAvOw5MLiI9EBsMZWBiIhwUKA9GoBAqawwTYs50KB6f9Bu7b4w/cB8IK3S1/BlMUqwbhF/QG4q2pCHrRuAbke50E58OPBmv4IhOoQaQLoUrDBSGU4wXu7SYI8If/CuoNxAvzO4UF9OtYBc8lwgWVlREP9+UsCq5JngugHeoHDfkxBtEvHA8=&quot;</td></tr>\n",
       "<tr><td>DH</td><td>&quot;AwEHDAcIAAE1AAAAgB6vB/TG3AaC8x4MA2qaBoVWhwUKzBUL8JAJFX04hBAXz4cGmdm2C546+Acf2FsEoJVxDiLhGwej5g4GpX7TE6iktgRdJ4IKshUsC8E55wk+2eMHhU4sE0FGDQ3CIbwNxSciB0eJLAZI2m8Fy7NuC82uogZQAggI0/gMBtT/0AXW1cgEXQCYDN4Y8RDfzo0IYZMXFuI60wtj/UYG5CJ3CudOxAdo538ba6SOBGxeygfuf74Fb/IoHvCpQgjyO/MIdO65BXlYyQn62qkF+40xDf0XkAo=&quot;</td></tr>\n",
       "</table></div>"
      ],
      "text/plain": [
       "<IPython.core.display.HTML object>"
      ]
     },
     "metadata": {},
     "output_type": "display_data"
    }
   ],
   "source": [
    "sql = '''\n",
    "SELECT\n",
    "    \"Reporting_Airline\",\n",
    "    DS_HLL(\"Tail_Number\") AS \"Sketch\"\n",
    "FROM \"On_Time_Reporting_Carrier_On_Time_Performance_(1987_present)_2005_11\"\n",
    "GROUP BY 1\n",
    "LIMIT 5\n",
    "'''\n",
    "\n",
    "display.sql(sql)"
   ]
  },
  {
   "cell_type": "markdown",
   "id": "a5fb0596-2034-4993-a4a2-006d9aa53a9b",
   "metadata": {},
   "source": [
    "The results show, for each `Reporting_Airline`, the highly optimized, aggregated list of the `Tail_Number`s. By storing this in the table, Druid queries gains an overall speed boost from an increase in table data efficiency and a decrease in computation effort."
   ]
  },
  {
   "cell_type": "markdown",
   "id": "bc13e4b5-9a8c-4519-9469-27a1518caa9a",
   "metadata": {},
   "source": [
    "### Creating sketches during batch ingestion\n",
    "\n",
    "The next cell incorporates the `DS_HLL` function into a `REPLACE` statement to build a new table, `flights-counts`. `GROUP BY` aggregates `Tail_Number`s for each hour (`TIME_FLOOR`), `Reporting_Airline`, `Origin`, and `Dest`.\n",
    "\n",
    "Unlike HuperLogLog, Theta sketches allow for intersection and difference set operations. The [`DS_THETA`](https://druid.apache.org/docs/26.0.0/querying/sql-functions.html#ds_theta) function is included in the SQL below to set you up for trying this out later.\n",
    "\n",
    "Notice that the SQL does not `SELECT` the original `Tail_Number`s. If we kept that field, the `GROUP BY` wouldn't aggregate any rows into the sketch - there would be a 1:1 relationship between the row and each `Tail_Number` - which is the opposite of what we are designing for! By implication, it will be no longer possible to use the raw data as part of any SQL queries, like a `GROUP BY` or a `WHERE`."
   ]
  },
  {
   "cell_type": "code",
   "execution_count": null,
   "id": "4213e7b5-14f8-4a6c-a489-8f5cd9c17359",
   "metadata": {},
   "outputs": [],
   "source": [
    "sql='''\n",
    "REPLACE INTO \"flights-counts\" OVERWRITE ALL\n",
    "WITH \"ext\" AS (SELECT *\n",
    "FROM TABLE(\n",
    "  EXTERN(\n",
    "    '{\"type\":\"http\",\"uris\":[\"https://static.imply.io/example-data/flight_on_time/flights/On_Time_Reporting_Carrier_On_Time_Performance_(1987_present)_2005_11.csv.zip\"]}',\n",
    "    '{\"type\":\"csv\",\"findColumnsFromHeader\":true}'\n",
    "  )\n",
    ") EXTEND (\"depaturetime\" VARCHAR, \"arrivalime\" VARCHAR, \"Year\" BIGINT, \"Quarter\" BIGINT, \"Month\" BIGINT, \"DayofMonth\" BIGINT, \"DayOfWeek\" BIGINT, \"FlightDate\" VARCHAR, \"Reporting_Airline\" VARCHAR, \"DOT_ID_Reporting_Airline\" BIGINT, \"IATA_CODE_Reporting_Airline\" VARCHAR, \"Tail_Number\" VARCHAR, \"Flight_Number_Reporting_Airline\" BIGINT, \"OriginAirportID\" BIGINT, \"OriginAirportSeqID\" BIGINT, \"OriginCityMarketID\" BIGINT, \"Origin\" VARCHAR, \"OriginCityName\" VARCHAR, \"OriginState\" VARCHAR, \"OriginStateFips\" BIGINT, \"OriginStateName\" VARCHAR, \"OriginWac\" BIGINT, \"DestAirportID\" BIGINT, \"DestAirportSeqID\" BIGINT, \"DestCityMarketID\" BIGINT, \"Dest\" VARCHAR, \"DestCityName\" VARCHAR, \"DestState\" VARCHAR, \"DestStateFips\" BIGINT, \"DestStateName\" VARCHAR, \"DestWac\" BIGINT, \"CRSDepTime\" BIGINT, \"DepTime\" BIGINT, \"DepDelay\" BIGINT, \"DepDelayMinutes\" BIGINT, \"DepDel15\" BIGINT, \"DepartureDelayGroups\" BIGINT, \"DepTimeBlk\" VARCHAR, \"TaxiOut\" BIGINT, \"WheelsOff\" BIGINT, \"WheelsOn\" BIGINT, \"TaxiIn\" BIGINT, \"CRSArrTime\" BIGINT, \"ArrTime\" BIGINT, \"ArrDelay\" BIGINT, \"ArrDelayMinutes\" BIGINT, \"ArrDel15\" BIGINT, \"ArrivalDelayGroups\" BIGINT, \"ArrTimeBlk\" VARCHAR, \"Cancelled\" BIGINT, \"CancellationCode\" VARCHAR, \"Diverted\" BIGINT, \"CRSElapsedTime\" BIGINT, \"ActualElapsedTime\" BIGINT, \"AirTime\" BIGINT, \"Flights\" BIGINT, \"Distance\" BIGINT, \"DistanceGroup\" BIGINT, \"CarrierDelay\" BIGINT, \"WeatherDelay\" BIGINT, \"NASDelay\" BIGINT, \"SecurityDelay\" BIGINT, \"LateAircraftDelay\" BIGINT, \"FirstDepTime\" VARCHAR, \"TotalAddGTime\" VARCHAR, \"LongestAddGTime\" VARCHAR, \"DivAirportLandings\" VARCHAR, \"DivReachedDest\" VARCHAR, \"DivActualElapsedTime\" VARCHAR, \"DivArrDelay\" VARCHAR, \"DivDistance\" VARCHAR, \"Div1Airport\" VARCHAR, \"Div1AirportID\" VARCHAR, \"Div1AirportSeqID\" VARCHAR, \"Div1WheelsOn\" VARCHAR, \"Div1TotalGTime\" VARCHAR, \"Div1LongestGTime\" VARCHAR, \"Div1WheelsOff\" VARCHAR, \"Div1TailNum\" VARCHAR, \"Div2Airport\" VARCHAR, \"Div2AirportID\" VARCHAR, \"Div2AirportSeqID\" VARCHAR, \"Div2WheelsOn\" VARCHAR, \"Div2TotalGTime\" VARCHAR, \"Div2LongestGTime\" VARCHAR, \"Div2WheelsOff\" VARCHAR, \"Div2TailNum\" VARCHAR, \"Div3Airport\" VARCHAR, \"Div3AirportID\" VARCHAR, \"Div3AirportSeqID\" VARCHAR, \"Div3WheelsOn\" VARCHAR, \"Div3TotalGTime\" VARCHAR, \"Div3LongestGTime\" VARCHAR, \"Div3WheelsOff\" VARCHAR, \"Div3TailNum\" VARCHAR, \"Div4Airport\" VARCHAR, \"Div4AirportID\" VARCHAR, \"Div4AirportSeqID\" VARCHAR, \"Div4WheelsOn\" VARCHAR, \"Div4TotalGTime\" VARCHAR, \"Div4LongestGTime\" VARCHAR, \"Div4WheelsOff\" VARCHAR, \"Div4TailNum\" VARCHAR, \"Div5Airport\" VARCHAR, \"Div5AirportID\" VARCHAR, \"Div5AirportSeqID\" VARCHAR, \"Div5WheelsOn\" VARCHAR, \"Div5TotalGTime\" VARCHAR, \"Div5LongestGTime\" VARCHAR, \"Div5WheelsOff\" VARCHAR, \"Div5TailNum\" VARCHAR, \"Unnamed: 109\" VARCHAR))\n",
    "SELECT\n",
    "  TIME_FLOOR(TIME_PARSE(\"depaturetime\"), 'PT1H') AS \"__time\",\n",
    "  \"Reporting_Airline\",\n",
    "  \"Origin\",\n",
    "  \"Dest\",\n",
    "  COUNT(*) AS \"Events\",\n",
    "  MAX(\"Distance\") AS \"Distance_Max\",\n",
    "  MIN(\"Distance\") AS \"Distance_Min\",\n",
    "  DS_HLL(\"Tail_Number\") AS \"Tail_Number_HLL\",\n",
    "  DS_THETA(\"Tail_Number\") AS \"Tail_Number_THETA\"\n",
    "FROM \"ext\"\n",
    "GROUP BY 1, 2, 3, 4\n",
    "PARTITIONED BY DAY\n",
    "'''"
   ]
  },
  {
   "cell_type": "markdown",
   "id": "f586d0f1-e2e4-498b-a98e-1aaa00b65a58",
   "metadata": {},
   "source": [
    "When doing this programmatically you need to be sure to include a context parameter that prompts Druid to store the true sketch value: [`finalizeAggregations`](https://druid.apache.org/docs/26.0.0/multi-stage-query/reference.html#context-parameters). Notice that, if you build an ingestion using the console, these settings are applied for you automatically.\n",
    "\n",
    "The following cell adds the parameters and then executes the ingestion.\n",
    "\n",
    "When the ingestion is finished, you will see the table definition. Monitor the ingestion task itself in the Druid Console as it runs."
   ]
  },
  {
   "cell_type": "code",
   "execution_count": null,
   "id": "4a58a332-4f86-4d24-a4b6-286b3c4fe54f",
   "metadata": {},
   "outputs": [],
   "source": [
    "req = sql_client.sql_request(sql)\n",
    "req.add_context(\"finalize\", \"false\")\n",
    "req.add_context(\"finalizeAggregations\", \"false\")\n",
    "\n",
    "sql_client.run_task(req)\n",
    "sql_client.wait_until_ready('flights-counts')\n",
    "display.table('flights-counts')"
   ]
  },
  {
   "cell_type": "markdown",
   "id": "3db413cc-e2c3-4702-a693-c1285ab1c58a",
   "metadata": {},
   "source": [
    "As noted before, use specific SQL functions to estimate the size of the set represented by the sketch.\n",
    "\n",
    "* For HLL [`APPROX_COUNT_DISTINCT_DS_HLL`](https://druid.apache.org/docs/26.0.0/querying/sql-functions.html#approx_count_distinct_ds_hll), and\n",
    "* for Theta [`APPROX_COUNT_DISTINCT_THETA`](https://druid.apache.org/docs/26.0.0/querying/sql-functions.html#approx_count_distinct_ds_theta).\n",
    "\n",
    "Here's an example query showing our estimated results."
   ]
  },
  {
   "cell_type": "code",
   "execution_count": null,
   "id": "62a4a293-b967-46e1-9a37-7856ce25f200",
   "metadata": {},
   "outputs": [],
   "source": [
    "sql='''\n",
    "SELECT\n",
    "   \"Reporting_Airline\",\n",
    "   SUM(\"Distance_Max\") AS \"Miles_Flown\",\n",
    "   APPROX_COUNT_DISTINCT_DS_HLL(\"Tail_Number_HLL\") AS \"HLLApprox\",\n",
    "   APPROX_COUNT_DISTINCT_DS_THETA(\"Tail_Number_THETA\") AS \"ThetaApprox\"\n",
    "FROM \"flights-counts\"\n",
    "GROUP BY 1\n",
    "'''\n",
    "\n",
    "display.sql(sql)"
   ]
  },
  {
   "cell_type": "markdown",
   "id": "940bc114-17a1-4e65-bb47-a8b47469fff6",
   "metadata": {},
   "source": [
    "### Creating sketches during streaming ingestion\n",
    "\n",
    "In streaming ingestion, rather than using `DS_HLL` or `DS_THETA` you include the Druid Native equivallent in the [`metricsSpec`](https://druid.apache.org/docs/26.0.0/ingestion/ingestion-spec.html#metricsspec) and - instead of `GROUP BY` - enable [`queryGranularity`](https://druid.apache.org/docs/latest/ingestion/ingestion-spec.html#granularityspec) and `rollup` to truncate the time stamp and pre-aggregate the rows.\n",
    "\n",
    "The `INSERT` statement above is therefore equivallent to:\n",
    "\n",
    "```json\n",
    "    {\n",
    "      \"type\": \"HLLSketchBuild\",\n",
    "      \"fieldName\": \"Tail_Number\",\n",
    "      \"lgK\": 12,\n",
    "      \"tgtHllType\": \"HLL_4\"\n",
    "    },\n",
    "    {\n",
    "      \"type\": \"thetaSketch\",\n",
    "      \"fieldName\": \"Tail_Number\",\n",
    "      \"size\": 16384\n",
    "    }\n",
    "```\n",
    "\n",
    "Notice that here it's easy to see some internal parameters for sketch generation, like the `lgK` value for HLL. In SQL mode, these are exposed as supplementary parameters to the `DS_HLL` function. Be cautious of changing these values without researching the effects - not just in accuracy but also in terms of performance and segment size."
   ]
  },
  {
   "cell_type": "markdown",
   "id": "990d3cae-1e1d-47d0-9143-91b19d58e17e",
   "metadata": {},
   "source": [
    "## Calculating set union with pre-existing Theta and HyperLogLog sketches\n",
    "\n",
    "HyperLogLog and Theta sketches allow us to estimate the `COUNT(DISTINCT)` of the union of two or more sets. Consider that, when Druid executes a `COUNT(DISTINCT)` query in approximate mode, it is creating a set that is the union of independent sets of results - several from each and every data segment - and giving back to us an estimate the set size.\n",
    "\n",
    "In Druid SQL, you have access to functions that allow you to define and union your own sets in order to estimate their size.\n",
    "\n",
    "Run next cell, which:\n",
    "\n",
    "* Gets three sets of `Tail_Number`s using `DS_HLL` - it applies a `FILTER` to isolate flights out of three specific cities,\n",
    "* Applies `HLL_SKETCH_UNION` to union the three sets, and\n",
    "* Estimates the resulting set size with `HLL_SKETCH_ESTIMATE`.\n",
    "\n",
    "It uses `TIME_FLOOR` to giving us a week-by-week `GROUP BY` of the data."
   ]
  },
  {
   "cell_type": "code",
   "execution_count": null,
   "id": "40be5c57-bb35-4082-87f4-730c2f79621c",
   "metadata": {},
   "outputs": [],
   "source": [
    "sql='''\n",
    "SELECT\n",
    "  TIME_FLOOR(\"__time\",'P1W') AS \"Week commencing\",\n",
    "  HLL_SKETCH_ESTIMATE(\n",
    "     HLL_SKETCH_UNION(\n",
    "       DS_HLL(\"Tail_Number_HLL\") FILTER (WHERE \"Origin\"='ATL'),\n",
    "       DS_HLL(\"Tail_Number_HLL\") FILTER (WHERE \"Origin\"='DFW'),\n",
    "       DS_HLL(\"Tail_Number_HLL\") FILTER (WHERE \"Origin\"='SFO')\n",
    "      )\n",
    "    ) AS \"AnyThreeCity-HLL\",\n",
    "  THETA_SKETCH_ESTIMATE(\n",
    "     THETA_SKETCH_UNION(\n",
    "       DS_THETA(\"Tail_Number_THETA\") FILTER (WHERE \"Origin\"='ATL'),\n",
    "       DS_THETA(\"Tail_Number_THETA\") FILTER (WHERE \"Origin\"='DFW'),\n",
    "       DS_THETA(\"Tail_Number_THETA\") FILTER (WHERE \"Origin\"='SFO')\n",
    "      )\n",
    "    ) AS \"AnyThreeCity-THETA\"\n",
    "FROM \"flights-counts\"\n",
    "WHERE TIMESTAMP '2005-10-31' <= __time AND __time <= TIMESTAMP '2005-11-20'\n",
    "GROUP BY 1\n",
    "'''\n",
    "\n",
    "display.sql(sql)"
   ]
  },
  {
   "cell_type": "markdown",
   "id": "1dadd455-f558-45c8-92ec-4bdf478d19fb",
   "metadata": {},
   "source": [
    "## Calculating set intersection and difference with pre-existing Theta sketches\n",
    "\n",
    "With Theta sketches, you can also approximate the size of:\n",
    "\n",
    "* The intersection of two sets (people who went to both MoMa _and_ the NPG)\n",
    "* The difference between one set and another (people who went to MoMa _not_ the NPG)\n",
    "\n",
    "For simplicity, the following sections contain queries that take advantage of the data set you've created that contains sketches. You can apply the same techniques on tables without sketches in them – use `DS_THETA` function on the raw data instead."
   ]
  },
  {
   "cell_type": "markdown",
   "id": "0b746e3c-e29b-410c-8e31-48e66a4e307f",
   "metadata": {},
   "source": [
    "### Set intersection\n",
    "\n",
    "Run the next cell to see set difference being used with Theta sketches to produce a count estimate of the overlap between the sets."
   ]
  },
  {
   "cell_type": "code",
   "execution_count": null,
   "id": "4858e6a2-9d4b-43a5-a458-247357ede7a0",
   "metadata": {},
   "outputs": [],
   "source": []
  },
  {
   "cell_type": "markdown",
   "id": "3822ea42-2ad5-42fb-aaf3-74747f2e1048",
   "metadata": {},
   "source": [
    "### Set difference\n",
    "\n",
    "Finally, run the next cell to use Theta sketch operations to estimate the size of the difference between one set and another.\n",
    "\n",
    "Note that this operation is not cumutative - Druid calculates the size of the difference (A to B), not symetric difference, between the sets."
   ]
  },
  {
   "cell_type": "code",
   "execution_count": null,
   "id": "c33793dc-cbe4-412e-800c-86d3f57c6f72",
   "metadata": {},
   "outputs": [],
   "source": []
  },
  {
   "cell_type": "markdown",
   "id": "f58a1846-5072-4495-b840-a620de3c0442",
   "metadata": {},
   "source": [
    "## Conclusion\n",
    "\n",
    "* Approximation is the default execution model for `COUNT(DISTINCT)` queries\n",
    "* You can turn it off with a query context parameter\n",
    "* Accuracy is highly dependent on the distribution and cardinality of data across the database\n",
    "* Druid can be pre-loaded with sketch objects that speed up approximation both in batch and streaming ingestion\n",
    "* HyperLogLog and Theta sketches both allow you to approximate `COUNT(DISTINCT)` of entire sets\n",
    "* Only Theta sketches allow you to carry out set operations\n",
    "\n",
    "## Learn more\n",
    "\n",
    "* Try estimation on your own dataset:\n",
    "    * Identify a high-cardinality column in one of your own data sets\n",
    "    * Test how long an approximate `DISTINCT(COUNT)` query takes to run with approximation turned on\n",
    "    * Test how long the same query takes to run with approximation turned off\n",
    "* Watch [Employ Approximation](https://youtu.be/fSWwJs1gCvQ?list=PLDZysOZKycN7MZvNxQk_6RbwSJqjSrsNR) by Peter Marshall\n",
    "* Read [Ingesting Data Sketches into Apache Druid](https://blog.hellmar-becker.de/2022/12/26/ingesting-data-sketches-into-apache-druid/) by Hellmar Becker\n",
    "* Read more about the native \"aggregator\" functions for streaming ingestion\n",
    "    * [ThetaSketch function](https://druid.apache.org/docs/26.0.0/development/extensions-core/datasketches-theta.html)\n",
    "    * [HyperLogLog function](https://druid.apache.org/docs/26.0.0/development/extensions-core/datasketches-hll.html)"
   ]
  },
  {
   "cell_type": "code",
   "execution_count": null,
   "id": "4d71235a-aa0e-4221-bbee-75c1fd6bafc9",
   "metadata": {},
   "outputs": [],
   "source": []
  }
 ],
 "metadata": {
  "kernelspec": {
   "display_name": "Python 3 (ipykernel)",
   "language": "python",
   "name": "python3"
  },
  "language_info": {
   "codemirror_mode": {
    "name": "ipython",
    "version": 3
   },
   "file_extension": ".py",
   "mimetype": "text/x-python",
   "name": "python",
   "nbconvert_exporter": "python",
   "pygments_lexer": "ipython3",
   "version": "3.11.4"
  }
 },
 "nbformat": 4,
 "nbformat_minor": 5
}
