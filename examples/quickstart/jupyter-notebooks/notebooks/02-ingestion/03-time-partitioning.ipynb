{
 "cells": [
  {
   "cell_type": "code",
   "execution_count": null,
   "id": "8c023689-6746-4a85-ae88-d89385e1dbfb",
   "metadata": {},
   "outputs": [],
   "source": [
    "- intro to time partitioning\n",
    "- finding the right time granularity for your data\n",
    "- "
   ]
  }
 ],
 "metadata": {
  "kernelspec": {
   "display_name": "Python 3 (ipykernel)",
   "language": "python",
   "name": "python3"
  },
  "language_info": {
   "codemirror_mode": {
    "name": "ipython",
    "version": 3
   },
   "file_extension": ".py",
   "mimetype": "text/x-python",
   "name": "python",
   "nbconvert_exporter": "python",
   "pygments_lexer": "ipython3",
   "version": "3.11.4"
  }
 },
 "nbformat": 4,
 "nbformat_minor": 5
}
