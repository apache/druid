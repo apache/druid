{
 "cells": [
  {
   "cell_type": "markdown",
   "id": "ad4e60b6",
   "metadata": {
    "tags": []
   },
   "source": [
    "# Tutorial: Basic visualizations using the Druid API\n",
    "\n",
    "<!--\n",
    "  ~ Licensed to the Apache Software Foundation (ASF) under one\n",
    "  ~ or more contributor license agreements.  See the NOTICE file\n",
    "  ~ distributed with this work for additional information\n",
    "  ~ regarding copyright ownership.  The ASF licenses this file\n",
    "  ~ to you under the Apache License, Version 2.0 (the\n",
    "  ~ \"License\"); you may not use this file except in compliance\n",
    "  ~ with the License.  You may obtain a copy of the License at\n",
    "  ~\n",
    "  ~   http://www.apache.org/licenses/LICENSE-2.0\n",
    "  ~\n",
    "  ~ Unless required by applicable law or agreed to in writing,\n",
    "  ~ software distributed under the License is distributed on an\n",
    "  ~ \"AS IS\" BASIS, WITHOUT WARRANTIES OR CONDITIONS OF ANY\n",
    "  ~ KIND, either express or implied.  See the License for the\n",
    "  ~ specific language governing permissions and limitations\n",
    "  ~ under the License.\n",
    "  -->\n",
    "  \n",
    "This tutorial introduces basic visualization options you can use with the Druid API.\n",
    "\n",
    "It focuses on two Python modules to accomplish visualization tasks: [pandas](https://pandas.pydata.org/) and [Bokeh](https://bokeh.org/).\n",
    "This tutorial builds on [Learn the basics of the Druid API](api-tutorial.ipynb).\n",
    "\n",
    "## Table of contents\n",
    "\n",
    "- [Prerequisites](#Prerequisites)\n",
    "- [Display data with pandas](#Display-data-with-pandas)\n",
    "- [Display data with a bar graph](#Display-data-with-a-bar-graph)\n",
    "- [Display data with a line graph](#Display-data-with-a-line-graph)\n",
    "- [Next steps](#Next-steps)\n",
    "\n",
    "For the best experience, use JupyterLab so that you can always access the table of contents."
   ]
  },
  {
   "cell_type": "markdown",
   "id": "8d6bbbcb",
   "metadata": {
    "tags": []
   },
   "source": [
    "## Prerequisites\n",
    "\n",
    "If you haven't already, you'll need install the Requests library for Python before you start. For example:\n",
    "\n",
    "```bash\n",
    "pip3 install requests\n",
    "```\n",
    "\n",
    "Additionally, install the pandas and Bokeh libraries. For example:\n",
    "```bash\n",
    "pip3 install pandas\n",
    "pip3 install bokeh\n",
    "```\n",
    "\n",
    "Next, you'll need a Druid cluster with data. This tutorial uses the `wikipedia_api` datasource from [Learn the basics of the Druid API](api-tutorial.ipynb).\n",
    "\n",
    "\n",
    "Finally, you'll need either JupyterLab (recommended) or Jupyter Notebook. Both the quickstart Druid cluster and Jupyter are deployed at `localhost:8888` by default, so you'll \n",
    "need to change the port for Jupyter. To do so, stop Jupyter and start it again with the `port` parameter included. For example, you can use the following command to start Jupyter on port `3001`:\n",
    "\n",
    "```bash\n",
    "# If you're using JupyterLab\n",
    "jupyter lab --port 3001\n",
    "# If you're using Jupyter notebook\n",
    "jupyter notebook --port 3001 \n",
    "```\n",
    "\n",
    "To start this tutorial, run the next cell. It imports the Python packages you'll need and defines the Druid host where the Druid Router service listens. The quickstart deployment configures the to listen on port `8888` by default, so you'll be making API calls against `http://localhost:8888`. "
   ]
  },
  {
   "cell_type": "code",
   "execution_count": 1,
   "id": "b7f08a52",
   "metadata": {},
   "outputs": [],
   "source": [
    "import requests, json\n",
    "import druidapi\n",
    "import pandas as pd\n",
    "from bokeh.palettes import Spectral10\n",
    "from bokeh.io import output_notebook, show\n",
    "from bokeh.plotting import figure\n",
    "\n",
    "# Instantiate the Druid API Rest client\n",
    "# and a SQL client\n",
    "druid = druidapi.client(\"http://localhost:8888\")\n",
    "sql_client = druid.sql()\n",
    "\n",
    "# Datasource from the Druid API tutorial\n",
    "dataSourceName = \"wikipedia_api\"\n"
   ]
  },
  {
   "cell_type": "markdown",
   "id": "3b55af57-9c79-4e45-a22c-438c1b94112e",
   "metadata": {
    "tags": []
   },
   "source": [
    "## Display data with pandas\n",
    "\n",
    "By default, when you query Druid using the API, Druid returns the results as JSON. The JSON output is great for programmatic operations, but it is not easy to scan the data visually. This section shows you how to use the Python pandas module to transform JSON query results to tabular format. "
   ]
  },
  {
   "cell_type": "markdown",
   "id": "622f2158-75c9-4b12-bd8a-c92d30994c1f",
   "metadata": {
    "tags": []
   },
   "source": [
    "The following uses the Druid API SQL client to select the top 10 channels by the number of additions and represent the output using JSON as it comes from Druid."
   ]
  },
  {
   "cell_type": "code",
   "execution_count": 2,
   "id": "b7dd08f7-cba4-4f14-acd3-b5384dae7d88",
   "metadata": {},
   "outputs": [
    {
     "data": {
      "text/plain": [
       "'[{\"channel\": \"#ceb.wikipedia\", \"additions\": 3280235}, {\"channel\": \"#sv.wikipedia\", \"additions\": 2748599}, {\"channel\": \"#en.wikipedia\", \"additions\": 2068620}, {\"channel\": \"#fr.wikipedia\", \"additions\": 498994}, {\"channel\": \"#ru.wikipedia\", \"additions\": 403344}, {\"channel\": \"#de.wikipedia\", \"additions\": 380768}, {\"channel\": \"#it.wikipedia\", \"additions\": 267957}, {\"channel\": \"#es.wikipedia\", \"additions\": 225090}, {\"channel\": \"#pt.wikipedia\", \"additions\": 197268}, {\"channel\": \"#nl.wikipedia\", \"additions\": 135426}]'"
      ]
     },
     "execution_count": 2,
     "metadata": {},
     "output_type": "execute_result"
    }
   ],
   "source": [
    "sql = f'''\n",
    "SELECT channel,\n",
    "SUM(added) AS additions\n",
    "FROM {dataSourceName}\n",
    "GROUP BY channel\n",
    "ORDER BY additions DESC LIMIT 10\n",
    "'''\n",
    "\n",
    "# Run the SQL query\n",
    "# Return a JSON object with a list of rows\n",
    "query_result = json.dumps(sql_client.sql_query(sql).rows())\n",
    "query_result"
   ]
  },
  {
   "cell_type": "markdown",
   "id": "d8484418-a272-46be-91e7-0a8272e2c0e7",
   "metadata": {},
   "source": [
    "The Druid API SQL client contains some formatting if you invoke the `style` and use the `show` method. For example:"
   ]
  },
  {
   "cell_type": "code",
   "execution_count": 3,
   "id": "5878127e-3530-4b2d-bcaa-516fad8a5447",
   "metadata": {},
   "outputs": [
    {
     "data": {
      "text/html": [
       "\n",
       "<style>\n",
       "  .druid table {\n",
       "    border: 1px solid black;\n",
       "    border-collapse: collapse;\n",
       "  }\n",
       "\n",
       "  .druid th, .druid td {\n",
       "    padding: 4px 1em ;\n",
       "    text-align: left;\n",
       "  }\n",
       "\n",
       "  td.druid-right, th.druid-right {\n",
       "    text-align: right;\n",
       "  }\n",
       "\n",
       "  td.druid-center, th.druid-center {\n",
       "    text-align: center;\n",
       "  }\n",
       "\n",
       "  .druid .druid-left {\n",
       "    text-align: left;\n",
       "  }\n",
       "\n",
       "  .druid-alert {\n",
       "    color: red;\n",
       "  }\n",
       "</style>\n"
      ],
      "text/plain": [
       "<IPython.core.display.HTML object>"
      ]
     },
     "metadata": {},
     "output_type": "display_data"
    },
    {
     "data": {
      "text/html": [
       "\n",
       "<style>\n",
       "  .druid table {\n",
       "    border: 1px solid black;\n",
       "    border-collapse: collapse;\n",
       "  }\n",
       "\n",
       "  .druid th, .druid td {\n",
       "    padding: 4px 1em ;\n",
       "    text-align: left;\n",
       "  }\n",
       "\n",
       "  td.druid-right, th.druid-right {\n",
       "    text-align: right;\n",
       "  }\n",
       "\n",
       "  td.druid-center, th.druid-center {\n",
       "    text-align: center;\n",
       "  }\n",
       "\n",
       "  .druid .druid-left {\n",
       "    text-align: left;\n",
       "  }\n",
       "\n",
       "  .druid-alert {\n",
       "    color: red;\n",
       "  }\n",
       "</style>\n"
      ],
      "text/plain": [
       "<IPython.core.display.HTML object>"
      ]
     },
     "metadata": {},
     "output_type": "display_data"
    },
    {
     "data": {
      "text/html": [
       "<div class=\"druid\"><table>\n",
       "<tr><th>channel</th><th>additions</th></tr>\n",
       "<tr><td>#ceb.wikipedia</td><td>3280235</td></tr>\n",
       "<tr><td>#sv.wikipedia</td><td>2748599</td></tr>\n",
       "<tr><td>#en.wikipedia</td><td>2068620</td></tr>\n",
       "<tr><td>#fr.wikipedia</td><td>498994</td></tr>\n",
       "<tr><td>#ru.wikipedia</td><td>403344</td></tr>\n",
       "<tr><td>#de.wikipedia</td><td>380768</td></tr>\n",
       "<tr><td>#it.wikipedia</td><td>267957</td></tr>\n",
       "<tr><td>#es.wikipedia</td><td>225090</td></tr>\n",
       "<tr><td>#pt.wikipedia</td><td>197268</td></tr>\n",
       "<tr><td>#nl.wikipedia</td><td>135426</td></tr>\n",
       "</table></div>"
      ],
      "text/plain": [
       "<IPython.core.display.HTML object>"
      ]
     },
     "metadata": {},
     "output_type": "display_data"
    }
   ],
   "source": [
    "# Invoke the Druid API styles\n",
    "druidapi.styles()\n",
    "\n",
    "# Run the query with the Druid API SQL client\n",
    "sql_client.show(sql)"
   ]
  },
  {
   "cell_type": "markdown",
   "id": "950b2cc4-9935-497d-a3f5-e89afcc85965",
   "metadata": {
    "tags": []
   },
   "source": [
    "You can use the pandas library [`read_json`](https://pandas.pydata.org/docs/reference/api/pandas.read_json.html) method to load JSON results from the Druid API into a pandas DataFrame.\n",
    "Pandas enables you to display the results in a tabular format.\n",
    "The `orient` parameter sets pandas to accept data as a list of records in the format: `[{column: value, ...}, {column: value, ...}]`."
   ]
  },
  {
   "cell_type": "code",
   "execution_count": 4,
   "id": "c3860d64-fba6-43bc-80e2-404f5b3b9baa",
   "metadata": {},
   "outputs": [
    {
     "data": {
      "text/html": [
       "<div>\n",
       "<style scoped>\n",
       "    .dataframe tbody tr th:only-of-type {\n",
       "        vertical-align: middle;\n",
       "    }\n",
       "\n",
       "    .dataframe tbody tr th {\n",
       "        vertical-align: top;\n",
       "    }\n",
       "\n",
       "    .dataframe thead th {\n",
       "        text-align: right;\n",
       "    }\n",
       "</style>\n",
       "<table border=\"1\" class=\"dataframe\">\n",
       "  <thead>\n",
       "    <tr style=\"text-align: right;\">\n",
       "      <th></th>\n",
       "      <th>channel</th>\n",
       "      <th>additions</th>\n",
       "    </tr>\n",
       "  </thead>\n",
       "  <tbody>\n",
       "    <tr>\n",
       "      <th>0</th>\n",
       "      <td>#ceb.wikipedia</td>\n",
       "      <td>3280235</td>\n",
       "    </tr>\n",
       "    <tr>\n",
       "      <th>1</th>\n",
       "      <td>#sv.wikipedia</td>\n",
       "      <td>2748599</td>\n",
       "    </tr>\n",
       "    <tr>\n",
       "      <th>2</th>\n",
       "      <td>#en.wikipedia</td>\n",
       "      <td>2068620</td>\n",
       "    </tr>\n",
       "    <tr>\n",
       "      <th>3</th>\n",
       "      <td>#fr.wikipedia</td>\n",
       "      <td>498994</td>\n",
       "    </tr>\n",
       "    <tr>\n",
       "      <th>4</th>\n",
       "      <td>#ru.wikipedia</td>\n",
       "      <td>403344</td>\n",
       "    </tr>\n",
       "    <tr>\n",
       "      <th>5</th>\n",
       "      <td>#de.wikipedia</td>\n",
       "      <td>380768</td>\n",
       "    </tr>\n",
       "    <tr>\n",
       "      <th>6</th>\n",
       "      <td>#it.wikipedia</td>\n",
       "      <td>267957</td>\n",
       "    </tr>\n",
       "    <tr>\n",
       "      <th>7</th>\n",
       "      <td>#es.wikipedia</td>\n",
       "      <td>225090</td>\n",
       "    </tr>\n",
       "    <tr>\n",
       "      <th>8</th>\n",
       "      <td>#pt.wikipedia</td>\n",
       "      <td>197268</td>\n",
       "    </tr>\n",
       "    <tr>\n",
       "      <th>9</th>\n",
       "      <td>#nl.wikipedia</td>\n",
       "      <td>135426</td>\n",
       "    </tr>\n",
       "  </tbody>\n",
       "</table>\n",
       "</div>"
      ],
      "text/plain": [
       "          channel  additions\n",
       "0  #ceb.wikipedia    3280235\n",
       "1   #sv.wikipedia    2748599\n",
       "2   #en.wikipedia    2068620\n",
       "3   #fr.wikipedia     498994\n",
       "4   #ru.wikipedia     403344\n",
       "5   #de.wikipedia     380768\n",
       "6   #it.wikipedia     267957\n",
       "7   #es.wikipedia     225090\n",
       "8   #pt.wikipedia     197268\n",
       "9   #nl.wikipedia     135426"
      ]
     },
     "execution_count": 4,
     "metadata": {},
     "output_type": "execute_result"
    }
   ],
   "source": [
    "additions_pd = pd.read_json(query_result, orient='records')\n",
    "\n",
    "additions_pd"
   ]
  },
  {
   "cell_type": "markdown",
   "id": "9488cbee-63bf-414a-aff3-207adf39e115",
   "metadata": {},
   "source": [
    "The basis for the Bokeh examples in this tutorial are DataFrames. Another benefit of using a DataFrame is that you can access all the pandas `DataFrame` object methods. For example, `DataFrame.max()`:"
   ]
  },
  {
   "cell_type": "code",
   "execution_count": null,
   "id": "4d0a4ada-c9cf-4eee-a55f-b524d2dfad64",
   "metadata": {},
   "outputs": [],
   "source": [
    "additions_pd.max()"
   ]
  },
  {
   "cell_type": "markdown",
   "id": "a1720a88-cf1b-4022-981a-69441fac54fd",
   "metadata": {},
   "source": [
    "Check out the [pandas docs](https://pandas.pydata.org/docs/getting_started/intro_tutorials/index.html) for more ideas about how to use pandas and DataFrames \n",
    "with your Druid data."
   ]
  },
  {
   "cell_type": "markdown",
   "id": "07a16047-dba1-4f45-9fcb-6130c37eca61",
   "metadata": {},
   "source": [
    "## Display data with a bar graph\n",
    "\n",
    "Tabular format is OK for scanning data; however, you can use visualization and plotting tools that work with Jupyter Notebooks to visualize data as plots or graphs. This section uses [Bokeh](https://bokeh.org/) to illustrate some basic plots using Druid data.\n",
    "\n",
    "In this section, you create a simple bar chart showing the channels with the most additions during the time range."
   ]
  },
  {
   "cell_type": "markdown",
   "id": "8420df27-0e80-48d1-a806-43f6bf81dd16",
   "metadata": {},
   "source": [
    "First, call `output_notebook()` to set Bokeh to output plots inline within the notebook. This lets you view your plot inline. You can also use Bokeh's `output_file` function to write your plot to an HTML file. If you want to experiment with `output_file`, add it to the list of imports. For example:\n",
    "```\n",
    "from bokeh.io import output_notebook, show, output_file\n",
    "```"
   ]
  },
  {
   "cell_type": "code",
   "execution_count": 5,
   "id": "d824a82f-9e71-43c4-b289-78d4970c5cfc",
   "metadata": {},
   "outputs": [
    {
     "data": {
      "text/html": [
       "<style>\n",
       "        .bk-notebook-logo {\n",
       "            display: block;\n",
       "            width: 20px;\n",
       "            height: 20px;\n",
       "            background-image: url(data:image/png;base64,iVBORw0KGgoAAAANSUhEUgAAABQAAAAUCAYAAACNiR0NAAAABHNCSVQICAgIfAhkiAAAAAlwSFlzAAALEgAACxIB0t1+/AAAABx0RVh0U29mdHdhcmUAQWRvYmUgRmlyZXdvcmtzIENTNui8sowAAAOkSURBVDiNjZRtaJVlGMd/1/08zzln5zjP1LWcU9N0NkN8m2CYjpgQYQXqSs0I84OLIC0hkEKoPtiH3gmKoiJDU7QpLgoLjLIQCpEsNJ1vqUOdO7ppbuec5+V+rj4ctwzd8IIbbi6u+8f1539dt3A78eXC7QizUF7gyV1fD1Yqg4JWz84yffhm0qkFqBogB9rM8tZdtwVsPUhWhGcFJngGeWrPzHm5oaMmkfEg1usvLFyc8jLRqDOMru7AyC8saQr7GG7f5fvDeH7Ej8CM66nIF+8yngt6HWaKh7k49Soy9nXurCi1o3qUbS3zWfrYeQDTB/Qj6kX6Ybhw4B+bOYoLKCC9H3Nu/leUTZ1JdRWkkn2ldcCamzrcf47KKXdAJllSlxAOkRgyHsGC/zRday5Qld9DyoM4/q/rUoy/CXh3jzOu3bHUVZeU+DEn8FInkPBFlu3+nW3Nw0mk6vCDiWg8CeJaxEwuHS3+z5RgY+YBR6V1Z1nxSOfoaPa4LASWxxdNp+VWTk7+4vzaou8v8PN+xo+KY2xsw6une2frhw05CTYOmQvsEhjhWjn0bmXPjpE1+kplmmkP3suftwTubK9Vq22qKmrBhpY4jvd5afdRA3wGjFAgcnTK2s4hY0/GPNIb0nErGMCRxWOOX64Z8RAC4oCXdklmEvcL8o0BfkNK4lUg9HTl+oPlQxdNo3Mg4Nv175e/1LDGzZen30MEjRUtmXSfiTVu1kK8W4txyV6BMKlbgk3lMwYCiusNy9fVfvvwMxv8Ynl6vxoByANLTWplvuj/nF9m2+PDtt1eiHPBr1oIfhCChQMBw6Aw0UulqTKZdfVvfG7VcfIqLG9bcldL/+pdWTLxLUy8Qq38heUIjh4XlzZxzQm19lLFlr8vdQ97rjZVOLf8nclzckbcD4wxXMidpX30sFd37Fv/GtwwhzhxGVAprjbg0gCAEeIgwCZyTV2Z1REEW8O4py0wsjeloKoMr6iCY6dP92H6Vw/oTyICIthibxjm/DfN9lVz8IqtqKYLUXfoKVMVQVVJOElGjrnnUt9T9wbgp8AyYKaGlqingHZU/uG2NTZSVqwHQTWkx9hxjkpWDaCg6Ckj5qebgBVbT3V3NNXMSiWSDdGV3hrtzla7J+duwPOToIg42ChPQOQjspnSlp1V+Gjdged7+8UN5CRAV7a5EdFNwCjEaBR27b3W890TE7g24NAP/mMDXRWrGoFPQI9ls/MWO2dWFAar/xcOIImbbpA3zgAAAABJRU5ErkJggg==);\n",
       "        }\n",
       "    </style>\n",
       "    <div>\n",
       "        <a href=\"https://bokeh.org\" target=\"_blank\" class=\"bk-notebook-logo\"></a>\n",
       "        <span id=\"p1001\">Loading BokehJS ...</span>\n",
       "    </div>\n"
      ]
     },
     "metadata": {},
     "output_type": "display_data"
    },
    {
     "data": {
      "application/javascript": [
       "(function(root) {\n",
       "  function now() {\n",
       "    return new Date();\n",
       "  }\n",
       "\n",
       "  const force = true;\n",
       "\n",
       "  if (typeof root._bokeh_onload_callbacks === \"undefined\" || force === true) {\n",
       "    root._bokeh_onload_callbacks = [];\n",
       "    root._bokeh_is_loading = undefined;\n",
       "  }\n",
       "\n",
       "const JS_MIME_TYPE = 'application/javascript';\n",
       "  const HTML_MIME_TYPE = 'text/html';\n",
       "  const EXEC_MIME_TYPE = 'application/vnd.bokehjs_exec.v0+json';\n",
       "  const CLASS_NAME = 'output_bokeh rendered_html';\n",
       "\n",
       "  /**\n",
       "   * Render data to the DOM node\n",
       "   */\n",
       "  function render(props, node) {\n",
       "    const script = document.createElement(\"script\");\n",
       "    node.appendChild(script);\n",
       "  }\n",
       "\n",
       "  /**\n",
       "   * Handle when an output is cleared or removed\n",
       "   */\n",
       "  function handleClearOutput(event, handle) {\n",
       "    const cell = handle.cell;\n",
       "\n",
       "    const id = cell.output_area._bokeh_element_id;\n",
       "    const server_id = cell.output_area._bokeh_server_id;\n",
       "    // Clean up Bokeh references\n",
       "    if (id != null && id in Bokeh.index) {\n",
       "      Bokeh.index[id].model.document.clear();\n",
       "      delete Bokeh.index[id];\n",
       "    }\n",
       "\n",
       "    if (server_id !== undefined) {\n",
       "      // Clean up Bokeh references\n",
       "      const cmd_clean = \"from bokeh.io.state import curstate; print(curstate().uuid_to_server['\" + server_id + \"'].get_sessions()[0].document.roots[0]._id)\";\n",
       "      cell.notebook.kernel.execute(cmd_clean, {\n",
       "        iopub: {\n",
       "          output: function(msg) {\n",
       "            const id = msg.content.text.trim();\n",
       "            if (id in Bokeh.index) {\n",
       "              Bokeh.index[id].model.document.clear();\n",
       "              delete Bokeh.index[id];\n",
       "            }\n",
       "          }\n",
       "        }\n",
       "      });\n",
       "      // Destroy server and session\n",
       "      const cmd_destroy = \"import bokeh.io.notebook as ion; ion.destroy_server('\" + server_id + \"')\";\n",
       "      cell.notebook.kernel.execute(cmd_destroy);\n",
       "    }\n",
       "  }\n",
       "\n",
       "  /**\n",
       "   * Handle when a new output is added\n",
       "   */\n",
       "  function handleAddOutput(event, handle) {\n",
       "    const output_area = handle.output_area;\n",
       "    const output = handle.output;\n",
       "\n",
       "    // limit handleAddOutput to display_data with EXEC_MIME_TYPE content only\n",
       "    if ((output.output_type != \"display_data\") || (!Object.prototype.hasOwnProperty.call(output.data, EXEC_MIME_TYPE))) {\n",
       "      return\n",
       "    }\n",
       "\n",
       "    const toinsert = output_area.element.find(\".\" + CLASS_NAME.split(' ')[0]);\n",
       "\n",
       "    if (output.metadata[EXEC_MIME_TYPE][\"id\"] !== undefined) {\n",
       "      toinsert[toinsert.length - 1].firstChild.textContent = output.data[JS_MIME_TYPE];\n",
       "      // store reference to embed id on output_area\n",
       "      output_area._bokeh_element_id = output.metadata[EXEC_MIME_TYPE][\"id\"];\n",
       "    }\n",
       "    if (output.metadata[EXEC_MIME_TYPE][\"server_id\"] !== undefined) {\n",
       "      const bk_div = document.createElement(\"div\");\n",
       "      bk_div.innerHTML = output.data[HTML_MIME_TYPE];\n",
       "      const script_attrs = bk_div.children[0].attributes;\n",
       "      for (let i = 0; i < script_attrs.length; i++) {\n",
       "        toinsert[toinsert.length - 1].firstChild.setAttribute(script_attrs[i].name, script_attrs[i].value);\n",
       "        toinsert[toinsert.length - 1].firstChild.textContent = bk_div.children[0].textContent\n",
       "      }\n",
       "      // store reference to server id on output_area\n",
       "      output_area._bokeh_server_id = output.metadata[EXEC_MIME_TYPE][\"server_id\"];\n",
       "    }\n",
       "  }\n",
       "\n",
       "  function register_renderer(events, OutputArea) {\n",
       "\n",
       "    function append_mime(data, metadata, element) {\n",
       "      // create a DOM node to render to\n",
       "      const toinsert = this.create_output_subarea(\n",
       "        metadata,\n",
       "        CLASS_NAME,\n",
       "        EXEC_MIME_TYPE\n",
       "      );\n",
       "      this.keyboard_manager.register_events(toinsert);\n",
       "      // Render to node\n",
       "      const props = {data: data, metadata: metadata[EXEC_MIME_TYPE]};\n",
       "      render(props, toinsert[toinsert.length - 1]);\n",
       "      element.append(toinsert);\n",
       "      return toinsert\n",
       "    }\n",
       "\n",
       "    /* Handle when an output is cleared or removed */\n",
       "    events.on('clear_output.CodeCell', handleClearOutput);\n",
       "    events.on('delete.Cell', handleClearOutput);\n",
       "\n",
       "    /* Handle when a new output is added */\n",
       "    events.on('output_added.OutputArea', handleAddOutput);\n",
       "\n",
       "    /**\n",
       "     * Register the mime type and append_mime function with output_area\n",
       "     */\n",
       "    OutputArea.prototype.register_mime_type(EXEC_MIME_TYPE, append_mime, {\n",
       "      /* Is output safe? */\n",
       "      safe: true,\n",
       "      /* Index of renderer in `output_area.display_order` */\n",
       "      index: 0\n",
       "    });\n",
       "  }\n",
       "\n",
       "  // register the mime type if in Jupyter Notebook environment and previously unregistered\n",
       "  if (root.Jupyter !== undefined) {\n",
       "    const events = require('base/js/events');\n",
       "    const OutputArea = require('notebook/js/outputarea').OutputArea;\n",
       "\n",
       "    if (OutputArea.prototype.mime_types().indexOf(EXEC_MIME_TYPE) == -1) {\n",
       "      register_renderer(events, OutputArea);\n",
       "    }\n",
       "  }\n",
       "  if (typeof (root._bokeh_timeout) === \"undefined\" || force === true) {\n",
       "    root._bokeh_timeout = Date.now() + 5000;\n",
       "    root._bokeh_failed_load = false;\n",
       "  }\n",
       "\n",
       "  const NB_LOAD_WARNING = {'data': {'text/html':\n",
       "     \"<div style='background-color: #fdd'>\\n\"+\n",
       "     \"<p>\\n\"+\n",
       "     \"BokehJS does not appear to have successfully loaded. If loading BokehJS from CDN, this \\n\"+\n",
       "     \"may be due to a slow or bad network connection. Possible fixes:\\n\"+\n",
       "     \"</p>\\n\"+\n",
       "     \"<ul>\\n\"+\n",
       "     \"<li>re-rerun `output_notebook()` to attempt to load from CDN again, or</li>\\n\"+\n",
       "     \"<li>use INLINE resources instead, as so:</li>\\n\"+\n",
       "     \"</ul>\\n\"+\n",
       "     \"<code>\\n\"+\n",
       "     \"from bokeh.resources import INLINE\\n\"+\n",
       "     \"output_notebook(resources=INLINE)\\n\"+\n",
       "     \"</code>\\n\"+\n",
       "     \"</div>\"}};\n",
       "\n",
       "  function display_loaded() {\n",
       "    const el = document.getElementById(\"p1001\");\n",
       "    if (el != null) {\n",
       "      el.textContent = \"BokehJS is loading...\";\n",
       "    }\n",
       "    if (root.Bokeh !== undefined) {\n",
       "      if (el != null) {\n",
       "        el.textContent = \"BokehJS \" + root.Bokeh.version + \" successfully loaded.\";\n",
       "      }\n",
       "    } else if (Date.now() < root._bokeh_timeout) {\n",
       "      setTimeout(display_loaded, 100)\n",
       "    }\n",
       "  }\n",
       "\n",
       "  function run_callbacks() {\n",
       "    try {\n",
       "      root._bokeh_onload_callbacks.forEach(function(callback) {\n",
       "        if (callback != null)\n",
       "          callback();\n",
       "      });\n",
       "    } finally {\n",
       "      delete root._bokeh_onload_callbacks\n",
       "    }\n",
       "    console.debug(\"Bokeh: all callbacks have finished\");\n",
       "  }\n",
       "\n",
       "  function load_libs(css_urls, js_urls, callback) {\n",
       "    if (css_urls == null) css_urls = [];\n",
       "    if (js_urls == null) js_urls = [];\n",
       "\n",
       "    root._bokeh_onload_callbacks.push(callback);\n",
       "    if (root._bokeh_is_loading > 0) {\n",
       "      console.debug(\"Bokeh: BokehJS is being loaded, scheduling callback at\", now());\n",
       "      return null;\n",
       "    }\n",
       "    if (js_urls == null || js_urls.length === 0) {\n",
       "      run_callbacks();\n",
       "      return null;\n",
       "    }\n",
       "    console.debug(\"Bokeh: BokehJS not loaded, scheduling load and callback at\", now());\n",
       "    root._bokeh_is_loading = css_urls.length + js_urls.length;\n",
       "\n",
       "    function on_load() {\n",
       "      root._bokeh_is_loading--;\n",
       "      if (root._bokeh_is_loading === 0) {\n",
       "        console.debug(\"Bokeh: all BokehJS libraries/stylesheets loaded\");\n",
       "        run_callbacks()\n",
       "      }\n",
       "    }\n",
       "\n",
       "    function on_error(url) {\n",
       "      console.error(\"failed to load \" + url);\n",
       "    }\n",
       "\n",
       "    for (let i = 0; i < css_urls.length; i++) {\n",
       "      const url = css_urls[i];\n",
       "      const element = document.createElement(\"link\");\n",
       "      element.onload = on_load;\n",
       "      element.onerror = on_error.bind(null, url);\n",
       "      element.rel = \"stylesheet\";\n",
       "      element.type = \"text/css\";\n",
       "      element.href = url;\n",
       "      console.debug(\"Bokeh: injecting link tag for BokehJS stylesheet: \", url);\n",
       "      document.body.appendChild(element);\n",
       "    }\n",
       "\n",
       "    for (let i = 0; i < js_urls.length; i++) {\n",
       "      const url = js_urls[i];\n",
       "      const element = document.createElement('script');\n",
       "      element.onload = on_load;\n",
       "      element.onerror = on_error.bind(null, url);\n",
       "      element.async = false;\n",
       "      element.src = url;\n",
       "      console.debug(\"Bokeh: injecting script tag for BokehJS library: \", url);\n",
       "      document.head.appendChild(element);\n",
       "    }\n",
       "  };\n",
       "\n",
       "  function inject_raw_css(css) {\n",
       "    const element = document.createElement(\"style\");\n",
       "    element.appendChild(document.createTextNode(css));\n",
       "    document.body.appendChild(element);\n",
       "  }\n",
       "\n",
       "  const js_urls = [\"https://cdn.bokeh.org/bokeh/release/bokeh-3.0.1.min.js\", \"https://cdn.bokeh.org/bokeh/release/bokeh-gl-3.0.1.min.js\", \"https://cdn.bokeh.org/bokeh/release/bokeh-widgets-3.0.1.min.js\", \"https://cdn.bokeh.org/bokeh/release/bokeh-tables-3.0.1.min.js\", \"https://cdn.bokeh.org/bokeh/release/bokeh-mathjax-3.0.1.min.js\"];\n",
       "  const css_urls = [];\n",
       "\n",
       "  const inline_js = [    function(Bokeh) {\n",
       "      Bokeh.set_log_level(\"info\");\n",
       "    },\n",
       "function(Bokeh) {\n",
       "    }\n",
       "  ];\n",
       "\n",
       "  function run_inline_js() {\n",
       "    if (root.Bokeh !== undefined || force === true) {\n",
       "          for (let i = 0; i < inline_js.length; i++) {\n",
       "      inline_js[i].call(root, root.Bokeh);\n",
       "    }\n",
       "if (force === true) {\n",
       "        display_loaded();\n",
       "      }} else if (Date.now() < root._bokeh_timeout) {\n",
       "      setTimeout(run_inline_js, 100);\n",
       "    } else if (!root._bokeh_failed_load) {\n",
       "      console.log(\"Bokeh: BokehJS failed to load within specified timeout.\");\n",
       "      root._bokeh_failed_load = true;\n",
       "    } else if (force !== true) {\n",
       "      const cell = $(document.getElementById(\"p1001\")).parents('.cell').data().cell;\n",
       "      cell.output_area.append_execute_result(NB_LOAD_WARNING)\n",
       "    }\n",
       "  }\n",
       "\n",
       "  if (root._bokeh_is_loading === 0) {\n",
       "    console.debug(\"Bokeh: BokehJS loaded, going straight to plotting\");\n",
       "    run_inline_js();\n",
       "  } else {\n",
       "    load_libs(css_urls, js_urls, function() {\n",
       "      console.debug(\"Bokeh: BokehJS plotting callback run at\", now());\n",
       "      run_inline_js();\n",
       "    });\n",
       "  }\n",
       "}(window));"
      ],
      "application/vnd.bokehjs_load.v0+json": "(function(root) {\n  function now() {\n    return new Date();\n  }\n\n  const force = true;\n\n  if (typeof root._bokeh_onload_callbacks === \"undefined\" || force === true) {\n    root._bokeh_onload_callbacks = [];\n    root._bokeh_is_loading = undefined;\n  }\n\n\n  if (typeof (root._bokeh_timeout) === \"undefined\" || force === true) {\n    root._bokeh_timeout = Date.now() + 5000;\n    root._bokeh_failed_load = false;\n  }\n\n  const NB_LOAD_WARNING = {'data': {'text/html':\n     \"<div style='background-color: #fdd'>\\n\"+\n     \"<p>\\n\"+\n     \"BokehJS does not appear to have successfully loaded. If loading BokehJS from CDN, this \\n\"+\n     \"may be due to a slow or bad network connection. Possible fixes:\\n\"+\n     \"</p>\\n\"+\n     \"<ul>\\n\"+\n     \"<li>re-rerun `output_notebook()` to attempt to load from CDN again, or</li>\\n\"+\n     \"<li>use INLINE resources instead, as so:</li>\\n\"+\n     \"</ul>\\n\"+\n     \"<code>\\n\"+\n     \"from bokeh.resources import INLINE\\n\"+\n     \"output_notebook(resources=INLINE)\\n\"+\n     \"</code>\\n\"+\n     \"</div>\"}};\n\n  function display_loaded() {\n    const el = document.getElementById(\"p1001\");\n    if (el != null) {\n      el.textContent = \"BokehJS is loading...\";\n    }\n    if (root.Bokeh !== undefined) {\n      if (el != null) {\n        el.textContent = \"BokehJS \" + root.Bokeh.version + \" successfully loaded.\";\n      }\n    } else if (Date.now() < root._bokeh_timeout) {\n      setTimeout(display_loaded, 100)\n    }\n  }\n\n  function run_callbacks() {\n    try {\n      root._bokeh_onload_callbacks.forEach(function(callback) {\n        if (callback != null)\n          callback();\n      });\n    } finally {\n      delete root._bokeh_onload_callbacks\n    }\n    console.debug(\"Bokeh: all callbacks have finished\");\n  }\n\n  function load_libs(css_urls, js_urls, callback) {\n    if (css_urls == null) css_urls = [];\n    if (js_urls == null) js_urls = [];\n\n    root._bokeh_onload_callbacks.push(callback);\n    if (root._bokeh_is_loading > 0) {\n      console.debug(\"Bokeh: BokehJS is being loaded, scheduling callback at\", now());\n      return null;\n    }\n    if (js_urls == null || js_urls.length === 0) {\n      run_callbacks();\n      return null;\n    }\n    console.debug(\"Bokeh: BokehJS not loaded, scheduling load and callback at\", now());\n    root._bokeh_is_loading = css_urls.length + js_urls.length;\n\n    function on_load() {\n      root._bokeh_is_loading--;\n      if (root._bokeh_is_loading === 0) {\n        console.debug(\"Bokeh: all BokehJS libraries/stylesheets loaded\");\n        run_callbacks()\n      }\n    }\n\n    function on_error(url) {\n      console.error(\"failed to load \" + url);\n    }\n\n    for (let i = 0; i < css_urls.length; i++) {\n      const url = css_urls[i];\n      const element = document.createElement(\"link\");\n      element.onload = on_load;\n      element.onerror = on_error.bind(null, url);\n      element.rel = \"stylesheet\";\n      element.type = \"text/css\";\n      element.href = url;\n      console.debug(\"Bokeh: injecting link tag for BokehJS stylesheet: \", url);\n      document.body.appendChild(element);\n    }\n\n    for (let i = 0; i < js_urls.length; i++) {\n      const url = js_urls[i];\n      const element = document.createElement('script');\n      element.onload = on_load;\n      element.onerror = on_error.bind(null, url);\n      element.async = false;\n      element.src = url;\n      console.debug(\"Bokeh: injecting script tag for BokehJS library: \", url);\n      document.head.appendChild(element);\n    }\n  };\n\n  function inject_raw_css(css) {\n    const element = document.createElement(\"style\");\n    element.appendChild(document.createTextNode(css));\n    document.body.appendChild(element);\n  }\n\n  const js_urls = [\"https://cdn.bokeh.org/bokeh/release/bokeh-3.0.1.min.js\", \"https://cdn.bokeh.org/bokeh/release/bokeh-gl-3.0.1.min.js\", \"https://cdn.bokeh.org/bokeh/release/bokeh-widgets-3.0.1.min.js\", \"https://cdn.bokeh.org/bokeh/release/bokeh-tables-3.0.1.min.js\", \"https://cdn.bokeh.org/bokeh/release/bokeh-mathjax-3.0.1.min.js\"];\n  const css_urls = [];\n\n  const inline_js = [    function(Bokeh) {\n      Bokeh.set_log_level(\"info\");\n    },\nfunction(Bokeh) {\n    }\n  ];\n\n  function run_inline_js() {\n    if (root.Bokeh !== undefined || force === true) {\n          for (let i = 0; i < inline_js.length; i++) {\n      inline_js[i].call(root, root.Bokeh);\n    }\nif (force === true) {\n        display_loaded();\n      }} else if (Date.now() < root._bokeh_timeout) {\n      setTimeout(run_inline_js, 100);\n    } else if (!root._bokeh_failed_load) {\n      console.log(\"Bokeh: BokehJS failed to load within specified timeout.\");\n      root._bokeh_failed_load = true;\n    } else if (force !== true) {\n      const cell = $(document.getElementById(\"p1001\")).parents('.cell').data().cell;\n      cell.output_area.append_execute_result(NB_LOAD_WARNING)\n    }\n  }\n\n  if (root._bokeh_is_loading === 0) {\n    console.debug(\"Bokeh: BokehJS loaded, going straight to plotting\");\n    run_inline_js();\n  } else {\n    load_libs(css_urls, js_urls, function() {\n      console.debug(\"Bokeh: BokehJS plotting callback run at\", now());\n      run_inline_js();\n    });\n  }\n}(window));"
     },
     "metadata": {},
     "output_type": "display_data"
    }
   ],
   "source": [
    "output_notebook()"
   ]
  },
  {
   "cell_type": "markdown",
   "id": "5859d743-a5a7-445c-a06f-89b8c30856ed",
   "metadata": {},
   "source": [
    "There are several ways to use Bokeh with a DataFrame. In this case, make a list of channels to serve as the x-axis of our plot. For the y-axis,  divide the total additions by 100000 for ease of display."
   ]
  },
  {
   "cell_type": "code",
   "execution_count": 6,
   "id": "70b40bfc-106d-462c-a5a1-51d0da4c4498",
   "metadata": {},
   "outputs": [],
   "source": [
    "channels = additions_pd.channel.to_list()\n",
    "total_additions = [x / 100000 for x in additions_pd.additions.to_list()]"
   ]
  },
  {
   "cell_type": "code",
   "execution_count": 7,
   "id": "efc5f142-8b68-4430-a666-2ed961d732b9",
   "metadata": {},
   "outputs": [
    {
     "data": {
      "text/plain": [
       "['#ceb.wikipedia',\n",
       " '#sv.wikipedia',\n",
       " '#en.wikipedia',\n",
       " '#fr.wikipedia',\n",
       " '#ru.wikipedia',\n",
       " '#de.wikipedia',\n",
       " '#it.wikipedia',\n",
       " '#es.wikipedia',\n",
       " '#pt.wikipedia',\n",
       " '#nl.wikipedia']"
      ]
     },
     "execution_count": 7,
     "metadata": {},
     "output_type": "execute_result"
    }
   ],
   "source": [
    "channels"
   ]
  },
  {
   "cell_type": "code",
   "execution_count": 8,
   "id": "9f619fd3-6a01-4dc6-b8eb-81e4b4ae1a31",
   "metadata": {},
   "outputs": [
    {
     "data": {
      "text/plain": [
       "[32.80235,\n",
       " 27.48599,\n",
       " 20.6862,\n",
       " 4.98994,\n",
       " 4.03344,\n",
       " 3.80768,\n",
       " 2.67957,\n",
       " 2.2509,\n",
       " 1.97268,\n",
       " 1.35426]"
      ]
     },
     "execution_count": 8,
     "metadata": {},
     "output_type": "execute_result"
    }
   ],
   "source": [
    "total_additions"
   ]
  },
  {
   "cell_type": "markdown",
   "id": "6b430b4c-df81-419d-a81e-63bb0150031b",
   "metadata": {},
   "source": [
    "Next, initialize the Bokeh plot (figure) with some basic configurations."
   ]
  },
  {
   "cell_type": "code",
   "execution_count": 9,
   "id": "07644ccd-1f0c-4a50-8929-82559f9bf803",
   "metadata": {},
   "outputs": [],
   "source": [
    " # Create a new plot with a title. Set the size in pixels\n",
    "bar_plot = figure(height=500, width=750, x_range=channels,  title=\"Additions by channel\",\n",
    "           toolbar_location=None)"
   ]
  },
  {
   "cell_type": "markdown",
   "id": "e0a01f4c-6f35-4eb7-9263-4f6ed6c68223",
   "metadata": {},
   "source": [
    "Now, configure the renderer for the vertical bars on the plot:\n",
    "- Set the x-axis to `channels`, the list of channels.\n",
    "- Set the `top` coordinate that determines the bar height to `total_additions`.\n",
    "- For a splash of color, set the `color` to `Spectral10`. \n",
    "\n",
    "Note that palettes in Bokeh are lists of colors. Bokeh expects the list length to equal the list length of the data dimensions -- in this case 10 colors.\n",
    "\n",
    "See the Bokeh docs for more information on [vertical bars](https://docs.bokeh.org/en/latest/docs/reference/plotting/figure.html#bokeh.plotting.figure.vbar) and [palettes](https://docs.bokeh.org/en/latest/docs/reference/palettes.html). Note the expected output for the cell: `GlyphRenderer(id = 'p1054', …)`"
   ]
  },
  {
   "cell_type": "code",
   "execution_count": 10,
   "id": "c3e40279-6cf1-4e84-820a-2465e5e9d84a",
   "metadata": {},
   "outputs": [
    {
     "data": {
      "text/html": [
       "<div style=\"display: table;\"><div style=\"display: table-row;\"><div style=\"display: table-cell;\"><b title=\"bokeh.models.renderers.glyph_renderer.GlyphRenderer\">GlyphRenderer</b>(</div><div style=\"display: table-cell;\">id&nbsp;=&nbsp;'p1054', <span id=\"p1058\" style=\"cursor: pointer;\">&hellip;)</span></div></div><div class=\"p1057\" style=\"display: none;\"><div style=\"display: table-cell;\"></div><div style=\"display: table-cell;\">coordinates&nbsp;=&nbsp;None,</div></div><div class=\"p1057\" style=\"display: none;\"><div style=\"display: table-cell;\"></div><div style=\"display: table-cell;\">data_source&nbsp;=&nbsp;ColumnDataSource(id='p1048', ...),</div></div><div class=\"p1057\" style=\"display: none;\"><div style=\"display: table-cell;\"></div><div style=\"display: table-cell;\">glyph&nbsp;=&nbsp;VBar(id='p1051', ...),</div></div><div class=\"p1057\" style=\"display: none;\"><div style=\"display: table-cell;\"></div><div style=\"display: table-cell;\">group&nbsp;=&nbsp;None,</div></div><div class=\"p1057\" style=\"display: none;\"><div style=\"display: table-cell;\"></div><div style=\"display: table-cell;\">hover_glyph&nbsp;=&nbsp;None,</div></div><div class=\"p1057\" style=\"display: none;\"><div style=\"display: table-cell;\"></div><div style=\"display: table-cell;\">js_event_callbacks&nbsp;=&nbsp;{},</div></div><div class=\"p1057\" style=\"display: none;\"><div style=\"display: table-cell;\"></div><div style=\"display: table-cell;\">js_property_callbacks&nbsp;=&nbsp;{},</div></div><div class=\"p1057\" style=\"display: none;\"><div style=\"display: table-cell;\"></div><div style=\"display: table-cell;\">level&nbsp;=&nbsp;'glyph',</div></div><div class=\"p1057\" style=\"display: none;\"><div style=\"display: table-cell;\"></div><div style=\"display: table-cell;\">muted&nbsp;=&nbsp;False,</div></div><div class=\"p1057\" style=\"display: none;\"><div style=\"display: table-cell;\"></div><div style=\"display: table-cell;\">muted_glyph&nbsp;=&nbsp;VBar(id='p1053', ...),</div></div><div class=\"p1057\" style=\"display: none;\"><div style=\"display: table-cell;\"></div><div style=\"display: table-cell;\">name&nbsp;=&nbsp;None,</div></div><div class=\"p1057\" style=\"display: none;\"><div style=\"display: table-cell;\"></div><div style=\"display: table-cell;\">nonselection_glyph&nbsp;=&nbsp;VBar(id='p1052', ...),</div></div><div class=\"p1057\" style=\"display: none;\"><div style=\"display: table-cell;\"></div><div style=\"display: table-cell;\">selection_glyph&nbsp;=&nbsp;'auto',</div></div><div class=\"p1057\" style=\"display: none;\"><div style=\"display: table-cell;\"></div><div style=\"display: table-cell;\">subscribed_events&nbsp;=&nbsp;PropertyValueSet(),</div></div><div class=\"p1057\" style=\"display: none;\"><div style=\"display: table-cell;\"></div><div style=\"display: table-cell;\">syncable&nbsp;=&nbsp;True,</div></div><div class=\"p1057\" style=\"display: none;\"><div style=\"display: table-cell;\"></div><div style=\"display: table-cell;\">tags&nbsp;=&nbsp;[],</div></div><div class=\"p1057\" style=\"display: none;\"><div style=\"display: table-cell;\"></div><div style=\"display: table-cell;\">view&nbsp;=&nbsp;CDSView(id='p1055', ...),</div></div><div class=\"p1057\" style=\"display: none;\"><div style=\"display: table-cell;\"></div><div style=\"display: table-cell;\">visible&nbsp;=&nbsp;True,</div></div><div class=\"p1057\" style=\"display: none;\"><div style=\"display: table-cell;\"></div><div style=\"display: table-cell;\">x_range_name&nbsp;=&nbsp;'default',</div></div><div class=\"p1057\" style=\"display: none;\"><div style=\"display: table-cell;\"></div><div style=\"display: table-cell;\">y_range_name&nbsp;=&nbsp;'default')</div></div></div>\n",
       "<script>\n",
       "(function() {\n",
       "  let expanded = false;\n",
       "  const ellipsis = document.getElementById(\"p1058\");\n",
       "  ellipsis.addEventListener(\"click\", function() {\n",
       "    const rows = document.getElementsByClassName(\"p1057\");\n",
       "    for (let i = 0; i < rows.length; i++) {\n",
       "      const el = rows[i];\n",
       "      el.style.display = expanded ? \"none\" : \"table-row\";\n",
       "    }\n",
       "    ellipsis.innerHTML = expanded ? \"&hellip;)\" : \"&lsaquo;&lsaquo;&lsaquo;\";\n",
       "    expanded = !expanded;\n",
       "  });\n",
       "})();\n",
       "</script>\n"
      ],
      "text/plain": [
       "GlyphRenderer(id='p1054', ...)"
      ]
     },
     "execution_count": 10,
     "metadata": {},
     "output_type": "execute_result"
    }
   ],
   "source": [
    "bar_plot.vbar(x=channels, top=total_additions, width=0.5, color=Spectral10)"
   ]
  },
  {
   "cell_type": "markdown",
   "id": "04a6581b-fa11-40ec-ba39-04d08e80dd09",
   "metadata": {},
   "source": [
    "Leave off the x-axis grid lines for this plot."
   ]
  },
  {
   "cell_type": "code",
   "execution_count": 11,
   "id": "ca348337-abdd-4e34-a81a-7872736f14ca",
   "metadata": {},
   "outputs": [],
   "source": [
    "bar_plot.xgrid.grid_line_color = None"
   ]
  },
  {
   "cell_type": "markdown",
   "id": "b5364774-b8e7-46a0-82d3-f1a9f09a6cc0",
   "metadata": {},
   "source": [
    "Now, configure the y-axis:\n",
    " - Set the minimum value to `0`.\n",
    " - Set the visible range to `(0,40)`."
   ]
  },
  {
   "cell_type": "code",
   "execution_count": 12,
   "id": "c5f83f5c-f546-4a71-be36-30f659a9b94b",
   "metadata": {},
   "outputs": [],
   "source": [
    "bar_plot.y_range.start = 0\n",
    "y_range=(0, 40)"
   ]
  },
  {
   "cell_type": "markdown",
   "id": "8b54c25a-07af-4ade-96d5-15ca04178fe2",
   "metadata": {},
   "source": [
    "Finally, display your plot with the `show()` method."
   ]
  },
  {
   "cell_type": "code",
   "execution_count": 13,
   "id": "44a604ec-208c-4d7a-9d25-97b308328407",
   "metadata": {},
   "outputs": [
    {
     "data": {
      "text/html": [
       "\n",
       "  <div id=\"44ef776a-98be-43ff-a273-3919ea9c55b5\" data-root-id=\"p1002\" style=\"display: contents;\"></div>\n"
      ]
     },
     "metadata": {},
     "output_type": "display_data"
    },
    {
     "data": {
      "application/javascript": [
       "(function(root) {\n",
       "  function embed_document(root) {\n",
       "  const docs_json = {\"bb7fffd2-f3fe-4adb-b102-671539341611\":{\"version\":\"3.0.1\",\"title\":\"Bokeh Application\",\"defs\":[],\"roots\":[{\"type\":\"object\",\"name\":\"Figure\",\"id\":\"p1002\",\"attributes\":{\"width\":750,\"height\":500,\"x_range\":{\"type\":\"object\",\"name\":\"FactorRange\",\"id\":\"p1012\",\"attributes\":{\"factors\":[\"#ceb.wikipedia\",\"#sv.wikipedia\",\"#en.wikipedia\",\"#fr.wikipedia\",\"#ru.wikipedia\",\"#de.wikipedia\",\"#it.wikipedia\",\"#es.wikipedia\",\"#pt.wikipedia\",\"#nl.wikipedia\"]}},\"y_range\":{\"type\":\"object\",\"name\":\"DataRange1d\",\"id\":\"p1004\",\"attributes\":{\"start\":0}},\"x_scale\":{\"type\":\"object\",\"name\":\"CategoricalScale\",\"id\":\"p1016\"},\"y_scale\":{\"type\":\"object\",\"name\":\"LinearScale\",\"id\":\"p1018\"},\"title\":{\"type\":\"object\",\"name\":\"Title\",\"id\":\"p1005\",\"attributes\":{\"text\":\"Additions by channel\"}},\"renderers\":[{\"type\":\"object\",\"name\":\"GlyphRenderer\",\"id\":\"p1054\",\"attributes\":{\"data_source\":{\"type\":\"object\",\"name\":\"ColumnDataSource\",\"id\":\"p1048\",\"attributes\":{\"selected\":{\"type\":\"object\",\"name\":\"Selection\",\"id\":\"p1050\",\"attributes\":{\"indices\":[],\"line_indices\":[]}},\"selection_policy\":{\"type\":\"object\",\"name\":\"UnionRenderers\",\"id\":\"p1049\"},\"data\":{\"type\":\"map\",\"entries\":[[\"x\",[\"#ceb.wikipedia\",\"#sv.wikipedia\",\"#en.wikipedia\",\"#fr.wikipedia\",\"#ru.wikipedia\",\"#de.wikipedia\",\"#it.wikipedia\",\"#es.wikipedia\",\"#pt.wikipedia\",\"#nl.wikipedia\"]],[\"top\",[32.80235,27.48599,20.6862,4.98994,4.03344,3.80768,2.67957,2.2509,1.97268,1.35426]],[\"fill_color\",[\"#5e4fa2\",\"#3288bd\",\"#66c2a5\",\"#abdda4\",\"#e6f598\",\"#fee08b\",\"#fdae61\",\"#f46d43\",\"#d53e4f\",\"#9e0142\"]],[\"hatch_color\",[\"#5e4fa2\",\"#3288bd\",\"#66c2a5\",\"#abdda4\",\"#e6f598\",\"#fee08b\",\"#fdae61\",\"#f46d43\",\"#d53e4f\",\"#9e0142\"]],[\"line_color\",[\"#5e4fa2\",\"#3288bd\",\"#66c2a5\",\"#abdda4\",\"#e6f598\",\"#fee08b\",\"#fdae61\",\"#f46d43\",\"#d53e4f\",\"#9e0142\"]]]}}},\"view\":{\"type\":\"object\",\"name\":\"CDSView\",\"id\":\"p1055\",\"attributes\":{\"filter\":{\"type\":\"object\",\"name\":\"AllIndices\",\"id\":\"p1056\"}}},\"glyph\":{\"type\":\"object\",\"name\":\"VBar\",\"id\":\"p1051\",\"attributes\":{\"x\":{\"type\":\"field\",\"field\":\"x\"},\"width\":{\"type\":\"value\",\"value\":0.5},\"top\":{\"type\":\"field\",\"field\":\"top\"},\"line_color\":{\"type\":\"field\",\"field\":\"line_color\"},\"fill_color\":{\"type\":\"field\",\"field\":\"fill_color\"},\"hatch_color\":{\"type\":\"field\",\"field\":\"hatch_color\"}}},\"nonselection_glyph\":{\"type\":\"object\",\"name\":\"VBar\",\"id\":\"p1052\",\"attributes\":{\"x\":{\"type\":\"field\",\"field\":\"x\"},\"width\":{\"type\":\"value\",\"value\":0.5},\"top\":{\"type\":\"field\",\"field\":\"top\"},\"line_color\":{\"type\":\"field\",\"field\":\"line_color\"},\"line_alpha\":{\"type\":\"value\",\"value\":0.1},\"fill_color\":{\"type\":\"field\",\"field\":\"fill_color\"},\"fill_alpha\":{\"type\":\"value\",\"value\":0.1},\"hatch_color\":{\"type\":\"field\",\"field\":\"hatch_color\"},\"hatch_alpha\":{\"type\":\"value\",\"value\":0.1}}},\"muted_glyph\":{\"type\":\"object\",\"name\":\"VBar\",\"id\":\"p1053\",\"attributes\":{\"x\":{\"type\":\"field\",\"field\":\"x\"},\"width\":{\"type\":\"value\",\"value\":0.5},\"top\":{\"type\":\"field\",\"field\":\"top\"},\"line_color\":{\"type\":\"field\",\"field\":\"line_color\"},\"line_alpha\":{\"type\":\"value\",\"value\":0.2},\"fill_color\":{\"type\":\"field\",\"field\":\"fill_color\"},\"fill_alpha\":{\"type\":\"value\",\"value\":0.2},\"hatch_color\":{\"type\":\"field\",\"field\":\"hatch_color\"},\"hatch_alpha\":{\"type\":\"value\",\"value\":0.2}}}}}],\"toolbar\":{\"type\":\"object\",\"name\":\"Toolbar\",\"id\":\"p1010\",\"attributes\":{\"tools\":[{\"type\":\"object\",\"name\":\"PanTool\",\"id\":\"p1033\"},{\"type\":\"object\",\"name\":\"WheelZoomTool\",\"id\":\"p1034\"},{\"type\":\"object\",\"name\":\"BoxZoomTool\",\"id\":\"p1035\",\"attributes\":{\"overlay\":{\"type\":\"object\",\"name\":\"BoxAnnotation\",\"id\":\"p1036\",\"attributes\":{\"syncable\":false,\"level\":\"overlay\",\"visible\":false,\"left_units\":\"canvas\",\"right_units\":\"canvas\",\"bottom_units\":\"canvas\",\"top_units\":\"canvas\",\"line_color\":\"black\",\"line_alpha\":1.0,\"line_width\":2,\"line_dash\":[4,4],\"fill_color\":\"lightgrey\",\"fill_alpha\":0.5}}}},{\"type\":\"object\",\"name\":\"SaveTool\",\"id\":\"p1037\"},{\"type\":\"object\",\"name\":\"ResetTool\",\"id\":\"p1038\"},{\"type\":\"object\",\"name\":\"HelpTool\",\"id\":\"p1039\"}]}},\"toolbar_location\":null,\"left\":[{\"type\":\"object\",\"name\":\"LinearAxis\",\"id\":\"p1026\",\"attributes\":{\"ticker\":{\"type\":\"object\",\"name\":\"BasicTicker\",\"id\":\"p1027\",\"attributes\":{\"mantissas\":[1,2,5]}},\"formatter\":{\"type\":\"object\",\"name\":\"BasicTickFormatter\",\"id\":\"p1028\"},\"major_label_policy\":{\"type\":\"object\",\"name\":\"AllLabels\",\"id\":\"p1029\"}}}],\"below\":[{\"type\":\"object\",\"name\":\"CategoricalAxis\",\"id\":\"p1020\",\"attributes\":{\"ticker\":{\"type\":\"object\",\"name\":\"CategoricalTicker\",\"id\":\"p1021\"},\"formatter\":{\"type\":\"object\",\"name\":\"CategoricalTickFormatter\",\"id\":\"p1022\"},\"major_label_policy\":{\"type\":\"object\",\"name\":\"AllLabels\",\"id\":\"p1023\"}}}],\"center\":[{\"type\":\"object\",\"name\":\"Grid\",\"id\":\"p1025\",\"attributes\":{\"axis\":{\"id\":\"p1020\"},\"grid_line_color\":null}},{\"type\":\"object\",\"name\":\"Grid\",\"id\":\"p1032\",\"attributes\":{\"dimension\":1,\"axis\":{\"id\":\"p1026\"}}}]}}]}};\n",
       "  const render_items = [{\"docid\":\"bb7fffd2-f3fe-4adb-b102-671539341611\",\"roots\":{\"p1002\":\"44ef776a-98be-43ff-a273-3919ea9c55b5\"},\"root_ids\":[\"p1002\"]}];\n",
       "  root.Bokeh.embed.embed_items_notebook(docs_json, render_items);\n",
       "  }\n",
       "  if (root.Bokeh !== undefined) {\n",
       "    embed_document(root);\n",
       "  } else {\n",
       "    let attempts = 0;\n",
       "    const timer = setInterval(function(root) {\n",
       "      if (root.Bokeh !== undefined) {\n",
       "        clearInterval(timer);\n",
       "        embed_document(root);\n",
       "      } else {\n",
       "        attempts++;\n",
       "        if (attempts > 100) {\n",
       "          clearInterval(timer);\n",
       "          console.log(\"Bokeh: ERROR: Unable to run BokehJS code because BokehJS library is missing\");\n",
       "        }\n",
       "      }\n",
       "    }, 10, root)\n",
       "  }\n",
       "})(window);"
      ],
      "application/vnd.bokehjs_exec.v0+json": ""
     },
     "metadata": {
      "application/vnd.bokehjs_exec.v0+json": {
       "id": "p1002"
      }
     },
     "output_type": "display_data"
    }
   ],
   "source": [
    "show(bar_plot)"
   ]
  },
  {
   "cell_type": "markdown",
   "id": "772a20f2-2ea9-4e67-96fa-0a1eab32bb5a",
   "metadata": {},
   "source": [
    "## Display data with a line graph"
   ]
  },
  {
   "cell_type": "markdown",
   "id": "9fd43bc4-d048-4319-8dd0-2b0ca94fd33b",
   "metadata": {},
   "source": [
    "In this section, you'll create a line graph that compares the following, per channel:\n",
    "\n",
    "* Total additions\n",
    "* Number of unique editors\n",
    "* Number of bot edits"
   ]
  },
  {
   "cell_type": "markdown",
   "id": "1f915e03-103c-4151-93c4-ad779741f2a5",
   "metadata": {},
   "source": [
    "First, change the query to include the editors and robots and load the results into a new pandas object."
   ]
  },
  {
   "cell_type": "code",
   "execution_count": 14,
   "id": "910920f5-db6a-4c3a-95fc-d25763d45de4",
   "metadata": {},
   "outputs": [
    {
     "data": {
      "text/html": [
       "<div>\n",
       "<style scoped>\n",
       "    .dataframe tbody tr th:only-of-type {\n",
       "        vertical-align: middle;\n",
       "    }\n",
       "\n",
       "    .dataframe tbody tr th {\n",
       "        vertical-align: top;\n",
       "    }\n",
       "\n",
       "    .dataframe thead th {\n",
       "        text-align: right;\n",
       "    }\n",
       "</style>\n",
       "<table border=\"1\" class=\"dataframe\">\n",
       "  <thead>\n",
       "    <tr style=\"text-align: right;\">\n",
       "      <th></th>\n",
       "      <th>channel</th>\n",
       "      <th>additions</th>\n",
       "      <th>editors</th>\n",
       "      <th>robots</th>\n",
       "    </tr>\n",
       "  </thead>\n",
       "  <tbody>\n",
       "    <tr>\n",
       "      <th>0</th>\n",
       "      <td>#ceb.wikipedia</td>\n",
       "      <td>3280235</td>\n",
       "      <td>3</td>\n",
       "      <td>1808</td>\n",
       "    </tr>\n",
       "    <tr>\n",
       "      <th>1</th>\n",
       "      <td>#sv.wikipedia</td>\n",
       "      <td>2748599</td>\n",
       "      <td>74</td>\n",
       "      <td>1744</td>\n",
       "    </tr>\n",
       "    <tr>\n",
       "      <th>2</th>\n",
       "      <td>#en.wikipedia</td>\n",
       "      <td>2068620</td>\n",
       "      <td>3032</td>\n",
       "      <td>536</td>\n",
       "    </tr>\n",
       "    <tr>\n",
       "      <th>3</th>\n",
       "      <td>#fr.wikipedia</td>\n",
       "      <td>498994</td>\n",
       "      <td>537</td>\n",
       "      <td>180</td>\n",
       "    </tr>\n",
       "    <tr>\n",
       "      <th>4</th>\n",
       "      <td>#ru.wikipedia</td>\n",
       "      <td>403344</td>\n",
       "      <td>522</td>\n",
       "      <td>66</td>\n",
       "    </tr>\n",
       "    <tr>\n",
       "      <th>5</th>\n",
       "      <td>#de.wikipedia</td>\n",
       "      <td>380768</td>\n",
       "      <td>675</td>\n",
       "      <td>186</td>\n",
       "    </tr>\n",
       "    <tr>\n",
       "      <th>6</th>\n",
       "      <td>#it.wikipedia</td>\n",
       "      <td>267957</td>\n",
       "      <td>328</td>\n",
       "      <td>422</td>\n",
       "    </tr>\n",
       "    <tr>\n",
       "      <th>7</th>\n",
       "      <td>#es.wikipedia</td>\n",
       "      <td>225090</td>\n",
       "      <td>439</td>\n",
       "      <td>50</td>\n",
       "    </tr>\n",
       "    <tr>\n",
       "      <th>8</th>\n",
       "      <td>#pt.wikipedia</td>\n",
       "      <td>197268</td>\n",
       "      <td>205</td>\n",
       "      <td>13</td>\n",
       "    </tr>\n",
       "    <tr>\n",
       "      <th>9</th>\n",
       "      <td>#nl.wikipedia</td>\n",
       "      <td>135426</td>\n",
       "      <td>153</td>\n",
       "      <td>11</td>\n",
       "    </tr>\n",
       "  </tbody>\n",
       "</table>\n",
       "</div>"
      ],
      "text/plain": [
       "          channel  additions  editors  robots\n",
       "0  #ceb.wikipedia    3280235        3    1808\n",
       "1   #sv.wikipedia    2748599       74    1744\n",
       "2   #en.wikipedia    2068620     3032     536\n",
       "3   #fr.wikipedia     498994      537     180\n",
       "4   #ru.wikipedia     403344      522      66\n",
       "5   #de.wikipedia     380768      675     186\n",
       "6   #it.wikipedia     267957      328     422\n",
       "7   #es.wikipedia     225090      439      50\n",
       "8   #pt.wikipedia     197268      205      13\n",
       "9   #nl.wikipedia     135426      153      11"
      ]
     },
     "execution_count": 14,
     "metadata": {},
     "output_type": "execute_result"
    }
   ],
   "source": [
    "sql = f'''\n",
    "        SELECT channel, SUM(added) AS additions,\n",
    "        COUNT (DISTINCT user) as editors,\n",
    "        SUM(CASE WHEN isRobot='true' THEN 1 ELSE 0 END) AS robots\n",
    "        FROM {dataSourceName}\n",
    "        GROUP BY channel ORDER BY additions DESC LIMIT 10\n",
    "        '''\n",
    "\n",
    "\n",
    "# Submit the request and get a list of JSON objects.\n",
    "query_result = json.dumps(sql_client.sql_query(sql).rows())\n",
    "\n",
    "# Add the results to a pandas DataFrame.\n",
    "editors_pd = pd.read_json(query_result, orient='records')\n",
    "\n",
    "editors_pd"
   ]
  },
  {
   "cell_type": "markdown",
   "id": "5f761a0b-efe1-4e4a-bfa5-a80aca3e2cc8",
   "metadata": {},
   "source": [
    "Set up values for your plots:\n",
    "- Leave channels as the basis for the x-axis.\n",
    "- Change the resolution for additions to 1000, so it will fit nicely on our plot with the editors and the robots values.\n",
    "- Create lists of values for editors and robots."
   ]
  },
  {
   "cell_type": "code",
   "execution_count": 15,
   "id": "842b96f9-b22c-47ef-b050-fbc11b234296",
   "metadata": {},
   "outputs": [],
   "source": [
    "channels = editors_pd.channel.to_list()\n",
    "total_additions = [x / 1000 for x in editors_pd.additions.to_list()]\n",
    "editors = editors_pd.editors.to_list()\n",
    "robots = editors_pd.robots.to_list()"
   ]
  },
  {
   "cell_type": "markdown",
   "id": "7ee812f8-fc6e-48b6-abf3-1f8cf87f07eb",
   "metadata": {},
   "source": [
    "Next, create a plot the same as before, but this time, leave in the Bokeh tools so you can try those out at the end."
   ]
  },
  {
   "cell_type": "code",
   "execution_count": 16,
   "id": "f59bb2ee-d513-492c-b021-58ce9e9e922b",
   "metadata": {},
   "outputs": [],
   "source": [
    "# Create a plot.\n",
    "line_plot = figure(x_range=channels, height=500, width=750, title=\"Editors vs robots\")"
   ]
  },
  {
   "cell_type": "markdown",
   "id": "50cfed5d-efcc-4429-9929-3235682cd869",
   "metadata": {},
   "source": [
    "Change the scale to accommodate the current data set."
   ]
  },
  {
   "cell_type": "code",
   "execution_count": 17,
   "id": "20a4f394-898f-467c-b77e-38e95c45c380",
   "metadata": {},
   "outputs": [],
   "source": [
    "line_plot.y_range.start = 0\n",
    "y_range=(0, 4000)"
   ]
  },
  {
   "cell_type": "markdown",
   "id": "6e4224f5-41a8-42b1-a3c9-cfc0bd96d3a5",
   "metadata": {},
   "source": [
    "Next, add data lines onto the plot:\n",
    "- For the line color, you only need one color per line. To keep with the Spectral palette, set the index (0-9) for the color you want.\n",
    "- Bokeh adds a legend for the lines. The legend label identifies each line in the legend.\n",
    "- The `line_width` and `line_dash` properties control the line appearance.\n",
    "\n",
    "See the [Bokeh docs](https://docs.bokeh.org/en/latest/docs/reference/plotting/figure.html#bokeh.plotting.figure.line) for more information about the line figures."
   ]
  },
  {
   "cell_type": "code",
   "execution_count": 18,
   "id": "1a2f7688-a65b-4489-8f0f-13b5359d8d7c",
   "metadata": {},
   "outputs": [],
   "source": [
    "# Add renderers for the lines\n",
    "addition_line = line_plot.line(channels, total_additions, line_color=Spectral10[0], legend_label=\"Additions x 1000\",line_width=3, line_dash='solid')\n",
    "deletion_line = line_plot.line(channels, editors, line_color=Spectral10[3], legend_label=\"Editors\", line_width=3, line_dash='dashed')\n",
    "robots_line = line_plot.line(channels, robots, line_color=Spectral10[7], legend_label=\"Robots\", line_width=3, line_dash='dotted')"
   ]
  },
  {
   "cell_type": "markdown",
   "id": "5c8e398e-b9ca-48e8-87ca-6191b3143245",
   "metadata": {},
   "source": [
    "Finally, display the plot."
   ]
  },
  {
   "cell_type": "code",
   "execution_count": 19,
   "id": "cf8fec2b-e71a-4c54-81f5-b3c874d9ede0",
   "metadata": {},
   "outputs": [
    {
     "data": {
      "text/html": [
       "\n",
       "  <div id=\"3ea68dd5-e6f8-4eb6-882f-a01c24d21268\" data-root-id=\"p1139\" style=\"display: contents;\"></div>\n"
      ]
     },
     "metadata": {},
     "output_type": "display_data"
    },
    {
     "data": {
      "application/javascript": [
       "(function(root) {\n",
       "  function embed_document(root) {\n",
       "  const docs_json = {\"16b30121-5bd8-4dd8-9764-f8d808478355\":{\"version\":\"3.0.1\",\"title\":\"Bokeh Application\",\"defs\":[],\"roots\":[{\"type\":\"object\",\"name\":\"Figure\",\"id\":\"p1139\",\"attributes\":{\"width\":750,\"height\":500,\"x_range\":{\"type\":\"object\",\"name\":\"FactorRange\",\"id\":\"p1149\",\"attributes\":{\"factors\":[\"#ceb.wikipedia\",\"#sv.wikipedia\",\"#en.wikipedia\",\"#fr.wikipedia\",\"#ru.wikipedia\",\"#de.wikipedia\",\"#it.wikipedia\",\"#es.wikipedia\",\"#pt.wikipedia\",\"#nl.wikipedia\"]}},\"y_range\":{\"type\":\"object\",\"name\":\"DataRange1d\",\"id\":\"p1141\",\"attributes\":{\"start\":0}},\"x_scale\":{\"type\":\"object\",\"name\":\"CategoricalScale\",\"id\":\"p1153\"},\"y_scale\":{\"type\":\"object\",\"name\":\"LinearScale\",\"id\":\"p1155\"},\"title\":{\"type\":\"object\",\"name\":\"Title\",\"id\":\"p1142\",\"attributes\":{\"text\":\"Editors vs robots\"}},\"renderers\":[{\"type\":\"object\",\"name\":\"GlyphRenderer\",\"id\":\"p1191\",\"attributes\":{\"data_source\":{\"type\":\"object\",\"name\":\"ColumnDataSource\",\"id\":\"p1185\",\"attributes\":{\"selected\":{\"type\":\"object\",\"name\":\"Selection\",\"id\":\"p1187\",\"attributes\":{\"indices\":[],\"line_indices\":[]}},\"selection_policy\":{\"type\":\"object\",\"name\":\"UnionRenderers\",\"id\":\"p1186\"},\"data\":{\"type\":\"map\",\"entries\":[[\"x\",[\"#ceb.wikipedia\",\"#sv.wikipedia\",\"#en.wikipedia\",\"#fr.wikipedia\",\"#ru.wikipedia\",\"#de.wikipedia\",\"#it.wikipedia\",\"#es.wikipedia\",\"#pt.wikipedia\",\"#nl.wikipedia\"]],[\"y\",[3280.235,2748.599,2068.62,498.994,403.344,380.768,267.957,225.09,197.268,135.426]]]}}},\"view\":{\"type\":\"object\",\"name\":\"CDSView\",\"id\":\"p1192\",\"attributes\":{\"filter\":{\"type\":\"object\",\"name\":\"AllIndices\",\"id\":\"p1193\"}}},\"glyph\":{\"type\":\"object\",\"name\":\"Line\",\"id\":\"p1188\",\"attributes\":{\"x\":{\"type\":\"field\",\"field\":\"x\"},\"y\":{\"type\":\"field\",\"field\":\"y\"},\"line_color\":\"#5e4fa2\",\"line_width\":3}},\"nonselection_glyph\":{\"type\":\"object\",\"name\":\"Line\",\"id\":\"p1189\",\"attributes\":{\"x\":{\"type\":\"field\",\"field\":\"x\"},\"y\":{\"type\":\"field\",\"field\":\"y\"},\"line_color\":\"#5e4fa2\",\"line_alpha\":0.1,\"line_width\":3}},\"muted_glyph\":{\"type\":\"object\",\"name\":\"Line\",\"id\":\"p1190\",\"attributes\":{\"x\":{\"type\":\"field\",\"field\":\"x\"},\"y\":{\"type\":\"field\",\"field\":\"y\"},\"line_color\":\"#5e4fa2\",\"line_alpha\":0.2,\"line_width\":3}}}},{\"type\":\"object\",\"name\":\"GlyphRenderer\",\"id\":\"p1215\",\"attributes\":{\"data_source\":{\"type\":\"object\",\"name\":\"ColumnDataSource\",\"id\":\"p1209\",\"attributes\":{\"selected\":{\"type\":\"object\",\"name\":\"Selection\",\"id\":\"p1211\",\"attributes\":{\"indices\":[],\"line_indices\":[]}},\"selection_policy\":{\"type\":\"object\",\"name\":\"UnionRenderers\",\"id\":\"p1210\"},\"data\":{\"type\":\"map\",\"entries\":[[\"x\",[\"#ceb.wikipedia\",\"#sv.wikipedia\",\"#en.wikipedia\",\"#fr.wikipedia\",\"#ru.wikipedia\",\"#de.wikipedia\",\"#it.wikipedia\",\"#es.wikipedia\",\"#pt.wikipedia\",\"#nl.wikipedia\"]],[\"y\",[3,74,3032,537,522,675,328,439,205,153]]]}}},\"view\":{\"type\":\"object\",\"name\":\"CDSView\",\"id\":\"p1216\",\"attributes\":{\"filter\":{\"type\":\"object\",\"name\":\"AllIndices\",\"id\":\"p1217\"}}},\"glyph\":{\"type\":\"object\",\"name\":\"Line\",\"id\":\"p1212\",\"attributes\":{\"x\":{\"type\":\"field\",\"field\":\"x\"},\"y\":{\"type\":\"field\",\"field\":\"y\"},\"line_color\":\"#abdda4\",\"line_width\":3,\"line_dash\":[6]}},\"nonselection_glyph\":{\"type\":\"object\",\"name\":\"Line\",\"id\":\"p1213\",\"attributes\":{\"x\":{\"type\":\"field\",\"field\":\"x\"},\"y\":{\"type\":\"field\",\"field\":\"y\"},\"line_color\":\"#abdda4\",\"line_alpha\":0.1,\"line_width\":3,\"line_dash\":[6]}},\"muted_glyph\":{\"type\":\"object\",\"name\":\"Line\",\"id\":\"p1214\",\"attributes\":{\"x\":{\"type\":\"field\",\"field\":\"x\"},\"y\":{\"type\":\"field\",\"field\":\"y\"},\"line_color\":\"#abdda4\",\"line_alpha\":0.2,\"line_width\":3,\"line_dash\":[6]}}}},{\"type\":\"object\",\"name\":\"GlyphRenderer\",\"id\":\"p1243\",\"attributes\":{\"data_source\":{\"type\":\"object\",\"name\":\"ColumnDataSource\",\"id\":\"p1237\",\"attributes\":{\"selected\":{\"type\":\"object\",\"name\":\"Selection\",\"id\":\"p1239\",\"attributes\":{\"indices\":[],\"line_indices\":[]}},\"selection_policy\":{\"type\":\"object\",\"name\":\"UnionRenderers\",\"id\":\"p1238\"},\"data\":{\"type\":\"map\",\"entries\":[[\"x\",[\"#ceb.wikipedia\",\"#sv.wikipedia\",\"#en.wikipedia\",\"#fr.wikipedia\",\"#ru.wikipedia\",\"#de.wikipedia\",\"#it.wikipedia\",\"#es.wikipedia\",\"#pt.wikipedia\",\"#nl.wikipedia\"]],[\"y\",[1808,1744,536,180,66,186,422,50,13,11]]]}}},\"view\":{\"type\":\"object\",\"name\":\"CDSView\",\"id\":\"p1244\",\"attributes\":{\"filter\":{\"type\":\"object\",\"name\":\"AllIndices\",\"id\":\"p1245\"}}},\"glyph\":{\"type\":\"object\",\"name\":\"Line\",\"id\":\"p1240\",\"attributes\":{\"x\":{\"type\":\"field\",\"field\":\"x\"},\"y\":{\"type\":\"field\",\"field\":\"y\"},\"line_color\":\"#f46d43\",\"line_width\":3,\"line_dash\":[2,4]}},\"nonselection_glyph\":{\"type\":\"object\",\"name\":\"Line\",\"id\":\"p1241\",\"attributes\":{\"x\":{\"type\":\"field\",\"field\":\"x\"},\"y\":{\"type\":\"field\",\"field\":\"y\"},\"line_color\":\"#f46d43\",\"line_alpha\":0.1,\"line_width\":3,\"line_dash\":[2,4]}},\"muted_glyph\":{\"type\":\"object\",\"name\":\"Line\",\"id\":\"p1242\",\"attributes\":{\"x\":{\"type\":\"field\",\"field\":\"x\"},\"y\":{\"type\":\"field\",\"field\":\"y\"},\"line_color\":\"#f46d43\",\"line_alpha\":0.2,\"line_width\":3,\"line_dash\":[2,4]}}}}],\"toolbar\":{\"type\":\"object\",\"name\":\"Toolbar\",\"id\":\"p1147\",\"attributes\":{\"tools\":[{\"type\":\"object\",\"name\":\"PanTool\",\"id\":\"p1170\"},{\"type\":\"object\",\"name\":\"WheelZoomTool\",\"id\":\"p1171\"},{\"type\":\"object\",\"name\":\"BoxZoomTool\",\"id\":\"p1172\",\"attributes\":{\"overlay\":{\"type\":\"object\",\"name\":\"BoxAnnotation\",\"id\":\"p1173\",\"attributes\":{\"syncable\":false,\"level\":\"overlay\",\"visible\":false,\"left_units\":\"canvas\",\"right_units\":\"canvas\",\"bottom_units\":\"canvas\",\"top_units\":\"canvas\",\"line_color\":\"black\",\"line_alpha\":1.0,\"line_width\":2,\"line_dash\":[4,4],\"fill_color\":\"lightgrey\",\"fill_alpha\":0.5}}}},{\"type\":\"object\",\"name\":\"SaveTool\",\"id\":\"p1174\"},{\"type\":\"object\",\"name\":\"ResetTool\",\"id\":\"p1175\"},{\"type\":\"object\",\"name\":\"HelpTool\",\"id\":\"p1176\"}]}},\"left\":[{\"type\":\"object\",\"name\":\"LinearAxis\",\"id\":\"p1163\",\"attributes\":{\"ticker\":{\"type\":\"object\",\"name\":\"BasicTicker\",\"id\":\"p1164\",\"attributes\":{\"mantissas\":[1,2,5]}},\"formatter\":{\"type\":\"object\",\"name\":\"BasicTickFormatter\",\"id\":\"p1165\"},\"major_label_policy\":{\"type\":\"object\",\"name\":\"AllLabels\",\"id\":\"p1166\"}}}],\"below\":[{\"type\":\"object\",\"name\":\"CategoricalAxis\",\"id\":\"p1157\",\"attributes\":{\"ticker\":{\"type\":\"object\",\"name\":\"CategoricalTicker\",\"id\":\"p1158\"},\"formatter\":{\"type\":\"object\",\"name\":\"CategoricalTickFormatter\",\"id\":\"p1159\"},\"major_label_policy\":{\"type\":\"object\",\"name\":\"AllLabels\",\"id\":\"p1160\"}}}],\"center\":[{\"type\":\"object\",\"name\":\"Grid\",\"id\":\"p1162\",\"attributes\":{\"axis\":{\"id\":\"p1157\"}}},{\"type\":\"object\",\"name\":\"Grid\",\"id\":\"p1169\",\"attributes\":{\"dimension\":1,\"axis\":{\"id\":\"p1163\"}}},{\"type\":\"object\",\"name\":\"Legend\",\"id\":\"p1207\",\"attributes\":{\"items\":[{\"type\":\"object\",\"name\":\"LegendItem\",\"id\":\"p1208\",\"attributes\":{\"label\":{\"type\":\"value\",\"value\":\"Additions x 1000\"},\"renderers\":[{\"id\":\"p1191\"}]}},{\"type\":\"object\",\"name\":\"LegendItem\",\"id\":\"p1236\",\"attributes\":{\"label\":{\"type\":\"value\",\"value\":\"Editors\"},\"renderers\":[{\"id\":\"p1215\"}]}},{\"type\":\"object\",\"name\":\"LegendItem\",\"id\":\"p1269\",\"attributes\":{\"label\":{\"type\":\"value\",\"value\":\"Robots\"},\"renderers\":[{\"id\":\"p1243\"}]}}]}}]}}]}};\n",
       "  const render_items = [{\"docid\":\"16b30121-5bd8-4dd8-9764-f8d808478355\",\"roots\":{\"p1139\":\"3ea68dd5-e6f8-4eb6-882f-a01c24d21268\"},\"root_ids\":[\"p1139\"]}];\n",
       "  root.Bokeh.embed.embed_items_notebook(docs_json, render_items);\n",
       "  }\n",
       "  if (root.Bokeh !== undefined) {\n",
       "    embed_document(root);\n",
       "  } else {\n",
       "    let attempts = 0;\n",
       "    const timer = setInterval(function(root) {\n",
       "      if (root.Bokeh !== undefined) {\n",
       "        clearInterval(timer);\n",
       "        embed_document(root);\n",
       "      } else {\n",
       "        attempts++;\n",
       "        if (attempts > 100) {\n",
       "          clearInterval(timer);\n",
       "          console.log(\"Bokeh: ERROR: Unable to run BokehJS code because BokehJS library is missing\");\n",
       "        }\n",
       "      }\n",
       "    }, 10, root)\n",
       "  }\n",
       "})(window);"
      ],
      "application/vnd.bokehjs_exec.v0+json": ""
     },
     "metadata": {
      "application/vnd.bokehjs_exec.v0+json": {
       "id": "p1139"
      }
     },
     "output_type": "display_data"
    }
   ],
   "source": [
    "show(line_plot)"
   ]
  },
  {
   "cell_type": "markdown",
   "id": "963d9bdf-a9f2-455c-8c32-997f2df06827",
   "metadata": {},
   "source": [
    "The graph shows some interesting data: channels with more bots editing topics tend to have fewer users editing the topics. Those are some hard-working bots!\n",
    "\n",
    "Notice the toolbar to the right of the plot. You can use it to focus and navigate around the plot."
   ]
  },
  {
   "cell_type": "markdown",
   "id": "8fbfa1fa-2cde-46d5-8107-60bd436fb64e",
   "metadata": {
    "tags": []
   },
   "source": [
    "## Next steps\n",
    "\n",
    "This tutorial covers the absolute basics for visualization with Apache Druid, pandas, and Bokeh. See the following topics to learn more about the various visualizations you can build:\n",
    "\n",
    "- [Druid SQL API](https://druid.apache.org/docs/latest/querying/sql-api.html)\n",
    "- [pandas](https://pandas.pydata.org/)\n",
    "- [Bokeh](https://bokeh.org/)\n",
    "\n",
    "\n",
    "\n",
    "\n",
    "\n"
   ]
  }
 ],
 "metadata": {
  "kernelspec": {
   "display_name": "Python 3 (ipykernel)",
   "language": "python",
   "name": "python3"
  },
  "language_info": {
   "codemirror_mode": {
    "name": "ipython",
    "version": 3
   },
   "file_extension": ".py",
   "mimetype": "text/x-python",
   "name": "python",
   "nbconvert_exporter": "python",
   "pygments_lexer": "ipython3",
   "version": "3.8.16"
  },
  "toc-autonumbering": false,
  "toc-showcode": false,
  "toc-showmarkdowntxt": false,
  "vscode": {
   "interpreter": {
    "hash": "b0fa6594d8f4cbf19f97940f81e996739fb7646882a419484c72d19e05852a7e"
   }
  }
 },
 "nbformat": 4,
 "nbformat_minor": 5
}
